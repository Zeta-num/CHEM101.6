{
  "nbformat": 4,
  "nbformat_minor": 0,
  "metadata": {
    "accelerator": "GPU",
    "colab": {
      "name": "Butane_OpenMM.ipynb",
      "provenance": [],
      "collapsed_sections": [],
      "include_colab_link": true
    },
    "kernelspec": {
      "display_name": "Python 3",
      "name": "python3"
    },
    "widgets": {
      "application/vnd.jupyter.widget-state+json": {
        "83db740ce4824bf4883bd3f430e3987f": {
          "model_module": "nglview-js-widgets",
          "model_name": "ColormakerRegistryModel",
          "model_module_version": "3.0.1",
          "state": {
            "_dom_classes": [],
            "_model_module": "nglview-js-widgets",
            "_model_module_version": "3.0.1",
            "_model_name": "ColormakerRegistryModel",
            "_msg_ar": [],
            "_msg_q": [],
            "_ready": true,
            "_view_count": null,
            "_view_module": "nglview-js-widgets",
            "_view_module_version": "3.0.1",
            "_view_name": "ColormakerRegistryView",
            "layout": "IPY_MODEL_f5f3dea540f6438b9b62f4f130385246"
          }
        },
        "f5f3dea540f6438b9b62f4f130385246": {
          "model_module": "@jupyter-widgets/base",
          "model_name": "LayoutModel",
          "model_module_version": "1.2.0",
          "state": {
            "_model_module": "@jupyter-widgets/base",
            "_model_module_version": "1.2.0",
            "_model_name": "LayoutModel",
            "_view_count": null,
            "_view_module": "@jupyter-widgets/base",
            "_view_module_version": "1.2.0",
            "_view_name": "LayoutView",
            "align_content": null,
            "align_items": null,
            "align_self": null,
            "border": null,
            "bottom": null,
            "display": null,
            "flex": null,
            "flex_flow": null,
            "grid_area": null,
            "grid_auto_columns": null,
            "grid_auto_flow": null,
            "grid_auto_rows": null,
            "grid_column": null,
            "grid_gap": null,
            "grid_row": null,
            "grid_template_areas": null,
            "grid_template_columns": null,
            "grid_template_rows": null,
            "height": null,
            "justify_content": null,
            "justify_items": null,
            "left": null,
            "margin": null,
            "max_height": null,
            "max_width": null,
            "min_height": null,
            "min_width": null,
            "object_fit": null,
            "object_position": null,
            "order": null,
            "overflow": null,
            "overflow_x": null,
            "overflow_y": null,
            "padding": null,
            "right": null,
            "top": null,
            "visibility": null,
            "width": null
          }
        },
        "87c1be9fc130427a8beb930a2286a246": {
          "model_module": "nglview-js-widgets",
          "model_name": "NGLModel",
          "model_module_version": "3.0.1",
          "state": {
            "_camera_orientation": [
              3.553580405626126,
              -9.438489202155228,
              -10.787158050489335,
              0,
              1.362473090377508,
              -10.840979029621346,
              9.934416524486679,
              0,
              -14.26855018225165,
              -3.3858361131035806,
              -1.737924174541668,
              0,
              0.10000002384185791,
              0.021499991416931152,
              -0.07450008392333984,
              1
            ],
            "_camera_str": "orthographic",
            "_dom_classes": [],
            "_gui_theme": null,
            "_ibtn_fullscreen": "IPY_MODEL_a3b0f87e05d641888efc3ee974e0f955",
            "_igui": null,
            "_iplayer": "IPY_MODEL_3b178db2b36b401bbb76ad1b1401e3fa",
            "_model_module": "nglview-js-widgets",
            "_model_module_version": "3.0.1",
            "_model_name": "NGLModel",
            "_ngl_color_dict": {},
            "_ngl_coordinate_resource": {},
            "_ngl_full_stage_parameters": {
              "impostor": true,
              "quality": "medium",
              "workerDefault": true,
              "sampleLevel": 0,
              "backgroundColor": "white",
              "rotateSpeed": 2,
              "zoomSpeed": 1.2,
              "panSpeed": 1,
              "clipNear": 0,
              "clipFar": 100,
              "clipDist": 10,
              "fogNear": 50,
              "fogFar": 100,
              "cameraFov": 40,
              "cameraEyeSep": 0.3,
              "cameraType": "perspective",
              "lightColor": 14540253,
              "lightIntensity": 1,
              "ambientColor": 14540253,
              "ambientIntensity": 0.2,
              "hoverTimeout": 0,
              "tooltip": true,
              "mousePreset": "default"
            },
            "_ngl_msg_archive": [
              {
                "target": "Stage",
                "type": "call_method",
                "methodName": "loadFile",
                "reconstruc_color_scheme": false,
                "args": [
                  {
                    "type": "blob",
                    "data": "MODEL        0\nATOM      1  C1  NBU A   0      -1.001   0.568  -1.550  1.00  0.00           C  \nATOM      2  C2  NBU A   0      -0.453   0.596  -0.101  1.00  0.00           C  \nATOM      3  C3  NBU A   0       0.454  -0.589   0.247  1.00  0.00           C  \nATOM      4  C4  NBU A   0       1.026  -0.586   1.689  1.00  0.00           C  \nATOM      5  H11 NBU A   0      -1.929   1.153  -1.540  1.00  0.00           H  \nATOM      6  H12 NBU A   0      -0.332   1.144  -2.202  1.00  0.00           H  \nATOM      7  H13 NBU A   0      -1.235  -0.446  -1.898  1.00  0.00           H  \nATOM      8  H21 NBU A   0       0.087   1.516   0.154  1.00  0.00           H  \nATOM      9  H22 NBU A   0      -1.395   0.608   0.460  1.00  0.00           H  \nATOM     10  H31 NBU A   0      -0.033  -1.559   0.090  1.00  0.00           H  \nATOM     11  H32 NBU A   0       1.312  -0.478  -0.427  1.00  0.00           H  \nATOM     12  H41 NBU A   0       1.729  -1.410   1.868  1.00  0.00           H  \nATOM     13  H42 NBU A   0       1.553   0.349   1.918  1.00  0.00           H  \nATOM     14  H43 NBU A   0       0.160  -0.704   2.351  1.00  0.00           H  \nTER      15      NBU A   0\nENDMDL\nCONECT    1    2    5    6    7\nCONECT    2    1    3    8    9\nCONECT    3    2    4   10   11\nCONECT    4    3   12   13   14\nCONECT    5    1\nCONECT    6    1\nCONECT    7    1\nCONECT    8    2\nCONECT    9    2\nCONECT   10    3\nCONECT   11    3\nCONECT   12    4\nCONECT   13    4\nCONECT   14    4\nEND\n",
                    "binary": false
                  }
                ],
                "kwargs": {
                  "name": "nglview.adaptor.MDTrajTrajectory",
                  "defaultRepresentation": true,
                  "ext": "pdb"
                }
              }
            ],
            "_ngl_original_stage_parameters": {
              "impostor": true,
              "quality": "medium",
              "workerDefault": true,
              "sampleLevel": 0,
              "backgroundColor": "white",
              "rotateSpeed": 2,
              "zoomSpeed": 1.2,
              "panSpeed": 1,
              "clipNear": 0,
              "clipFar": 100,
              "clipDist": 10,
              "fogNear": 50,
              "fogFar": 100,
              "cameraFov": 40,
              "cameraEyeSep": 0.3,
              "cameraType": "perspective",
              "lightColor": 14540253,
              "lightIntensity": 1,
              "ambientColor": 14540253,
              "ambientIntensity": 0.2,
              "hoverTimeout": 0,
              "tooltip": true,
              "mousePreset": "default"
            },
            "_ngl_repr_dict": {
              "0": {
                "0": {
                  "type": "ball+stick",
                  "params": {
                    "lazy": false,
                    "visible": true,
                    "quality": "high",
                    "sphereDetail": 2,
                    "radialSegments": 20,
                    "openEnded": true,
                    "disableImpostor": false,
                    "aspectRatio": 1.5,
                    "lineOnly": false,
                    "cylinderOnly": false,
                    "multipleBond": "off",
                    "bondScale": 0.3,
                    "bondSpacing": 0.75,
                    "linewidth": 2,
                    "radiusType": "size",
                    "radiusData": {},
                    "radiusSize": 0.15,
                    "radiusScale": 2,
                    "assembly": "default",
                    "defaultAssembly": "",
                    "clipNear": 0,
                    "clipRadius": 0,
                    "clipCenter": {
                      "x": 0,
                      "y": 0,
                      "z": 0
                    },
                    "flatShaded": false,
                    "opacity": 1,
                    "depthWrite": true,
                    "side": "double",
                    "wireframe": false,
                    "colorScheme": "element",
                    "colorScale": "",
                    "colorReverse": false,
                    "colorValue": 9474192,
                    "colorMode": "hcl",
                    "roughness": 0.4,
                    "metalness": 0,
                    "diffuse": 16777215,
                    "diffuseInterior": false,
                    "useInteriorColor": true,
                    "interiorColor": 2236962,
                    "interiorDarkening": 0,
                    "matrix": {
                      "elements": [
                        1,
                        0,
                        0,
                        0,
                        0,
                        1,
                        0,
                        0,
                        0,
                        0,
                        1,
                        0,
                        0,
                        0,
                        0,
                        1
                      ]
                    },
                    "disablePicking": false,
                    "sele": ""
                  }
                }
              },
              "1": {
                "0": {
                  "type": "ball+stick",
                  "params": {
                    "lazy": false,
                    "visible": true,
                    "quality": "high",
                    "sphereDetail": 2,
                    "radialSegments": 20,
                    "openEnded": true,
                    "disableImpostor": false,
                    "aspectRatio": 1.5,
                    "lineOnly": false,
                    "cylinderOnly": false,
                    "multipleBond": "off",
                    "bondScale": 0.3,
                    "bondSpacing": 0.75,
                    "linewidth": 2,
                    "radiusType": "size",
                    "radiusData": {},
                    "radiusSize": 0.15,
                    "radiusScale": 2,
                    "assembly": "default",
                    "defaultAssembly": "",
                    "clipNear": 0,
                    "clipRadius": 0,
                    "clipCenter": {
                      "x": 0,
                      "y": 0,
                      "z": 0
                    },
                    "flatShaded": false,
                    "opacity": 1,
                    "depthWrite": true,
                    "side": "double",
                    "wireframe": false,
                    "colorScheme": "element",
                    "colorScale": "",
                    "colorReverse": false,
                    "colorValue": 9474192,
                    "colorMode": "hcl",
                    "roughness": 0.4,
                    "metalness": 0,
                    "diffuse": 16777215,
                    "diffuseInterior": false,
                    "useInteriorColor": true,
                    "interiorColor": 2236962,
                    "interiorDarkening": 0,
                    "matrix": {
                      "elements": [
                        1,
                        0,
                        0,
                        0,
                        0,
                        1,
                        0,
                        0,
                        0,
                        0,
                        1,
                        0,
                        0,
                        0,
                        0,
                        1
                      ]
                    },
                    "disablePicking": false,
                    "sele": ""
                  }
                }
              }
            },
            "_ngl_serialize": false,
            "_ngl_version": "2.0.0-dev.36",
            "_ngl_view_id": [
              "1B67A45C-F279-44CC-B992-27014ADFBFC7"
            ],
            "_player_dict": {},
            "_scene_position": {},
            "_scene_rotation": {},
            "_synced_model_ids": [],
            "_synced_repr_model_ids": [],
            "_view_count": null,
            "_view_height": "",
            "_view_module": "nglview-js-widgets",
            "_view_module_version": "3.0.1",
            "_view_name": "NGLView",
            "_view_width": "",
            "background": "white",
            "frame": 16308,
            "gui_style": null,
            "layout": "IPY_MODEL_0ab343e479244c289a115488d25c263d",
            "max_frame": 99999,
            "n_components": 2,
            "picked": {}
          }
        },
        "0ab343e479244c289a115488d25c263d": {
          "model_module": "@jupyter-widgets/base",
          "model_name": "LayoutModel",
          "model_module_version": "1.2.0",
          "state": {
            "_model_module": "@jupyter-widgets/base",
            "_model_module_version": "1.2.0",
            "_model_name": "LayoutModel",
            "_view_count": null,
            "_view_module": "@jupyter-widgets/base",
            "_view_module_version": "1.2.0",
            "_view_name": "LayoutView",
            "align_content": null,
            "align_items": null,
            "align_self": null,
            "border": null,
            "bottom": null,
            "display": null,
            "flex": null,
            "flex_flow": null,
            "grid_area": null,
            "grid_auto_columns": null,
            "grid_auto_flow": null,
            "grid_auto_rows": null,
            "grid_column": null,
            "grid_gap": null,
            "grid_row": null,
            "grid_template_areas": null,
            "grid_template_columns": null,
            "grid_template_rows": null,
            "height": null,
            "justify_content": null,
            "justify_items": null,
            "left": null,
            "margin": null,
            "max_height": null,
            "max_width": null,
            "min_height": null,
            "min_width": null,
            "object_fit": null,
            "object_position": null,
            "order": null,
            "overflow": null,
            "overflow_x": null,
            "overflow_y": null,
            "padding": null,
            "right": null,
            "top": null,
            "visibility": null,
            "width": null
          }
        },
        "a3b0f87e05d641888efc3ee974e0f955": {
          "model_module": "@jupyter-widgets/controls",
          "model_name": "ButtonModel",
          "model_module_version": "1.5.0",
          "state": {
            "_dom_classes": [],
            "_model_module": "@jupyter-widgets/controls",
            "_model_module_version": "1.5.0",
            "_model_name": "ButtonModel",
            "_view_count": null,
            "_view_module": "@jupyter-widgets/controls",
            "_view_module_version": "1.5.0",
            "_view_name": "ButtonView",
            "button_style": "",
            "description": "",
            "disabled": false,
            "icon": "compress",
            "layout": "IPY_MODEL_00aa2a047eb84bc2abfe11e3575e8723",
            "style": "IPY_MODEL_f30500d9cb5b4d73a3424b2e0fcd376a",
            "tooltip": ""
          }
        },
        "3b178db2b36b401bbb76ad1b1401e3fa": {
          "model_module": "@jupyter-widgets/controls",
          "model_name": "HBoxModel",
          "model_module_version": "1.5.0",
          "state": {
            "_dom_classes": [],
            "_model_module": "@jupyter-widgets/controls",
            "_model_module_version": "1.5.0",
            "_model_name": "HBoxModel",
            "_view_count": null,
            "_view_module": "@jupyter-widgets/controls",
            "_view_module_version": "1.5.0",
            "_view_name": "HBoxView",
            "box_style": "",
            "children": [
              "IPY_MODEL_4ca07f051828406db3413a6817ea5a69",
              "IPY_MODEL_a4c853b3e1104fb7929bcc3529edf6b9"
            ],
            "layout": "IPY_MODEL_6c0fbe2440154110a121234298aa1226"
          }
        },
        "c2afa1d0ee1c456eb7f7a9d810432f2d": {
          "model_module": "@jupyter-widgets/base",
          "model_name": "LayoutModel",
          "model_module_version": "1.2.0",
          "state": {
            "_model_module": "@jupyter-widgets/base",
            "_model_module_version": "1.2.0",
            "_model_name": "LayoutModel",
            "_view_count": null,
            "_view_module": "@jupyter-widgets/base",
            "_view_module_version": "1.2.0",
            "_view_name": "LayoutView",
            "align_content": null,
            "align_items": null,
            "align_self": null,
            "border": null,
            "bottom": null,
            "display": null,
            "flex": null,
            "flex_flow": null,
            "grid_area": null,
            "grid_auto_columns": null,
            "grid_auto_flow": null,
            "grid_auto_rows": null,
            "grid_column": null,
            "grid_gap": null,
            "grid_row": null,
            "grid_template_areas": null,
            "grid_template_columns": null,
            "grid_template_rows": null,
            "height": null,
            "justify_content": null,
            "justify_items": null,
            "left": null,
            "margin": null,
            "max_height": null,
            "max_width": null,
            "min_height": null,
            "min_width": null,
            "object_fit": null,
            "object_position": null,
            "order": null,
            "overflow": null,
            "overflow_x": null,
            "overflow_y": null,
            "padding": null,
            "right": null,
            "top": null,
            "visibility": null,
            "width": null
          }
        },
        "ffedcfc4330846e7af8c2063c3afa805": {
          "model_module": "@jupyter-widgets/controls",
          "model_name": "DescriptionStyleModel",
          "model_module_version": "1.5.0",
          "state": {
            "_model_module": "@jupyter-widgets/controls",
            "_model_module_version": "1.5.0",
            "_model_name": "DescriptionStyleModel",
            "_view_count": null,
            "_view_module": "@jupyter-widgets/base",
            "_view_module_version": "1.2.0",
            "_view_name": "StyleView",
            "description_width": ""
          }
        },
        "68e87104a52448c09680e99a8f09ea76": {
          "model_module": "@jupyter-widgets/base",
          "model_name": "LayoutModel",
          "model_module_version": "1.2.0",
          "state": {
            "_model_module": "@jupyter-widgets/base",
            "_model_module_version": "1.2.0",
            "_model_name": "LayoutModel",
            "_view_count": null,
            "_view_module": "@jupyter-widgets/base",
            "_view_module_version": "1.2.0",
            "_view_name": "LayoutView",
            "align_content": null,
            "align_items": null,
            "align_self": null,
            "border": null,
            "bottom": null,
            "display": null,
            "flex": null,
            "flex_flow": null,
            "grid_area": null,
            "grid_auto_columns": null,
            "grid_auto_flow": null,
            "grid_auto_rows": null,
            "grid_column": null,
            "grid_gap": null,
            "grid_row": null,
            "grid_template_areas": null,
            "grid_template_columns": null,
            "grid_template_rows": null,
            "height": null,
            "justify_content": null,
            "justify_items": null,
            "left": null,
            "margin": null,
            "max_height": null,
            "max_width": null,
            "min_height": null,
            "min_width": null,
            "object_fit": null,
            "object_position": null,
            "order": null,
            "overflow": null,
            "overflow_x": null,
            "overflow_y": null,
            "padding": null,
            "right": null,
            "top": null,
            "visibility": null,
            "width": null
          }
        },
        "044339a31c6347a4bd7fa94e45960bdc": {
          "model_module": "@jupyter-widgets/controls",
          "model_name": "SliderStyleModel",
          "model_module_version": "1.5.0",
          "state": {
            "_model_module": "@jupyter-widgets/controls",
            "_model_module_version": "1.5.0",
            "_model_name": "SliderStyleModel",
            "_view_count": null,
            "_view_module": "@jupyter-widgets/base",
            "_view_module_version": "1.2.0",
            "_view_name": "StyleView",
            "description_width": "",
            "handle_color": null
          }
        },
        "4ca07f051828406db3413a6817ea5a69": {
          "model_module": "@jupyter-widgets/controls",
          "model_name": "PlayModel",
          "model_module_version": "1.5.0",
          "state": {
            "_dom_classes": [],
            "_model_module": "@jupyter-widgets/controls",
            "_model_module_version": "1.5.0",
            "_model_name": "PlayModel",
            "_playing": false,
            "_repeat": false,
            "_view_count": null,
            "_view_module": "@jupyter-widgets/controls",
            "_view_module_version": "1.5.0",
            "_view_name": "PlayView",
            "description": "",
            "description_tooltip": null,
            "disabled": false,
            "interval": 100,
            "layout": "IPY_MODEL_c2afa1d0ee1c456eb7f7a9d810432f2d",
            "max": 99999,
            "min": 0,
            "show_repeat": true,
            "step": 1,
            "style": "IPY_MODEL_ffedcfc4330846e7af8c2063c3afa805",
            "value": 16308,
            "playing": false,
            "repeat": true
          }
        },
        "a4c853b3e1104fb7929bcc3529edf6b9": {
          "model_module": "@jupyter-widgets/controls",
          "model_name": "IntSliderModel",
          "model_module_version": "1.5.0",
          "state": {
            "_dom_classes": [],
            "_model_module": "@jupyter-widgets/controls",
            "_model_module_version": "1.5.0",
            "_model_name": "IntSliderModel",
            "_view_count": null,
            "_view_module": "@jupyter-widgets/controls",
            "_view_module_version": "1.5.0",
            "_view_name": "IntSliderView",
            "continuous_update": true,
            "description": "",
            "description_tooltip": null,
            "disabled": false,
            "layout": "IPY_MODEL_68e87104a52448c09680e99a8f09ea76",
            "max": 99999,
            "min": 0,
            "orientation": "horizontal",
            "readout": true,
            "readout_format": "d",
            "step": 1,
            "style": "IPY_MODEL_044339a31c6347a4bd7fa94e45960bdc",
            "value": 16308
          }
        },
        "6c0fbe2440154110a121234298aa1226": {
          "model_module": "@jupyter-widgets/base",
          "model_name": "LayoutModel",
          "model_module_version": "1.2.0",
          "state": {
            "_model_module": "@jupyter-widgets/base",
            "_model_module_version": "1.2.0",
            "_model_name": "LayoutModel",
            "_view_count": null,
            "_view_module": "@jupyter-widgets/base",
            "_view_module_version": "1.2.0",
            "_view_name": "LayoutView",
            "align_content": null,
            "align_items": null,
            "align_self": null,
            "border": null,
            "bottom": null,
            "display": null,
            "flex": null,
            "flex_flow": null,
            "grid_area": null,
            "grid_auto_columns": null,
            "grid_auto_flow": null,
            "grid_auto_rows": null,
            "grid_column": null,
            "grid_gap": null,
            "grid_row": null,
            "grid_template_areas": null,
            "grid_template_columns": null,
            "grid_template_rows": null,
            "height": null,
            "justify_content": null,
            "justify_items": null,
            "left": null,
            "margin": null,
            "max_height": null,
            "max_width": null,
            "min_height": null,
            "min_width": null,
            "object_fit": null,
            "object_position": null,
            "order": null,
            "overflow": null,
            "overflow_x": null,
            "overflow_y": null,
            "padding": null,
            "right": null,
            "top": null,
            "visibility": null,
            "width": null
          }
        },
        "00aa2a047eb84bc2abfe11e3575e8723": {
          "model_module": "@jupyter-widgets/base",
          "model_name": "LayoutModel",
          "model_module_version": "1.2.0",
          "state": {
            "_model_module": "@jupyter-widgets/base",
            "_model_module_version": "1.2.0",
            "_model_name": "LayoutModel",
            "_view_count": null,
            "_view_module": "@jupyter-widgets/base",
            "_view_module_version": "1.2.0",
            "_view_name": "LayoutView",
            "align_content": null,
            "align_items": null,
            "align_self": null,
            "border": null,
            "bottom": null,
            "display": null,
            "flex": null,
            "flex_flow": null,
            "grid_area": null,
            "grid_auto_columns": null,
            "grid_auto_flow": null,
            "grid_auto_rows": null,
            "grid_column": null,
            "grid_gap": null,
            "grid_row": null,
            "grid_template_areas": null,
            "grid_template_columns": null,
            "grid_template_rows": null,
            "height": null,
            "justify_content": null,
            "justify_items": null,
            "left": null,
            "margin": null,
            "max_height": null,
            "max_width": null,
            "min_height": null,
            "min_width": null,
            "object_fit": null,
            "object_position": null,
            "order": null,
            "overflow": null,
            "overflow_x": null,
            "overflow_y": null,
            "padding": null,
            "right": null,
            "top": null,
            "visibility": null,
            "width": "34px"
          }
        },
        "f30500d9cb5b4d73a3424b2e0fcd376a": {
          "model_module": "@jupyter-widgets/controls",
          "model_name": "ButtonStyleModel",
          "model_module_version": "1.5.0",
          "state": {
            "_model_module": "@jupyter-widgets/controls",
            "_model_module_version": "1.5.0",
            "_model_name": "ButtonStyleModel",
            "_view_count": null,
            "_view_module": "@jupyter-widgets/base",
            "_view_module_version": "1.2.0",
            "_view_name": "StyleView",
            "button_color": null,
            "font_weight": ""
          }
        }
      }
    }
  },
  "cells": [
    {
      "cell_type": "markdown",
      "metadata": {
        "id": "view-in-github",
        "colab_type": "text"
      },
      "source": [
        "<a href=\"https://colab.research.google.com/github/Zeta-num/CHEM101.6/blob/main/solved_CHEM101.6_Exercise_0_Butane_OpenMM.ipynb\" target=\"_parent\"><img src=\"https://colab.research.google.com/assets/colab-badge.svg\" alt=\"Open In Colab\"/></a>"
      ]
    },
    {
      "cell_type": "markdown",
      "metadata": {
        "id": "pj2BWZxUDbEE"
      },
      "source": [
        "# **Hello there!**\n",
        "\n",
        "This is a Jupyter notebook for running Molecular Dynamics (MD) simulations of Alkanes using the OpenMM engine "
      ]
    },
    {
      "cell_type": "code",
      "metadata": {
        "id": "CY5Hv721m9xM",
        "colab": {
          "base_uri": "https://localhost:8080/",
          "height": 521
        },
        "outputId": "a1ea6933-3ba0-4145-ccd7-bf18e5b2c8b1"
      },
      "source": [
        "#@title ### **Video Demonstration**\n",
        "#@markdown Check the timelapse movie to understand how the pipeline works\n",
        "from IPython.display import YouTubeVideo\n",
        "YouTubeVideo('pVa0mQS6xeo', width=800, height=500)"
      ],
      "execution_count": null,
      "outputs": [
        {
          "output_type": "execute_result",
          "data": {
            "text/html": [
              "\n",
              "        <iframe\n",
              "            width=\"800\"\n",
              "            height=\"500\"\n",
              "            src=\"https://www.youtube.com/embed/pVa0mQS6xeo\"\n",
              "            frameborder=\"0\"\n",
              "            allowfullscreen\n",
              "        ></iframe>\n",
              "        "
            ],
            "text/plain": [
              "<IPython.lib.display.YouTubeVideo at 0x7feac27c5c90>"
            ],
            "image/jpeg": "[encoded data removed]"
          },
          "metadata": {},
          "execution_count": 1
        }
      ]
    },
    {
      "cell_type": "markdown",
      "metadata": {
        "id": "Lh96y6mGFY1D"
      },
      "source": [
        "---\n",
        "---\n",
        "# **Setting the environment for MD calculation**\n",
        "\n",
        "Firstly, we need to install all necessary libraries and packages for our simulation. The main packages we will be installing are:\n",
        "\n",
        "1.    Anaconda (https://docs.conda.io/en/latest/miniconda.html)\n",
        "2.    OpenMM (https://openmm.org/)\n",
        "3.    PyTraj (https://amber-md.github.io/pytraj/latest/index.html)\n",
        "4.    py3Dmol (https://pypi.org/project/py3Dmol/)\n",
        "5.    Numpy (https://numpy.org/)\n",
        "6.    Matplotlib (https://matplotlib.org/)\n",
        "7.    AmberTools (https://ambermd.org/AmberTools.php)"
      ]
    },
    {
      "cell_type": "code",
      "metadata": {
        "id": "wH1oMiVUlxO_",
        "colab": {
          "base_uri": "https://localhost:8080/"
        },
        "outputId": "46f20155-a144-4e61-d074-11e36dac2b86"
      },
      "source": [
        "# install dependencies\n",
        "!pip -q install py3Dmol 2>&1 1>/dev/null\n",
        "!pip install --upgrade MDAnalysis 2>&1 1>/dev/null\n",
        "!pip install biopandas 2>&1 1>/dev/null\n",
        "# install conda\n",
        "!wget -qnc https://repo.anaconda.com/miniconda/Miniconda3-latest-Linux-x86_64.sh \n",
        "!bash Miniconda3-latest-Linux-x86_64.sh -bfp /usr/local 2>&1 1>/dev/null\n",
        "!rm Miniconda3-latest-Linux-x86_64.sh\n",
        "!conda install -y -q -c conda-forge openmm=7.6 python=3.7 pdbfixer 2>&1 1>/dev/null\n",
        "!conda install -c conda-forge ambertools --yes 2>&1 1>/dev/null\n",
        "!conda install -c ambermd pytraj  --yes 2>&1 1>/dev/null\n"
      ],
      "execution_count": 1,
      "outputs": [
        {
          "output_type": "stream",
          "name": "stdout",
          "text": []
        }
      ]
    },
    {
      "cell_type": "code",
      "source": [
        "#load dependencies\n",
        "import sys\n",
        "sys.path.append('/usr/local/lib/python3.7/site-packages/')"
      ],
      "metadata": {
        "id": "m8veka9eL2S3"
      },
      "execution_count": 2,
      "outputs": []
    },
    {
      "cell_type": "code",
      "source": [
        "from openmm import *"
      ],
      "metadata": {
        "id": "lL4WKIi7iR9K"
      },
      "execution_count": 3,
      "outputs": []
    },
    {
      "cell_type": "code",
      "source": [
        "from openmm.app import *"
      ],
      "metadata": {
        "id": "rmM5trmoiu76"
      },
      "execution_count": 4,
      "outputs": []
    },
    {
      "cell_type": "code",
      "source": [
        "from openmm.unit import *"
      ],
      "metadata": {
        "id": "Sl8V9wxKixsA"
      },
      "execution_count": 5,
      "outputs": []
    },
    {
      "cell_type": "code",
      "source": [
        "from __future__ import print_function"
      ],
      "metadata": {
        "id": "mThZaUj3i-We"
      },
      "execution_count": 6,
      "outputs": []
    },
    {
      "cell_type": "code",
      "source": [
        "from biopandas.pdb import PandasPdb\n",
        "import openmm as mm\n",
        "import os\n",
        "import urllib.request  \n",
        "import numpy as np\n",
        "import MDAnalysis as mda\n",
        "import py3Dmol\n",
        "import pytraj as pt\n",
        "import platform\n",
        "import scipy.cluster.hierarchy\n",
        "from scipy.spatial.distance import squareform\n",
        "import scipy.stats as stats\n",
        "import matplotlib.pyplot as plt\n",
        "import pandas as pd\n",
        "from scipy.interpolate import griddata\n",
        "import seaborn as sb\n",
        "from statistics import mean, stdev\n",
        "from pytraj import matrix\n",
        "from matplotlib import colors\n",
        "from IPython.display import set_matplotlib_formats\n",
        "#%matplotlib inline\n",
        "#set_matplotlib_formats('png')\n",
        "#plt.figure(figsize=(5,7))"
      ],
      "metadata": {
        "id": "T-8otlM1i2Kh"
      },
      "execution_count": 7,
      "outputs": []
    },
    {
      "cell_type": "markdown",
      "metadata": {
        "id": "fDQnAKJLFxtt"
      },
      "source": [
        "## Using Google Drive to store simulation data\n",
        "\n",
        "Google Colab does not allow users to keep data on their computing nodes. However, we can use Google Drive to read, write, and store our simulations files. Therefore, we suggest to you to:\n",
        "\n",
        "1.   Create a folder in your own Google Drive and copy the necessary input files there.\n",
        "2.   Copy the path of your created directory. We will use it below."
      ]
    },
    {
      "cell_type": "code",
      "metadata": {
        "id": "Lm7Akepv_vl-",
        "colab": {
          "base_uri": "https://localhost:8080/"
        },
        "outputId": "10c9f93e-dd25-4db3-852a-1c743f631405"
      },
      "source": [
        "#@title ### **Import Google Drive**\n",
        "#@markdown Click in the \"Run\" buttom to make your Google Drive accessible.\n",
        "from google.colab import drive\n",
        "\n",
        "drive.flush_and_unmount()\n",
        "drive.mount('/content/drive', force_remount=True)"
      ],
      "execution_count": 8,
      "outputs": [
        {
          "output_type": "stream",
          "name": "stdout",
          "text": [
            "Drive not mounted, so nothing to flush and unmount.\n",
            "Mounted at /content/drive\n"
          ]
        }
      ]
    },
    {
      "cell_type": "code",
      "metadata": {
        "id": "lOKg9eH_ueRn",
        "colab": {
          "base_uri": "https://localhost:8080/"
        },
        "outputId": "e52703ce-85c1-4789-a5ab-02245ea500c0"
      },
      "source": [
        "#@title **Check if you correctly allocated GPU nodes**\n",
        "\n",
        "gpu_info = !nvidia-smi\n",
        "gpu_info = '\\n'.join(gpu_info)\n",
        "if gpu_info.find('failed') >= 0:\n",
        "  print('Select the Runtime > \"Change runtime type\" menu to enable a GPU accelerator, ')\n",
        "  print('and then re-execute this cell.')\n",
        "else:\n",
        "  print(gpu_info)"
      ],
      "execution_count": 9,
      "outputs": [
        {
          "output_type": "stream",
          "name": "stdout",
          "text": [
            "Wed Oct 19 14:12:05 2022       \n",
            "+-----------------------------------------------------------------------------+\n",
            "| NVIDIA-SMI 460.32.03    Driver Version: 460.32.03    CUDA Version: 11.2     |\n",
            "|-------------------------------+----------------------+----------------------+\n",
            "| GPU  Name        Persistence-M| Bus-Id        Disp.A | Volatile Uncorr. ECC |\n",
            "| Fan  Temp  Perf  Pwr:Usage/Cap|         Memory-Usage | GPU-Util  Compute M. |\n",
            "|                               |                      |               MIG M. |\n",
            "|===============================+======================+======================|\n",
            "|   0  Tesla T4            Off  | 00000000:00:04.0 Off |                    0 |\n",
            "| N/A   37C    P8     9W /  70W |      3MiB / 15109MiB |      0%      Default |\n",
            "|                               |                      |                  N/A |\n",
            "+-------------------------------+----------------------+----------------------+\n",
            "                                                                               \n",
            "+-----------------------------------------------------------------------------+\n",
            "| Processes:                                                                  |\n",
            "|  GPU   GI   CI        PID   Type   Process name                  GPU Memory |\n",
            "|        ID   ID                                                   Usage      |\n",
            "|=============================================================================|\n",
            "|  No running processes found                                                 |\n",
            "+-----------------------------------------------------------------------------+\n"
          ]
        }
      ]
    },
    {
      "cell_type": "code",
      "metadata": {
        "colab": {
          "base_uri": "https://localhost:8080/"
        },
        "id": "eLX8IGZO7MIg",
        "outputId": "42e86524-d0e7-45ff-ef77-b111bdabba5f"
      },
      "source": [
        "from simtk import unit\n",
        "from openmm import app\n",
        "\n",
        "#Lets Load in our Butane Molecule and Force Field from Our Google Drive\n",
        "PDB_file_name = 'butane.pdb'\n",
        "forcefield_file_name = 'butane.gaff2.cor1.xml' \n",
        "Google_Drive_Path = '/content/drive/MyDrive/CHEM_data' #@param {type:\"string\"}\n",
        "workDir = Google_Drive_Path\n",
        "initial_pdb = os.path.join(workDir, str(PDB_file_name))\n",
        "force_field = os.path.join(workDir,str(forcefield_file_name))\n",
        "print(initial_pdb)\n",
        "print(force_field )\n",
        "\n",
        "pdb = mm.app.PDBFile(initial_pdb)\n",
        "forcefield = mm.app.ForceField(force_field)\n",
        "\n",
        "\n",
        "system = forcefield.createSystem(pdb.topology, nonbondedMethod=mm.app.NoCutoff, constraints=mm.app.HBonds)\n",
        "integrator = mm.LangevinIntegrator(298.15*unit.kelvin, 5.0/unit.picoseconds, 2.0*unit.femtoseconds)\n",
        "integrator.setConstraintTolerance(1e-5)\n",
        "\n",
        "platform = mm.Platform.getPlatformByName('Reference')\n",
        "simulation = app.Simulation(pdb.topology, system, integrator, platform)\n",
        "simulation.context.setPositions(pdb.positions)"
      ],
      "execution_count": 13,
      "outputs": [
        {
          "output_type": "stream",
          "name": "stdout",
          "text": [
            "/content/drive/MyDrive/CHEM_data/butane.pdb\n",
            "/content/drive/MyDrive/CHEM_data/butane.gaff2.cor1.xml\n"
          ]
        }
      ]
    },
    {
      "cell_type": "code",
      "metadata": {
        "colab": {
          "base_uri": "https://localhost:8080/"
        },
        "id": "OA1RPmp18Ocw",
        "outputId": "de0949ee-a2d2-489a-fa13-93729ec6c470"
      },
      "source": [
        "integrator = mm.LangevinIntegrator(298.15*unit.kelvin, 5.0/unit.picoseconds, 2.0*unit.femtoseconds)\n",
        "integrator.setConstraintTolerance(1e-5)\n",
        "\n",
        "print('Minimizing...')\n",
        "\n",
        "st = simulation.context.getState(getPositions=True,getEnergy=True)\n",
        "print(F\"Potential energy before minimization is {st.getPotentialEnergy()}\")\n",
        "\n",
        "simulation.minimizeEnergy(maxIterations=100)\n",
        "\n",
        "st = simulation.context.getState(getPositions=True,getEnergy=True)\n",
        "print(F\"Potential energy after minimization is {st.getPotentialEnergy()}\")"
      ],
      "execution_count": 14,
      "outputs": [
        {
          "output_type": "stream",
          "name": "stdout",
          "text": [
            "Minimizing...\n",
            "Potential energy before minimization is 13.762958847842143 kJ/mol\n",
            "Potential energy after minimization is 7.550914791028611 kJ/mol\n"
          ]
        }
      ]
    },
    {
      "cell_type": "code",
      "metadata": {
        "colab": {
          "base_uri": "https://localhost:8080/"
        },
        "id": "hxKf7uhQ-kBZ",
        "outputId": "12d9e10d-606c-4665-d3a5-ef8b712fbc32"
      },
      "source": [
        "from sys import stdout\n",
        "\n",
        "print('Equilibrating...')\n",
        "\n",
        "simulation.reporters.append(app.StateDataReporter(stdout, 100, step=True, \n",
        "    potentialEnergy=True, temperature=True, separator=','))\n",
        "simulation.context.setVelocitiesToTemperature(150.0*unit.kelvin)\n",
        "simulation.step(2500)"
      ],
      "execution_count": 15,
      "outputs": [
        {
          "output_type": "stream",
          "name": "stdout",
          "text": [
            "Equilibrating...\n",
            "#\"Step\",\"Potential Energy (kJ/mole)\",\"Temperature (K)\"\n",
            "100,34.239454795784646,290.54649721208295\n",
            "200,44.76096324625976,230.90167375082746\n",
            "300,41.047983950797956,408.6664081334112\n",
            "400,60.18771904139109,334.13874612100824\n",
            "500,27.26910274094148,285.2541725293112\n",
            "600,29.89366253861016,329.0607962374288\n",
            "700,34.512153044150274,245.3470271539772\n",
            "800,47.739211390005245,269.60761266746465\n",
            "900,47.64784232977412,224.45319247388392\n",
            "1000,54.26385891343033,254.62880571760604\n",
            "1100,31.572107462768525,459.80084493225155\n",
            "1200,36.58914242635077,462.02557679395045\n",
            "1300,40.81312523317527,291.62822608052863\n",
            "1400,38.06220031168936,209.38127409093545\n",
            "1500,42.74320467039461,193.51971260581342\n",
            "1600,32.460556024558,251.3594236478653\n",
            "1700,39.929123821833116,355.384625080551\n",
            "1800,56.24501525729898,395.9893342539032\n",
            "1900,43.695766604850384,414.34117580735784\n",
            "2000,37.93969526156917,339.0809448459697\n",
            "2100,40.82162438414473,242.56288779949247\n",
            "2200,38.19073523290701,306.0860426531081\n",
            "2300,63.19160333557971,197.6686920603967\n",
            "2400,40.118059113693405,338.0104772179887\n",
            "2500,27.617976260518713,436.1018081169566\n"
          ]
        }
      ]
    },
    {
      "cell_type": "code",
      "metadata": {
        "colab": {
          "base_uri": "https://localhost:8080/"
        },
        "id": "G70V9fa6-s65",
        "outputId": "2512eb6c-09c2-426e-da7b-45f2b2096f56"
      },
      "source": [
        "import time as time\n",
        "\n",
        "print('Running Production...')\n",
        "\n",
        "# Begin timer\n",
        "tinit=time.time()\n",
        "\n",
        "# Clear simulation reporters\n",
        "simulation.reporters.clear()\n",
        "\n",
        "# Reinitialize simulation reporters. We do this because we want different information printed from the production run than the equilibration run.\n",
        "# output basic simulation information below every 250000 steps - (which is equal to 2 fs(250,000) = 500,000 fs = 500 ps)\n",
        "simulation.reporters.append(app.StateDataReporter(stdout, 250000, \n",
        "    step=True, time=True, potentialEnergy=True, temperature=True, \n",
        "    speed=True, separator=','))\n",
        "\n",
        "# write out a trajectory (i.e., coordinates vs. time) to a DCD\n",
        "# file every 100 steps - 0.2 ps\n",
        "simulation.reporters.append(app.DCDReporter('butane_sim.dcd', 100))\n",
        "\n",
        "# run the simulation for 1.0x10^7 steps - 20 ns\n",
        "simulation.step(10000000)\n",
        "\n",
        "# End timer\n",
        "tfinal=time.time()\n",
        "print('Done!')\n",
        "print('Time required for simulation:', tfinal-tinit, 'seconds')"
      ],
      "execution_count": 16,
      "outputs": [
        {
          "output_type": "stream",
          "name": "stdout",
          "text": [
            "Running Production...\n",
            "#\"Step\",\"Time (ps)\",\"Potential Energy (kJ/mole)\",\"Temperature (K)\",\"Speed (ns/day)\"\n",
            "250000,500.0000000016593,45.20756014396445,393.19392375808764,0\n",
            "500000,999.9999999901769,34.44422242660391,550.5077027752877,1.26e+04\n",
            "750000,1499.9999999783536,46.763157056354125,422.2310331897683,1.27e+04\n",
            "1000000,1999.9999999665301,40.70911422746302,268.2072927327508,1.26e+04\n",
            "1250000,2499.9999999547067,35.099308465267015,337.3121805582916,1.27e+04\n",
            "1500000,2999.9999999428833,32.76536762121754,651.3129137833946,1.27e+04\n",
            "1750000,3499.99999993106,34.93417735378418,222.16995547530897,1.28e+04\n",
            "2000000,3999.9999999192364,37.94014163418805,293.95427365223674,1.28e+04\n",
            "2250000,4499.9999999992715,48.532645748894915,258.3003458834938,1.27e+04\n",
            "2500000,5000.000000101135,38.202241069457855,330.46414958278683,1.28e+04\n",
            "2750000,5500.000000202998,35.63815512435015,316.5592925074326,1.28e+04\n",
            "3000000,6000.000000304862,25.68426339509114,434.1209751349042,1.27e+04\n",
            "3250000,6500.000000406725,71.86043176327328,359.7590068120916,1.27e+04\n",
            "3500000,7000.0000005085885,56.291428327777496,196.09286661192925,1.27e+04\n",
            "3750000,7500.000000610452,48.145431682214294,268.73164226815237,1.27e+04\n",
            "4000000,8000.000000712315,64.17833104739994,311.9200035620776,1.27e+04\n",
            "4250000,8500.000000814178,38.96002694694173,220.81374638143342,1.27e+04\n",
            "4500000,9000.000000916041,50.32061973550398,276.66884747186106,1.28e+04\n",
            "4750000,9500.000001017905,51.007991336547605,337.0403228348228,1.28e+04\n",
            "5000000,10000.000001119768,41.502717755694874,365.2364584098222,1.28e+04\n",
            "5250000,10500.000001221631,42.83616514553946,357.11596113044834,1.28e+04\n",
            "5500000,11000.000001323495,36.1845698705747,242.16763820513827,1.28e+04\n",
            "5750000,11500.000001425358,39.97415467179787,271.04177950877795,1.28e+04\n",
            "6000000,12000.000001527222,41.19774039791367,221.00632496452533,1.28e+04\n",
            "6250000,12500.000001629085,65.20338154210057,370.0363414622377,1.28e+04\n",
            "6500000,13000.000001730948,36.223612373527175,417.5443194221176,1.28e+04\n",
            "6750000,13500.000001832812,66.25355644967075,284.16717727806366,1.28e+04\n",
            "7000000,14000.000001934675,49.320801918603685,257.1306578733653,1.28e+04\n",
            "7250000,14500.000002036539,52.46777753736089,242.85707125110963,1.28e+04\n",
            "7500000,15000.000002138402,72.56391457038802,317.62612704641884,1.28e+04\n",
            "7750000,15500.000002240266,40.173435177408024,230.11291136295074,1.28e+04\n",
            "8000000,16000.000002342129,52.66061604003585,382.60284243571834,1.28e+04\n",
            "8250000,16500.00000244399,65.1229342651782,299.39072587559144,1.28e+04\n",
            "8500000,17000.000002545854,36.60509140891826,233.88504274898773,1.28e+04\n",
            "8750000,17500.000002647717,39.46304675358269,384.5570925174716,1.28e+04\n",
            "9000000,18000.00000274958,54.99249918683754,253.1081139079634,1.28e+04\n",
            "9250000,18500.000002851444,52.13453937243848,238.17168595090868,1.28e+04\n",
            "9500000,19000.000002953308,42.46873434684973,374.29430614387826,1.28e+04\n",
            "9750000,19500.00000305517,48.82879985308756,179.7316630274532,1.29e+04\n",
            "10000000,20000.000003157034,37.02131785971576,278.6469170724467,1.29e+04\n",
            "Done!\n",
            "Time required for simulation: 134.88450860977173 seconds\n"
          ]
        }
      ]
    },
    {
      "cell_type": "code",
      "metadata": {
        "colab": {
          "base_uri": "https://localhost:8080/"
        },
        "id": "01YETJ-X--5U",
        "outputId": "d24c1d2d-898b-4aef-cba3-e3fcd7e089f2"
      },
      "source": [
        "!pip install nglview 2>&1 1>/dev/null\n",
        "!conda install -c conda-forge mdtraj  --yes 2>&1 1>/dev/null"
      ],
      "execution_count": 17,
      "outputs": [
        {
          "output_type": "stream",
          "name": "stdout",
          "text": [
            "\u001b[33mWARNING: Running pip as the 'root' user can result in broken permissions and conflicting behaviour with the system package manager. It is recommended to use a virtual environment instead: https://pip.pypa.io/warnings/venv\u001b[0m\u001b[33m\n",
            "\u001b[0m"
          ]
        }
      ]
    },
    {
      "cell_type": "code",
      "metadata": {
        "id": "S7txpJFO_xSQ"
      },
      "source": [
        "import mdtraj as md\n",
        "traj = md.load('butane_sim.dcd', top=initial_pdb)\n"
      ],
      "execution_count": 18,
      "outputs": []
    },
    {
      "cell_type": "code",
      "metadata": {
        "colab": {
          "base_uri": "https://localhost:8080/",
          "height": 317,
          "referenced_widgets": [
            "83db740ce4824bf4883bd3f430e3987f",
            "f5f3dea540f6438b9b62f4f130385246",
            "87c1be9fc130427a8beb930a2286a246",
            "0ab343e479244c289a115488d25c263d",
            "a3b0f87e05d641888efc3ee974e0f955",
            "3b178db2b36b401bbb76ad1b1401e3fa",
            "c2afa1d0ee1c456eb7f7a9d810432f2d",
            "ffedcfc4330846e7af8c2063c3afa805",
            "68e87104a52448c09680e99a8f09ea76",
            "044339a31c6347a4bd7fa94e45960bdc",
            "4ca07f051828406db3413a6817ea5a69",
            "a4c853b3e1104fb7929bcc3529edf6b9",
            "6c0fbe2440154110a121234298aa1226",
            "00aa2a047eb84bc2abfe11e3575e8723",
            "f30500d9cb5b4d73a3424b2e0fcd376a"
          ]
        },
        "id": "o62FhIWVAWAT",
        "outputId": "a7c41882-1c0a-446d-9f6f-0f96fb2ab96d"
      },
      "source": [
        "import ipywidgets\n",
        "from ipywidgets import interact, fixed\n",
        "import warnings\n",
        "warnings.filterwarnings('ignore')\n",
        "from google.colab import output\n",
        "output.enable_custom_widget_manager()\n",
        "\n",
        "import nglview as ngl\n",
        "\n",
        "visualize = ngl.show_mdtraj(traj)\n",
        "visualize"
      ],
      "execution_count": 19,
      "outputs": [
        {
          "output_type": "display_data",
          "data": {
            "text/plain": [],
            "application/vnd.jupyter.widget-view+json": {
              "version_major": 2,
              "version_minor": 0,
              "model_id": "83db740ce4824bf4883bd3f430e3987f"
            }
          },
          "metadata": {
            "application/vnd.jupyter.widget-view+json": {
              "colab": {
                "custom_widget_manager": {
                  "url": "https://ssl.gstatic.com/colaboratory-static/widgets/colab-cdn-widget-manager/d2e234f7cc04bf79/manager.min.js"
                }
              }
            }
          }
        },
        {
          "output_type": "display_data",
          "data": {
            "text/plain": [
              "NGLWidget(max_frame=99999)"
            ],
            "application/vnd.jupyter.widget-view+json": {
              "version_major": 2,
              "version_minor": 0,
              "model_id": "87c1be9fc130427a8beb930a2286a246"
            }
          },
          "metadata": {
            "application/vnd.jupyter.widget-view+json": {
              "colab": {
                "custom_widget_manager": {
                  "url": "https://ssl.gstatic.com/colaboratory-static/widgets/colab-cdn-widget-manager/d2e234f7cc04bf79/manager.min.js"
                }
              }
            }
          }
        }
      ]
    },
    {
      "cell_type": "code",
      "metadata": {
        "colab": {
          "base_uri": "https://localhost:8080/",
          "height": 488
        },
        "id": "qWG80bj3BE1s",
        "outputId": "80230b67-8a18-4f4e-833d-d6375d38b98a"
      },
      "source": [
        "atoms, bonds = traj.topology.to_dataframe()\n",
        "atoms"
      ],
      "execution_count": 20,
      "outputs": [
        {
          "output_type": "execute_result",
          "data": {
            "text/plain": [
              "    serial name element  resSeq resName  chainID segmentID\n",
              "0        1   C1       C       0     NBU        0          \n",
              "1        2   C2       C       0     NBU        0          \n",
              "2        3   C3       C       0     NBU        0          \n",
              "3        4   C4       C       0     NBU        0          \n",
              "4        5  H11       H       0     NBU        0          \n",
              "5        6  H12       H       0     NBU        0          \n",
              "6        7  H13       H       0     NBU        0          \n",
              "7        8  H21       H       0     NBU        0          \n",
              "8        9  H22       H       0     NBU        0          \n",
              "9       10  H31       H       0     NBU        0          \n",
              "10      11  H32       H       0     NBU        0          \n",
              "11      12  H41       H       0     NBU        0          \n",
              "12      13  H42       H       0     NBU        0          \n",
              "13      14  H43       H       0     NBU        0          "
            ],
            "text/html": [
              "\n",
              "  <div id=\"df-e786fdd9-1cfa-4fd0-b076-95891b385fa2\">\n",
              "    <div class=\"colab-df-container\">\n",
              "      <div>\n",
              "<style scoped>\n",
              "    .dataframe tbody tr th:only-of-type {\n",
              "        vertical-align: middle;\n",
              "    }\n",
              "\n",
              "    .dataframe tbody tr th {\n",
              "        vertical-align: top;\n",
              "    }\n",
              "\n",
              "    .dataframe thead th {\n",
              "        text-align: right;\n",
              "    }\n",
              "</style>\n",
              "<table border=\"1\" class=\"dataframe\">\n",
              "  <thead>\n",
              "    <tr style=\"text-align: right;\">\n",
              "      <th></th>\n",
              "      <th>serial</th>\n",
              "      <th>name</th>\n",
              "      <th>element</th>\n",
              "      <th>resSeq</th>\n",
              "      <th>resName</th>\n",
              "      <th>chainID</th>\n",
              "      <th>segmentID</th>\n",
              "    </tr>\n",
              "  </thead>\n",
              "  <tbody>\n",
              "    <tr>\n",
              "      <th>0</th>\n",
              "      <td>1</td>\n",
              "      <td>C1</td>\n",
              "      <td>C</td>\n",
              "      <td>0</td>\n",
              "      <td>NBU</td>\n",
              "      <td>0</td>\n",
              "      <td></td>\n",
              "    </tr>\n",
              "    <tr>\n",
              "      <th>1</th>\n",
              "      <td>2</td>\n",
              "      <td>C2</td>\n",
              "      <td>C</td>\n",
              "      <td>0</td>\n",
              "      <td>NBU</td>\n",
              "      <td>0</td>\n",
              "      <td></td>\n",
              "    </tr>\n",
              "    <tr>\n",
              "      <th>2</th>\n",
              "      <td>3</td>\n",
              "      <td>C3</td>\n",
              "      <td>C</td>\n",
              "      <td>0</td>\n",
              "      <td>NBU</td>\n",
              "      <td>0</td>\n",
              "      <td></td>\n",
              "    </tr>\n",
              "    <tr>\n",
              "      <th>3</th>\n",
              "      <td>4</td>\n",
              "      <td>C4</td>\n",
              "      <td>C</td>\n",
              "      <td>0</td>\n",
              "      <td>NBU</td>\n",
              "      <td>0</td>\n",
              "      <td></td>\n",
              "    </tr>\n",
              "    <tr>\n",
              "      <th>4</th>\n",
              "      <td>5</td>\n",
              "      <td>H11</td>\n",
              "      <td>H</td>\n",
              "      <td>0</td>\n",
              "      <td>NBU</td>\n",
              "      <td>0</td>\n",
              "      <td></td>\n",
              "    </tr>\n",
              "    <tr>\n",
              "      <th>5</th>\n",
              "      <td>6</td>\n",
              "      <td>H12</td>\n",
              "      <td>H</td>\n",
              "      <td>0</td>\n",
              "      <td>NBU</td>\n",
              "      <td>0</td>\n",
              "      <td></td>\n",
              "    </tr>\n",
              "    <tr>\n",
              "      <th>6</th>\n",
              "      <td>7</td>\n",
              "      <td>H13</td>\n",
              "      <td>H</td>\n",
              "      <td>0</td>\n",
              "      <td>NBU</td>\n",
              "      <td>0</td>\n",
              "      <td></td>\n",
              "    </tr>\n",
              "    <tr>\n",
              "      <th>7</th>\n",
              "      <td>8</td>\n",
              "      <td>H21</td>\n",
              "      <td>H</td>\n",
              "      <td>0</td>\n",
              "      <td>NBU</td>\n",
              "      <td>0</td>\n",
              "      <td></td>\n",
              "    </tr>\n",
              "    <tr>\n",
              "      <th>8</th>\n",
              "      <td>9</td>\n",
              "      <td>H22</td>\n",
              "      <td>H</td>\n",
              "      <td>0</td>\n",
              "      <td>NBU</td>\n",
              "      <td>0</td>\n",
              "      <td></td>\n",
              "    </tr>\n",
              "    <tr>\n",
              "      <th>9</th>\n",
              "      <td>10</td>\n",
              "      <td>H31</td>\n",
              "      <td>H</td>\n",
              "      <td>0</td>\n",
              "      <td>NBU</td>\n",
              "      <td>0</td>\n",
              "      <td></td>\n",
              "    </tr>\n",
              "    <tr>\n",
              "      <th>10</th>\n",
              "      <td>11</td>\n",
              "      <td>H32</td>\n",
              "      <td>H</td>\n",
              "      <td>0</td>\n",
              "      <td>NBU</td>\n",
              "      <td>0</td>\n",
              "      <td></td>\n",
              "    </tr>\n",
              "    <tr>\n",
              "      <th>11</th>\n",
              "      <td>12</td>\n",
              "      <td>H41</td>\n",
              "      <td>H</td>\n",
              "      <td>0</td>\n",
              "      <td>NBU</td>\n",
              "      <td>0</td>\n",
              "      <td></td>\n",
              "    </tr>\n",
              "    <tr>\n",
              "      <th>12</th>\n",
              "      <td>13</td>\n",
              "      <td>H42</td>\n",
              "      <td>H</td>\n",
              "      <td>0</td>\n",
              "      <td>NBU</td>\n",
              "      <td>0</td>\n",
              "      <td></td>\n",
              "    </tr>\n",
              "    <tr>\n",
              "      <th>13</th>\n",
              "      <td>14</td>\n",
              "      <td>H43</td>\n",
              "      <td>H</td>\n",
              "      <td>0</td>\n",
              "      <td>NBU</td>\n",
              "      <td>0</td>\n",
              "      <td></td>\n",
              "    </tr>\n",
              "  </tbody>\n",
              "</table>\n",
              "</div>\n",
              "      <button class=\"colab-df-convert\" onclick=\"convertToInteractive('df-e786fdd9-1cfa-4fd0-b076-95891b385fa2')\"\n",
              "              title=\"Convert this dataframe to an interactive table.\"\n",
              "              style=\"display:none;\">\n",
              "        \n",
              "  <svg xmlns=\"http://www.w3.org/2000/svg\" height=\"24px\"viewBox=\"0 0 24 24\"\n",
              "       width=\"24px\">\n",
              "    <path d=\"M0 0h24v24H0V0z\" fill=\"none\"/>\n",
              "    <path d=\"M18.56 5.44l.94 2.06.94-2.06 2.06-.94-2.06-.94-.94-2.06-.94 2.06-2.06.94zm-11 1L8.5 8.5l.94-2.06 2.06-.94-2.06-.94L8.5 2.5l-.94 2.06-2.06.94zm10 10l.94 2.06.94-2.06 2.06-.94-2.06-.94-.94-2.06-.94 2.06-2.06.94z\"/><path d=\"M17.41 7.96l-1.37-1.37c-.4-.4-.92-.59-1.43-.59-.52 0-1.04.2-1.43.59L10.3 9.45l-7.72 7.72c-.78.78-.78 2.05 0 2.83L4 21.41c.39.39.9.59 1.41.59.51 0 1.02-.2 1.41-.59l7.78-7.78 2.81-2.81c.8-.78.8-2.07 0-2.86zM5.41 20L4 18.59l7.72-7.72 1.47 1.35L5.41 20z\"/>\n",
              "  </svg>\n",
              "      </button>\n",
              "      \n",
              "  <style>\n",
              "    .colab-df-container {\n",
              "      display:flex;\n",
              "      flex-wrap:wrap;\n",
              "      gap: 12px;\n",
              "    }\n",
              "\n",
              "    .colab-df-convert {\n",
              "      background-color: #E8F0FE;\n",
              "      border: none;\n",
              "      border-radius: 50%;\n",
              "      cursor: pointer;\n",
              "      display: none;\n",
              "      fill: #1967D2;\n",
              "      height: 32px;\n",
              "      padding: 0 0 0 0;\n",
              "      width: 32px;\n",
              "    }\n",
              "\n",
              "    .colab-df-convert:hover {\n",
              "      background-color: #E2EBFA;\n",
              "      box-shadow: 0px 1px 2px rgba(60, 64, 67, 0.3), 0px 1px 3px 1px rgba(60, 64, 67, 0.15);\n",
              "      fill: #174EA6;\n",
              "    }\n",
              "\n",
              "    [theme=dark] .colab-df-convert {\n",
              "      background-color: #3B4455;\n",
              "      fill: #D2E3FC;\n",
              "    }\n",
              "\n",
              "    [theme=dark] .colab-df-convert:hover {\n",
              "      background-color: #434B5C;\n",
              "      box-shadow: 0px 1px 3px 1px rgba(0, 0, 0, 0.15);\n",
              "      filter: drop-shadow(0px 1px 2px rgba(0, 0, 0, 0.3));\n",
              "      fill: #FFFFFF;\n",
              "    }\n",
              "  </style>\n",
              "\n",
              "      <script>\n",
              "        const buttonEl =\n",
              "          document.querySelector('#df-e786fdd9-1cfa-4fd0-b076-95891b385fa2 button.colab-df-convert');\n",
              "        buttonEl.style.display =\n",
              "          google.colab.kernel.accessAllowed ? 'block' : 'none';\n",
              "\n",
              "        async function convertToInteractive(key) {\n",
              "          const element = document.querySelector('#df-e786fdd9-1cfa-4fd0-b076-95891b385fa2');\n",
              "          const dataTable =\n",
              "            await google.colab.kernel.invokeFunction('convertToInteractive',\n",
              "                                                     [key], {});\n",
              "          if (!dataTable) return;\n",
              "\n",
              "          const docLinkHtml = 'Like what you see? Visit the ' +\n",
              "            '<a target=\"_blank\" href=https://colab.research.google.com/notebooks/data_table.ipynb>data table notebook</a>'\n",
              "            + ' to learn more about interactive tables.';\n",
              "          element.innerHTML = '';\n",
              "          dataTable['output_type'] = 'display_data';\n",
              "          await google.colab.output.renderOutput(dataTable, element);\n",
              "          const docLink = document.createElement('div');\n",
              "          docLink.innerHTML = docLinkHtml;\n",
              "          element.appendChild(docLink);\n",
              "        }\n",
              "      </script>\n",
              "    </div>\n",
              "  </div>\n",
              "  "
            ]
          },
          "metadata": {},
          "execution_count": 20
        }
      ]
    },
    {
      "cell_type": "code",
      "metadata": {
        "colab": {
          "base_uri": "https://localhost:8080/",
          "height": 295
        },
        "id": "8IkYIlYkBLeP",
        "outputId": "742ecdbd-75f4-4d81-df53-a506e291a694"
      },
      "source": [
        "bond_indices = [4, 7] # atoms to define the bond length\n",
        "bond_length = md.compute_distances(traj, [bond_indices])\n",
        "\n",
        "bondcounts, binedges, otherstuff = plt.hist(bond_length, bins=120)\n",
        "plt.title('C-C bond length histogram')\n",
        "plt.xlabel('Bond length (nm)')\n",
        "plt.ylabel('Counts')\n",
        "plt.show()"
      ],
      "execution_count": 22,
      "outputs": [
        {
          "output_type": "display_data",
          "data": {
            "text/plain": [
              "<Figure size 432x288 with 1 Axes>"
            ],
            "image/png": "[encoded data removed]"
          },
          "metadata": {
            "needs_background": "light"
          }
        }
      ]
    },
    {
      "cell_type": "code",
      "metadata": {
        "colab": {
          "base_uri": "https://localhost:8080/",
          "height": 295
        },
        "id": "o2fyETQ3DNcJ",
        "outputId": "89725dd4-5fb4-4fd2-c1a8-52e78624da12"
      },
      "source": [
        "kB = 8.31446/1000 # Boltzmann constant in kJ/mol\n",
        "Temp = 298.15 # simulation temperature\n",
        "bondcounts[bondcounts==0] = 0.1 # get rid of any bins with 0 counts/infinite energy\n",
        "pmf = -kB*Temp*np.log(bondcounts) # W(x) = -kT*ln[p(x)] = -kT*ln[n(x)] + C\n",
        "pmf = pmf - np.min(pmf) # subtract off minimum value so that energies start from 0\n",
        "\n",
        "bincenters = (binedges[1:] + binedges[:-1])/2 # compute centers of histogram bins\n",
        "\n",
        "plt.plot(bincenters, pmf)\n",
        "plt.xlabel('Bond length (nm)')\n",
        "plt.ylabel('Relative free energy (kJ/mol)')\n",
        "plt.title('C-C bond length pmf')\n",
        "plt.show()"
      ],
      "execution_count": 23,
      "outputs": [
        {
          "output_type": "display_data",
          "data": {
            "text/plain": [
              "<Figure size 432x288 with 1 Axes>"
            ],
            "image/png": "[encoded data removed]"
          },
          "metadata": {
            "needs_background": "light"
          }
        }
      ]
    },
    {
      "cell_type": "code",
      "metadata": {
        "colab": {
          "base_uri": "https://localhost:8080/",
          "height": 295
        },
        "id": "ukZa6k5uChho",
        "outputId": "68d70858-0e14-4a8d-8060-5f31a14855dc"
      },
      "source": [
        "bond_indices = [4, 5] # many possibilities!\n",
        "bondlength = md.compute_distances(traj, [bond_indices])\n",
        "\n",
        "lengthcounts, binedges, otherstuff = plt.hist(bondlength, bins=100)\n",
        "plt.title('C-H bond length')\n",
        "plt.xlabel('Bond length (nm)')\n",
        "plt.ylabel('Counts')\n",
        "plt.show()"
      ],
      "execution_count": 24,
      "outputs": [
        {
          "output_type": "display_data",
          "data": {
            "text/plain": [
              "<Figure size 432x288 with 1 Axes>"
            ],
            "image/png": "[encoded data removed]"
          },
          "metadata": {
            "needs_background": "light"
          }
        }
      ]
    },
    {
      "cell_type": "code",
      "metadata": {
        "colab": {
          "base_uri": "https://localhost:8080/",
          "height": 295
        },
        "id": "vHKuVS7ADa8z",
        "outputId": "970d5994-b451-4d82-a9bf-b86848572ddb"
      },
      "source": [
        "kB = 8.31446/1000 # Boltzmann constant in kJ/mol\n",
        "Temp = 298.15 # simulation temperature\n",
        "lengthcounts[lengthcounts==0] = 0.1 # get rid of any bins with 0 counts/infinite energy\n",
        "pmf = -kB*Temp*np.log(lengthcounts) # W(x) = -kT*ln[p(x)] = -kT*ln[n(x)] + C\n",
        "pmf = pmf - np.min(pmf) # subtract off minimum value so that energies start from 0\n",
        "\n",
        "bincenters = (binedges[1:] + binedges[:-1])/2 # compute centers of histogram bins\n",
        "\n",
        "plt.plot(bincenters, pmf)\n",
        "plt.xlabel('Bond length (nm)')\n",
        "plt.ylabel('Relative free energy (kJ/mol)')\n",
        "plt.title('C-H bond length pmf')\n",
        "plt.show()"
      ],
      "execution_count": 25,
      "outputs": [
        {
          "output_type": "display_data",
          "data": {
            "text/plain": [
              "<Figure size 432x288 with 1 Axes>"
            ],
            "image/png": "[encoded data removed]"
          },
          "metadata": {
            "needs_background": "light"
          }
        }
      ]
    },
    {
      "cell_type": "code",
      "metadata": {
        "colab": {
          "base_uri": "https://localhost:8080/",
          "height": 299
        },
        "id": "T5oNvZGHBfs4",
        "outputId": "bad2e8be-89da-4d43-8d03-6865c1675feb"
      },
      "source": [
        "phi_indices = [0, 4, 7, 10] # atoms to define the torsion angle\n",
        "phi = md.compute_dihedrals(traj, [phi_indices])\n",
        "\n",
        "phicounts, binedges, otherstuff = plt.hist(phi, bins=90) # create a histogram with 90 bins\n",
        "plt.title('H-C-C-H torsion angle')\n",
        "plt.xlabel(r'$\\phi$ (rad)')\n",
        "plt.ylabel('Counts')\n",
        "plt.show()"
      ],
      "execution_count": 26,
      "outputs": [
        {
          "output_type": "display_data",
          "data": {
            "text/plain": [
              "<Figure size 432x288 with 1 Axes>"
            ],
            "image/png": "[encoded data removed]"
          },
          "metadata": {
            "needs_background": "light"
          }
        }
      ]
    },
    {
      "cell_type": "code",
      "metadata": {
        "colab": {
          "base_uri": "https://localhost:8080/",
          "height": 299
        },
        "id": "XTqsagjkB9XZ",
        "outputId": "bcae4ca8-0f68-4217-b1f1-17859fa4f4eb"
      },
      "source": [
        "kB = 8.31446/1000 # Boltzmann constant in kJ/mol\n",
        "Temp = 298.15 # simulation temperature\n",
        "phicounts[phicounts==0] = 0.1 # get rid of any bins with 0 counts/infinite energy\n",
        "pmf = -kB*Temp*np.log(phicounts) # W(x) = -kT*ln[p(x)] = -kT*ln[n(x)] + C\n",
        "pmf = pmf - np.min(pmf) # subtract off minimum value so that energies start from 0\n",
        "\n",
        "bincenters = (binedges[1:] + binedges[:-1])/2 # compute centers of histogram bins\n",
        "\n",
        "plt.plot(bincenters, pmf)\n",
        "plt.title('H-C-C-H torsion pmf')\n",
        "plt.xlabel(r'$\\phi$ (rad)')\n",
        "plt.ylabel('Relative free energy (kJ/mol)')\n",
        "plt.show()"
      ],
      "execution_count": 27,
      "outputs": [
        {
          "output_type": "display_data",
          "data": {
            "text/plain": [
              "<Figure size 432x288 with 1 Axes>"
            ],
            "image/png": "[encoded data removed]"
          },
          "metadata": {
            "needs_background": "light"
          }
        }
      ]
    },
    {
      "cell_type": "code",
      "metadata": {
        "colab": {
          "base_uri": "https://localhost:8080/",
          "height": 295
        },
        "id": "7m47X3aGCHL_",
        "outputId": "898cc474-e7b7-4c84-d370-9e663171fed3"
      },
      "source": [
        "angle_indices = [0, 4, 7] # or could do [4, 7, 10]\n",
        "bondangle = md.compute_angles(traj, [angle_indices])\n",
        "\n",
        "anglecounts, binedges, otherstuff = plt.hist(bondangle, bins=100)\n",
        "plt.title('C-C-C bond angle')\n",
        "plt.xlabel('Bond angle (rad)')\n",
        "plt.ylabel('Counts')\n",
        "plt.show()"
      ],
      "execution_count": 28,
      "outputs": [
        {
          "output_type": "display_data",
          "data": {
            "text/plain": [
              "<Figure size 432x288 with 1 Axes>"
            ],
            "image/png": "[encoded data removed]"
          },
          "metadata": {
            "needs_background": "light"
          }
        }
      ]
    },
    {
      "cell_type": "code",
      "metadata": {
        "colab": {
          "base_uri": "https://localhost:8080/",
          "height": 279
        },
        "id": "HlyahiMcCa3e",
        "outputId": "48bdf5ab-87cc-4d73-a411-e9974d21e330"
      },
      "source": [
        "anglecounts[anglecounts==0] = 0.1\n",
        "pmf = -kB*Temp*np.log(anglecounts)\n",
        "pmf = pmf - np.min(pmf)\n",
        "\n",
        "bincenters = (binedges[1:] + binedges[:-1])/2\n",
        "\n",
        "\n",
        "plt.plot(bincenters, pmf)\n",
        "plt.xlabel('Bond angle (rad)')\n",
        "plt.ylabel('Relative free energy (kJ/mol)')\n",
        "plt.show()"
      ],
      "execution_count": 29,
      "outputs": [
        {
          "output_type": "display_data",
          "data": {
            "text/plain": [
              "<Figure size 432x288 with 1 Axes>"
            ],
            "image/png": "[encoded data removed]"
          },
          "metadata": {
            "needs_background": "light"
          }
        }
      ]
    },
    {
      "cell_type": "code",
      "metadata": {
        "id": "bu4VSAK2Cf_r"
      },
      "source": [],
      "execution_count": null,
      "outputs": []
    }
  ]
}
{
  "nbformat": 4,
  "nbformat_minor": 0,
  "metadata": {
    "accelerator": "GPU",
    "colab": {
      "name": "Butane_OpenMM.ipynb",
      "provenance": [],
      "collapsed_sections": [],
      "include_colab_link": true
    },
    "kernelspec": {
      "display_name": "Python 3",
      "name": "python3"
    },
    "widgets": {
      "application/vnd.jupyter.widget-state+json": {
        "f00cd27c7f6b42ad89b2286b89a49d01": {
          "model_module": "nglview-js-widgets",
          "model_name": "ColormakerRegistryModel",
          "model_module_version": "3.0.1",
          "state": {
            "_dom_classes": [],
            "_model_module": "nglview-js-widgets",
            "_model_module_version": "3.0.1",
            "_model_name": "ColormakerRegistryModel",
            "_msg_ar": [],
            "_msg_q": [],
            "_ready": true,
            "_view_count": null,
            "_view_module": "nglview-js-widgets",
            "_view_module_version": "3.0.1",
            "_view_name": "ColormakerRegistryView",
            "layout": "IPY_MODEL_2c746d2463b245dd83d95ed3e85c1e65"
          }
        },
        "2c746d2463b245dd83d95ed3e85c1e65": {
          "model_module": "@jupyter-widgets/base",
          "model_name": "LayoutModel",
          "model_module_version": "1.2.0",
          "state": {
            "_model_module": "@jupyter-widgets/base",
            "_model_module_version": "1.2.0",
            "_model_name": "LayoutModel",
            "_view_count": null,
            "_view_module": "@jupyter-widgets/base",
            "_view_module_version": "1.2.0",
            "_view_name": "LayoutView",
            "align_content": null,
            "align_items": null,
            "align_self": null,
            "border": null,
            "bottom": null,
            "display": null,
            "flex": null,
            "flex_flow": null,
            "grid_area": null,
            "grid_auto_columns": null,
            "grid_auto_flow": null,
            "grid_auto_rows": null,
            "grid_column": null,
            "grid_gap": null,
            "grid_row": null,
            "grid_template_areas": null,
            "grid_template_columns": null,
            "grid_template_rows": null,
            "height": null,
            "justify_content": null,
            "justify_items": null,
            "left": null,
            "margin": null,
            "max_height": null,
            "max_width": null,
            "min_height": null,
            "min_width": null,
            "object_fit": null,
            "object_position": null,
            "order": null,
            "overflow": null,
            "overflow_x": null,
            "overflow_y": null,
            "padding": null,
            "right": null,
            "top": null,
            "visibility": null,
            "width": null
          }
        },
        "856ecc9049b943768ec05a0c5971a4a7": {
          "model_module": "@jupyter-widgets/base",
          "model_name": "LayoutModel",
          "model_module_version": "1.2.0",
          "state": {
            "_model_module": "@jupyter-widgets/base",
            "_model_module_version": "1.2.0",
            "_model_name": "LayoutModel",
            "_view_count": null,
            "_view_module": "@jupyter-widgets/base",
            "_view_module_version": "1.2.0",
            "_view_name": "LayoutView",
            "align_content": null,
            "align_items": null,
            "align_self": null,
            "border": null,
            "bottom": null,
            "display": null,
            "flex": null,
            "flex_flow": null,
            "grid_area": null,
            "grid_auto_columns": null,
            "grid_auto_flow": null,
            "grid_auto_rows": null,
            "grid_column": null,
            "grid_gap": null,
            "grid_row": null,
            "grid_template_areas": null,
            "grid_template_columns": null,
            "grid_template_rows": null,
            "height": null,
            "justify_content": null,
            "justify_items": null,
            "left": null,
            "margin": null,
            "max_height": null,
            "max_width": null,
            "min_height": null,
            "min_width": null,
            "object_fit": null,
            "object_position": null,
            "order": null,
            "overflow": null,
            "overflow_x": null,
            "overflow_y": null,
            "padding": null,
            "right": null,
            "top": null,
            "visibility": null,
            "width": null
          }
        },
        "bd6c35c9c0b9464e85959c297d17f3d5": {
          "model_module": "@jupyter-widgets/base",
          "model_name": "LayoutModel",
          "model_module_version": "1.2.0",
          "state": {
            "_model_module": "@jupyter-widgets/base",
            "_model_module_version": "1.2.0",
            "_model_name": "LayoutModel",
            "_view_count": null,
            "_view_module": "@jupyter-widgets/base",
            "_view_module_version": "1.2.0",
            "_view_name": "LayoutView",
            "align_content": null,
            "align_items": null,
            "align_self": null,
            "border": null,
            "bottom": null,
            "display": null,
            "flex": null,
            "flex_flow": null,
            "grid_area": null,
            "grid_auto_columns": null,
            "grid_auto_flow": null,
            "grid_auto_rows": null,
            "grid_column": null,
            "grid_gap": null,
            "grid_row": null,
            "grid_template_areas": null,
            "grid_template_columns": null,
            "grid_template_rows": null,
            "height": null,
            "justify_content": null,
            "justify_items": null,
            "left": null,
            "margin": null,
            "max_height": null,
            "max_width": null,
            "min_height": null,
            "min_width": null,
            "object_fit": null,
            "object_position": null,
            "order": null,
            "overflow": null,
            "overflow_x": null,
            "overflow_y": null,
            "padding": null,
            "right": null,
            "top": null,
            "visibility": null,
            "width": null
          }
        },
        "984ab03bba774463be99fcba0c3f7566": {
          "model_module": "@jupyter-widgets/controls",
          "model_name": "DescriptionStyleModel",
          "model_module_version": "1.5.0",
          "state": {
            "_model_module": "@jupyter-widgets/controls",
            "_model_module_version": "1.5.0",
            "_model_name": "DescriptionStyleModel",
            "_view_count": null,
            "_view_module": "@jupyter-widgets/base",
            "_view_module_version": "1.2.0",
            "_view_name": "StyleView",
            "description_width": ""
          }
        },
        "3342313330e44fac96844e4f48fe886a": {
          "model_module": "@jupyter-widgets/base",
          "model_name": "LayoutModel",
          "model_module_version": "1.2.0",
          "state": {
            "_model_module": "@jupyter-widgets/base",
            "_model_module_version": "1.2.0",
            "_model_name": "LayoutModel",
            "_view_count": null,
            "_view_module": "@jupyter-widgets/base",
            "_view_module_version": "1.2.0",
            "_view_name": "LayoutView",
            "align_content": null,
            "align_items": null,
            "align_self": null,
            "border": null,
            "bottom": null,
            "display": null,
            "flex": null,
            "flex_flow": null,
            "grid_area": null,
            "grid_auto_columns": null,
            "grid_auto_flow": null,
            "grid_auto_rows": null,
            "grid_column": null,
            "grid_gap": null,
            "grid_row": null,
            "grid_template_areas": null,
            "grid_template_columns": null,
            "grid_template_rows": null,
            "height": null,
            "justify_content": null,
            "justify_items": null,
            "left": null,
            "margin": null,
            "max_height": null,
            "max_width": null,
            "min_height": null,
            "min_width": null,
            "object_fit": null,
            "object_position": null,
            "order": null,
            "overflow": null,
            "overflow_x": null,
            "overflow_y": null,
            "padding": null,
            "right": null,
            "top": null,
            "visibility": null,
            "width": null
          }
        },
        "980dfc518e324cf78d4685dd536c21af": {
          "model_module": "@jupyter-widgets/controls",
          "model_name": "SliderStyleModel",
          "model_module_version": "1.5.0",
          "state": {
            "_model_module": "@jupyter-widgets/controls",
            "_model_module_version": "1.5.0",
            "_model_name": "SliderStyleModel",
            "_view_count": null,
            "_view_module": "@jupyter-widgets/base",
            "_view_module_version": "1.2.0",
            "_view_name": "StyleView",
            "description_width": "",
            "handle_color": null
          }
        },
        "d41bfa3ecb6e442981ac6b9d8683bf33": {
          "model_module": "@jupyter-widgets/controls",
          "model_name": "PlayModel",
          "model_module_version": "1.5.0",
          "state": {
            "_dom_classes": [],
            "_model_module": "@jupyter-widgets/controls",
            "_model_module_version": "1.5.0",
            "_model_name": "PlayModel",
            "_playing": false,
            "_repeat": false,
            "_view_count": null,
            "_view_module": "@jupyter-widgets/controls",
            "_view_module_version": "1.5.0",
            "_view_name": "PlayView",
            "description": "",
            "description_tooltip": null,
            "disabled": false,
            "interval": 100,
            "layout": "IPY_MODEL_bd6c35c9c0b9464e85959c297d17f3d5",
            "max": 99999,
            "min": 0,
            "show_repeat": true,
            "step": 1,
            "style": "IPY_MODEL_984ab03bba774463be99fcba0c3f7566",
            "value": 174,
            "playing": false
          }
        },
        "043145bf23f2469983a1f7f3af8ff3fd": {
          "model_module": "@jupyter-widgets/controls",
          "model_name": "IntSliderModel",
          "model_module_version": "1.5.0",
          "state": {
            "_dom_classes": [],
            "_model_module": "@jupyter-widgets/controls",
            "_model_module_version": "1.5.0",
            "_model_name": "IntSliderModel",
            "_view_count": null,
            "_view_module": "@jupyter-widgets/controls",
            "_view_module_version": "1.5.0",
            "_view_name": "IntSliderView",
            "continuous_update": true,
            "description": "",
            "description_tooltip": null,
            "disabled": false,
            "layout": "IPY_MODEL_3342313330e44fac96844e4f48fe886a",
            "max": 99999,
            "min": 0,
            "orientation": "horizontal",
            "readout": true,
            "readout_format": "d",
            "step": 1,
            "style": "IPY_MODEL_980dfc518e324cf78d4685dd536c21af",
            "value": 173
          }
        },
        "8eba0910453345c2911633d217cf3efb": {
          "model_module": "@jupyter-widgets/base",
          "model_name": "LayoutModel",
          "model_module_version": "1.2.0",
          "state": {
            "_model_module": "@jupyter-widgets/base",
            "_model_module_version": "1.2.0",
            "_model_name": "LayoutModel",
            "_view_count": null,
            "_view_module": "@jupyter-widgets/base",
            "_view_module_version": "1.2.0",
            "_view_name": "LayoutView",
            "align_content": null,
            "align_items": null,
            "align_self": null,
            "border": null,
            "bottom": null,
            "display": null,
            "flex": null,
            "flex_flow": null,
            "grid_area": null,
            "grid_auto_columns": null,
            "grid_auto_flow": null,
            "grid_auto_rows": null,
            "grid_column": null,
            "grid_gap": null,
            "grid_row": null,
            "grid_template_areas": null,
            "grid_template_columns": null,
            "grid_template_rows": null,
            "height": null,
            "justify_content": null,
            "justify_items": null,
            "left": null,
            "margin": null,
            "max_height": null,
            "max_width": null,
            "min_height": null,
            "min_width": null,
            "object_fit": null,
            "object_position": null,
            "order": null,
            "overflow": null,
            "overflow_x": null,
            "overflow_y": null,
            "padding": null,
            "right": null,
            "top": null,
            "visibility": null,
            "width": null
          }
        },
        "4b987095d1034bc4ae5708ed8ad8b3c5": {
          "model_module": "nglview-js-widgets",
          "model_name": "NGLModel",
          "model_module_version": "3.0.1",
          "state": {
            "_camera_orientation": [
              -11.727607952813491,
              3.9673133110190437,
              5.729098948605286,
              0,
              -3.5016466967368705,
              -13.051459337625356,
              1.8699779504416734,
              0,
              6.024999591861456,
              0.13701173715159798,
              12.238445394229787,
              0,
              0.00950002670288086,
              -0.04400002956390381,
              0.1679999828338623,
              1
            ],
            "_camera_str": "orthographic",
            "_dom_classes": [],
            "_gui_theme": null,
            "_ibtn_fullscreen": "IPY_MODEL_355986de0430441bae01be5023846035",
            "_igui": null,
            "_iplayer": "IPY_MODEL_30107671bc6d4ea8b8c59bb1185587e9",
            "_model_module": "nglview-js-widgets",
            "_model_module_version": "3.0.1",
            "_model_name": "NGLModel",
            "_ngl_color_dict": {},
            "_ngl_coordinate_resource": {},
            "_ngl_full_stage_parameters": {
              "impostor": true,
              "quality": "medium",
              "workerDefault": true,
              "sampleLevel": 0,
              "backgroundColor": "white",
              "rotateSpeed": 2,
              "zoomSpeed": 1.2,
              "panSpeed": 1,
              "clipNear": 0,
              "clipFar": 100,
              "clipDist": 10,
              "fogNear": 50,
              "fogFar": 100,
              "cameraFov": 40,
              "cameraEyeSep": 0.3,
              "cameraType": "perspective",
              "lightColor": 14540253,
              "lightIntensity": 1,
              "ambientColor": 14540253,
              "ambientIntensity": 0.2,
              "hoverTimeout": 0,
              "tooltip": true,
              "mousePreset": "default"
            },
            "_ngl_msg_archive": [
              {
                "target": "Stage",
                "type": "call_method",
                "methodName": "loadFile",
                "reconstruc_color_scheme": false,
                "args": [
                  {
                    "type": "blob",
                    "data": "MODEL        0\nATOM      1  C1  NBU A   0      -1.686   0.526   0.855  1.00  0.00           C  \nATOM      2  C2  NBU A   0      -0.353   0.690   0.070  1.00  0.00           C  \nATOM      3  C3  NBU A   0       0.401  -0.600  -0.187  1.00  0.00           C  \nATOM      4  C4  NBU A   0       1.583  -0.448  -1.130  1.00  0.00           C  \nATOM      5  H11 NBU A   0      -2.268   1.455   0.887  1.00  0.00           H  \nATOM      6  H12 NBU A   0      -2.288  -0.264   0.388  1.00  0.00           H  \nATOM      7  H13 NBU A   0      -1.374   0.256   1.871  1.00  0.00           H  \nATOM      8  H21 NBU A   0      -0.512   1.143  -0.917  1.00  0.00           H  \nATOM      9  H22 NBU A   0       0.248   1.478   0.541  1.00  0.00           H  \nATOM     10  H31 NBU A   0       0.608  -1.033   0.799  1.00  0.00           H  \nATOM     11  H32 NBU A   0      -0.197  -1.390  -0.659  1.00  0.00           H  \nATOM     12  H41 NBU A   0       2.269  -1.252  -0.838  1.00  0.00           H  \nATOM     13  H42 NBU A   0       1.396  -0.546  -2.207  1.00  0.00           H  \nATOM     14  H43 NBU A   0       2.060   0.485  -0.804  1.00  0.00           H  \nTER      15      NBU A   0\nENDMDL\nCONECT    1    2    5    6    7\nCONECT    2    1    3    8    9\nCONECT    3    2    4   10   11\nCONECT    4    3   12   13   14\nCONECT    5    1\nCONECT    6    1\nCONECT    7    1\nCONECT    8    2\nCONECT    9    2\nCONECT   10    3\nCONECT   11    3\nCONECT   12    4\nCONECT   13    4\nCONECT   14    4\nEND\n",
                    "binary": false
                  }
                ],
                "kwargs": {
                  "name": "nglview.adaptor.MDTrajTrajectory",
                  "defaultRepresentation": true,
                  "ext": "pdb"
                }
              }
            ],
            "_ngl_original_stage_parameters": {
              "impostor": true,
              "quality": "medium",
              "workerDefault": true,
              "sampleLevel": 0,
              "backgroundColor": "white",
              "rotateSpeed": 2,
              "zoomSpeed": 1.2,
              "panSpeed": 1,
              "clipNear": 0,
              "clipFar": 100,
              "clipDist": 10,
              "fogNear": 50,
              "fogFar": 100,
              "cameraFov": 40,
              "cameraEyeSep": 0.3,
              "cameraType": "perspective",
              "lightColor": 14540253,
              "lightIntensity": 1,
              "ambientColor": 14540253,
              "ambientIntensity": 0.2,
              "hoverTimeout": 0,
              "tooltip": true,
              "mousePreset": "default"
            },
            "_ngl_repr_dict": {
              "0": {
                "0": {
                  "type": "ball+stick",
                  "params": {
                    "lazy": false,
                    "visible": true,
                    "quality": "high",
                    "sphereDetail": 2,
                    "radialSegments": 20,
                    "openEnded": true,
                    "disableImpostor": false,
                    "aspectRatio": 1.5,
                    "lineOnly": false,
                    "cylinderOnly": false,
                    "multipleBond": "off",
                    "bondScale": 0.3,
                    "bondSpacing": 0.75,
                    "linewidth": 2,
                    "radiusType": "size",
                    "radiusData": {},
                    "radiusSize": 0.15,
                    "radiusScale": 2,
                    "assembly": "default",
                    "defaultAssembly": "",
                    "clipNear": 0,
                    "clipRadius": 0,
                    "clipCenter": {
                      "x": 0,
                      "y": 0,
                      "z": 0
                    },
                    "flatShaded": false,
                    "opacity": 1,
                    "depthWrite": true,
                    "side": "double",
                    "wireframe": false,
                    "colorScheme": "element",
                    "colorScale": "",
                    "colorReverse": false,
                    "colorValue": 9474192,
                    "colorMode": "hcl",
                    "roughness": 0.4,
                    "metalness": 0,
                    "diffuse": 16777215,
                    "diffuseInterior": false,
                    "useInteriorColor": true,
                    "interiorColor": 2236962,
                    "interiorDarkening": 0,
                    "matrix": {
                      "elements": [
                        1,
                        0,
                        0,
                        0,
                        0,
                        1,
                        0,
                        0,
                        0,
                        0,
                        1,
                        0,
                        0,
                        0,
                        0,
                        1
                      ]
                    },
                    "disablePicking": false,
                    "sele": ""
                  }
                }
              },
              "1": {
                "0": {
                  "type": "ball+stick",
                  "params": {
                    "lazy": false,
                    "visible": true,
                    "quality": "high",
                    "sphereDetail": 2,
                    "radialSegments": 20,
                    "openEnded": true,
                    "disableImpostor": false,
                    "aspectRatio": 1.5,
                    "lineOnly": false,
                    "cylinderOnly": false,
                    "multipleBond": "off",
                    "bondScale": 0.3,
                    "bondSpacing": 0.75,
                    "linewidth": 2,
                    "radiusType": "size",
                    "radiusData": {},
                    "radiusSize": 0.15,
                    "radiusScale": 2,
                    "assembly": "default",
                    "defaultAssembly": "",
                    "clipNear": 0,
                    "clipRadius": 0,
                    "clipCenter": {
                      "x": 0,
                      "y": 0,
                      "z": 0
                    },
                    "flatShaded": false,
                    "opacity": 1,
                    "depthWrite": true,
                    "side": "double",
                    "wireframe": false,
                    "colorScheme": "element",
                    "colorScale": "",
                    "colorReverse": false,
                    "colorValue": 9474192,
                    "colorMode": "hcl",
                    "roughness": 0.4,
                    "metalness": 0,
                    "diffuse": 16777215,
                    "diffuseInterior": false,
                    "useInteriorColor": true,
                    "interiorColor": 2236962,
                    "interiorDarkening": 0,
                    "matrix": {
                      "elements": [
                        1,
                        0,
                        0,
                        0,
                        0,
                        1,
                        0,
                        0,
                        0,
                        0,
                        1,
                        0,
                        0,
                        0,
                        0,
                        1
                      ]
                    },
                    "disablePicking": false,
                    "sele": ""
                  }
                }
              }
            },
            "_ngl_serialize": false,
            "_ngl_version": "2.0.0-dev.36",
            "_ngl_view_id": [
              "5F862CCB-CDE7-4500-881D-8396A146D432"
            ],
            "_player_dict": {},
            "_scene_position": {},
            "_scene_rotation": {},
            "_synced_model_ids": [],
            "_synced_repr_model_ids": [],
            "_view_count": null,
            "_view_height": "",
            "_view_module": "nglview-js-widgets",
            "_view_module_version": "3.0.1",
            "_view_name": "NGLView",
            "_view_width": "",
            "background": "white",
            "frame": 174,
            "gui_style": null,
            "layout": "IPY_MODEL_856ecc9049b943768ec05a0c5971a4a7",
            "max_frame": 99999,
            "n_components": 2,
            "picked": {}
          }
        },
        "fde794ae04b44b83881376fa5be62ba7": {
          "model_module": "@jupyter-widgets/base",
          "model_name": "LayoutModel",
          "model_module_version": "1.2.0",
          "state": {
            "_model_module": "@jupyter-widgets/base",
            "_model_module_version": "1.2.0",
            "_model_name": "LayoutModel",
            "_view_count": null,
            "_view_module": "@jupyter-widgets/base",
            "_view_module_version": "1.2.0",
            "_view_name": "LayoutView",
            "align_content": null,
            "align_items": null,
            "align_self": null,
            "border": null,
            "bottom": null,
            "display": null,
            "flex": null,
            "flex_flow": null,
            "grid_area": null,
            "grid_auto_columns": null,
            "grid_auto_flow": null,
            "grid_auto_rows": null,
            "grid_column": null,
            "grid_gap": null,
            "grid_row": null,
            "grid_template_areas": null,
            "grid_template_columns": null,
            "grid_template_rows": null,
            "height": null,
            "justify_content": null,
            "justify_items": null,
            "left": null,
            "margin": null,
            "max_height": null,
            "max_width": null,
            "min_height": null,
            "min_width": null,
            "object_fit": null,
            "object_position": null,
            "order": null,
            "overflow": null,
            "overflow_x": null,
            "overflow_y": null,
            "padding": null,
            "right": null,
            "top": null,
            "visibility": null,
            "width": "34px"
          }
        },
        "574bc149dd3a45c1975eab1dc078130a": {
          "model_module": "@jupyter-widgets/controls",
          "model_name": "ButtonStyleModel",
          "model_module_version": "1.5.0",
          "state": {
            "_model_module": "@jupyter-widgets/controls",
            "_model_module_version": "1.5.0",
            "_model_name": "ButtonStyleModel",
            "_view_count": null,
            "_view_module": "@jupyter-widgets/base",
            "_view_module_version": "1.2.0",
            "_view_name": "StyleView",
            "button_color": null,
            "font_weight": ""
          }
        },
        "355986de0430441bae01be5023846035": {
          "model_module": "@jupyter-widgets/controls",
          "model_name": "ButtonModel",
          "model_module_version": "1.5.0",
          "state": {
            "_dom_classes": [],
            "_model_module": "@jupyter-widgets/controls",
            "_model_module_version": "1.5.0",
            "_model_name": "ButtonModel",
            "_view_count": null,
            "_view_module": "@jupyter-widgets/controls",
            "_view_module_version": "1.5.0",
            "_view_name": "ButtonView",
            "button_style": "",
            "description": "",
            "disabled": false,
            "icon": "compress",
            "layout": "IPY_MODEL_fde794ae04b44b83881376fa5be62ba7",
            "style": "IPY_MODEL_574bc149dd3a45c1975eab1dc078130a",
            "tooltip": ""
          }
        },
        "30107671bc6d4ea8b8c59bb1185587e9": {
          "model_module": "@jupyter-widgets/controls",
          "model_name": "HBoxModel",
          "model_module_version": "1.5.0",
          "state": {
            "_dom_classes": [],
            "_model_module": "@jupyter-widgets/controls",
            "_model_module_version": "1.5.0",
            "_model_name": "HBoxModel",
            "_view_count": null,
            "_view_module": "@jupyter-widgets/controls",
            "_view_module_version": "1.5.0",
            "_view_name": "HBoxView",
            "box_style": "",
            "children": [
              "IPY_MODEL_d41bfa3ecb6e442981ac6b9d8683bf33",
              "IPY_MODEL_043145bf23f2469983a1f7f3af8ff3fd"
            ],
            "layout": "IPY_MODEL_8eba0910453345c2911633d217cf3efb"
          }
        }
      }
    }
  },
  "cells": [
    {
      "cell_type": "markdown",
      "metadata": {
        "id": "view-in-github",
        "colab_type": "text"
      },
      "source": [
        "<a href=\"https://colab.research.google.com/github/Zeta-num/CHEM101.6/blob/main/solved_CHEM101.6_Exercise_0_Butane_OpenMM.ipynb\" target=\"_parent\"><img src=\"https://colab.research.google.com/assets/colab-badge.svg\" alt=\"Open In Colab\"/></a>"
      ]
    },
    {
      "cell_type": "markdown",
      "metadata": {
        "id": "pj2BWZxUDbEE"
      },
      "source": [
        "# **Hello there!**\n",
        "\n",
        "This is a Jupyter notebook for running Molecular Dynamics (MD) simulations of Alkanes using the OpenMM engine "
      ]
    },
    {
      "cell_type": "code",
      "metadata": {
        "id": "CY5Hv721m9xM",
        "colab": {
          "base_uri": "https://localhost:8080/",
          "height": 521
        },
        "outputId": "4ce278eb-4df9-4d26-fd78-bc955d047819"
      },
      "source": [
        "#@title ### **Video Demonstration**\n",
        "#@markdown Check the timelapse movie to understand how the pipeline works\n",
        "from IPython.display import YouTubeVideo\n",
        "YouTubeVideo('pVa0mQS6xeo', width=800, height=500)"
      ],
      "execution_count": 1,
      "outputs": [
        {
          "output_type": "execute_result",
          "data": {
            "text/plain": [
              "<IPython.lib.display.YouTubeVideo at 0x7f5048279710>"
            ],
            "text/html": [
              "\n",
              "        <iframe\n",
              "            width=\"800\"\n",
              "            height=\"500\"\n",
              "            src=\"https://www.youtube.com/embed/pVa0mQS6xeo\"\n",
              "            frameborder=\"0\"\n",
              "            allowfullscreen\n",
              "        ></iframe>\n",
              "        "
            ],
            "image/jpeg": "[encoded data removed]"
          },
          "metadata": {},
          "execution_count": 1
        }
      ]
    },
    {
      "cell_type": "markdown",
      "metadata": {
        "id": "Lh96y6mGFY1D"
      },
      "source": [
        "---\n",
        "---\n",
        "# **Setting the environment for MD calculation**\n",
        "\n",
        "Firstly, we need to install all necessary libraries and packages for our simulation. The main packages we will be installing are:\n",
        "\n",
        "1.    Anaconda (https://docs.conda.io/en/latest/miniconda.html)\n",
        "2.    OpenMM (https://openmm.org/)\n",
        "3.    PyTraj (https://amber-md.github.io/pytraj/latest/index.html)\n",
        "4.    py3Dmol (https://pypi.org/project/py3Dmol/)\n",
        "5.    Numpy (https://numpy.org/)\n",
        "6.    Matplotlib (https://matplotlib.org/)\n",
        "7.    AmberTools (https://ambermd.org/AmberTools.php)"
      ]
    },
    {
      "cell_type": "code",
      "metadata": {
        "id": "wH1oMiVUlxO_",
        "colab": {
          "base_uri": "https://localhost:8080/"
        },
        "outputId": "1a31bfe3-4ba3-431d-cbfc-cc631501e1f7"
      },
      "source": [
        "# install dependencies\n",
        "!pip -q install py3Dmol 2>&1 1>/dev/null\n",
        "!pip install --upgrade MDAnalysis 2>&1 1>/dev/null\n",
        "!pip install biopandas 2>&1 1>/dev/null\n",
        "# install conda\n",
        "!wget -qnc https://repo.anaconda.com/miniconda/Miniconda3-latest-Linux-x86_64.sh \n",
        "!bash Miniconda3-latest-Linux-x86_64.sh -bfp /usr/local 2>&1 1>/dev/null\n",
        "!rm Miniconda3-latest-Linux-x86_64.sh\n",
        "!conda install -y -q -c conda-forge openmm=7.6 python=3.7 pdbfixer 2>&1 1>/dev/null\n",
        "!conda install -c conda-forge ambertools --yes 2>&1 1>/dev/null\n",
        "!conda install -c ambermd pytraj  --yes 2>&1 1>/dev/null\n"
      ],
      "execution_count": 2,
      "outputs": [
        {
          "output_type": "stream",
          "name": "stdout",
          "text": [
            "\u001b[33mWARNING: Retrying (Retry(total=4, connect=None, read=None, redirect=None, status=None)) after connection broken by 'ProtocolError('Connection aborted.', ConnectionResetError(104, 'Connection reset by peer'))': /simple/griddataformats/\u001b[0m\n",
            "\u001b[33m  WARNING: Retrying (Retry(total=4, connect=None, read=None, redirect=None, status=None)) after connection broken by 'ProtocolError('Connection aborted.', ConnectionResetError(104, 'Connection reset by peer'))': /packages/80/ea/cba7fb38f2901a39924a5787d63d000347678f1b32474d9b2db42ca36bb3/GridDataFormats-0.7.0-py2.py3-none-any.whl\u001b[0m\n"
          ]
        }
      ]
    },
    {
      "cell_type": "code",
      "source": [
        "#load dependencies\n",
        "import sys\n",
        "sys.path.append('/usr/local/lib/python3.7/site-packages/')"
      ],
      "metadata": {
        "id": "m8veka9eL2S3"
      },
      "execution_count": 3,
      "outputs": []
    },
    {
      "cell_type": "code",
      "source": [
        "from openmm import *"
      ],
      "metadata": {
        "id": "lL4WKIi7iR9K"
      },
      "execution_count": 4,
      "outputs": []
    },
    {
      "cell_type": "code",
      "source": [
        "from openmm.app import *"
      ],
      "metadata": {
        "id": "rmM5trmoiu76"
      },
      "execution_count": 5,
      "outputs": []
    },
    {
      "cell_type": "code",
      "source": [
        "from openmm.unit import *"
      ],
      "metadata": {
        "id": "Sl8V9wxKixsA"
      },
      "execution_count": 6,
      "outputs": []
    },
    {
      "cell_type": "code",
      "source": [
        "from __future__ import print_function"
      ],
      "metadata": {
        "id": "mThZaUj3i-We"
      },
      "execution_count": 7,
      "outputs": []
    },
    {
      "cell_type": "code",
      "source": [
        "from biopandas.pdb import PandasPdb\n",
        "import openmm as mm\n",
        "import os\n",
        "import urllib.request  \n",
        "import numpy as np\n",
        "import MDAnalysis as mda\n",
        "import py3Dmol\n",
        "import pytraj as pt\n",
        "import platform\n",
        "import scipy.cluster.hierarchy\n",
        "from scipy.spatial.distance import squareform\n",
        "import scipy.stats as stats\n",
        "import matplotlib.pyplot as plt\n",
        "import pandas as pd\n",
        "from scipy.interpolate import griddata\n",
        "import seaborn as sb\n",
        "from statistics import mean, stdev\n",
        "from pytraj import matrix\n",
        "from matplotlib import colors\n",
        "from IPython.display import set_matplotlib_formats\n",
        "#%matplotlib inline\n",
        "#set_matplotlib_formats('png')\n",
        "#plt.figure(figsize=(5,7))"
      ],
      "metadata": {
        "id": "T-8otlM1i2Kh"
      },
      "execution_count": 8,
      "outputs": []
    },
    {
      "cell_type": "markdown",
      "metadata": {
        "id": "fDQnAKJLFxtt"
      },
      "source": [
        "## Using Google Drive to store simulation data\n",
        "\n",
        "Google Colab does not allow users to keep data on their computing nodes. However, we can use Google Drive to read, write, and store our simulations files. Therefore, we suggest to you to:\n",
        "\n",
        "1.   Create a folder in your own Google Drive and copy the necessary input files there.\n",
        "2.   Copy the path of your created directory. We will use it below."
      ]
    },
    {
      "cell_type": "code",
      "metadata": {
        "id": "Lm7Akepv_vl-",
        "colab": {
          "base_uri": "https://localhost:8080/"
        },
        "outputId": "b1771c70-4c4e-4ca4-936f-4d9a15fa1d1b"
      },
      "source": [
        "#@title ### **Import Google Drive**\n",
        "#@markdown Click in the \"Run\" buttom to make your Google Drive accessible.\n",
        "from google.colab import drive\n",
        "\n",
        "drive.flush_and_unmount()\n",
        "drive.mount('/content/drive', force_remount=True)"
      ],
      "execution_count": 9,
      "outputs": [
        {
          "output_type": "stream",
          "name": "stdout",
          "text": [
            "Drive not mounted, so nothing to flush and unmount.\n",
            "Mounted at /content/drive\n"
          ]
        }
      ]
    },
    {
      "cell_type": "code",
      "metadata": {
        "id": "lOKg9eH_ueRn",
        "colab": {
          "base_uri": "https://localhost:8080/"
        },
        "outputId": "4a5d6254-cb08-4d64-a6ec-a1f033eac79e"
      },
      "source": [
        "#@title **Check if you correctly allocated GPU nodes**\n",
        "\n",
        "gpu_info = !nvidia-smi\n",
        "gpu_info = '\\n'.join(gpu_info)\n",
        "if gpu_info.find('failed') >= 0:\n",
        "  print('Select the Runtime > \"Change runtime type\" menu to enable a GPU accelerator, ')\n",
        "  print('and then re-execute this cell.')\n",
        "else:\n",
        "  print(gpu_info)"
      ],
      "execution_count": 10,
      "outputs": [
        {
          "output_type": "stream",
          "name": "stdout",
          "text": [
            "Wed Oct 19 14:46:24 2022       \n",
            "+-----------------------------------------------------------------------------+\n",
            "| NVIDIA-SMI 460.32.03    Driver Version: 460.32.03    CUDA Version: 11.2     |\n",
            "|-------------------------------+----------------------+----------------------+\n",
            "| GPU  Name        Persistence-M| Bus-Id        Disp.A | Volatile Uncorr. ECC |\n",
            "| Fan  Temp  Perf  Pwr:Usage/Cap|         Memory-Usage | GPU-Util  Compute M. |\n",
            "|                               |                      |               MIG M. |\n",
            "|===============================+======================+======================|\n",
            "|   0  Tesla T4            Off  | 00000000:00:04.0 Off |                    0 |\n",
            "| N/A   39C    P8     9W /  70W |      3MiB / 15109MiB |      0%      Default |\n",
            "|                               |                      |                  N/A |\n",
            "+-------------------------------+----------------------+----------------------+\n",
            "                                                                               \n",
            "+-----------------------------------------------------------------------------+\n",
            "| Processes:                                                                  |\n",
            "|  GPU   GI   CI        PID   Type   Process name                  GPU Memory |\n",
            "|        ID   ID                                                   Usage      |\n",
            "|=============================================================================|\n",
            "|  No running processes found                                                 |\n",
            "+-----------------------------------------------------------------------------+\n"
          ]
        }
      ]
    },
    {
      "cell_type": "code",
      "metadata": {
        "colab": {
          "base_uri": "https://localhost:8080/"
        },
        "id": "eLX8IGZO7MIg",
        "outputId": "63f9e63c-0be2-4054-a807-144013361271"
      },
      "source": [
        "from simtk import unit\n",
        "from openmm import app\n",
        "\n",
        "#Lets Load in our Butane Molecule and Force Field from Our Google Drive\n",
        "PDB_file_name = 'butane.pdb'\n",
        "forcefield_file_name = 'butane.gaff2.cor1.xml' \n",
        "Google_Drive_Path = '/content/drive/MyDrive/CHEM_data'\n",
        "workDir = Google_Drive_Path\n",
        "initial_pdb = os.path.join(workDir, str(PDB_file_name))\n",
        "force_field = os.path.join(workDir,str(forcefield_file_name))\n",
        "print(initial_pdb)\n",
        "print(force_field )\n",
        "\n",
        "pdb = mm.app.PDBFile(initial_pdb)\n",
        "forcefield = mm.app.ForceField(force_field)\n",
        "\n",
        "\n",
        "system = forcefield.createSystem(pdb.topology, nonbondedMethod=mm.app.NoCutoff, constraints=mm.app.HBonds)\n",
        "integrator = mm.LangevinIntegrator(298.15*unit.kelvin, 5.0/unit.picoseconds, 2.0*unit.femtoseconds)\n",
        "integrator.setConstraintTolerance(1e-5)\n",
        "\n",
        "platform = mm.Platform.getPlatformByName('Reference')\n",
        "simulation = app.Simulation(pdb.topology, system, integrator, platform)\n",
        "simulation.context.setPositions(pdb.positions)"
      ],
      "execution_count": 11,
      "outputs": [
        {
          "output_type": "stream",
          "name": "stdout",
          "text": [
            "/content/drive/MyDrive/CHEM_data/butane.pdb\n",
            "/content/drive/MyDrive/CHEM_data/butane.gaff2.cor1.xml\n"
          ]
        }
      ]
    },
    {
      "cell_type": "code",
      "metadata": {
        "colab": {
          "base_uri": "https://localhost:8080/"
        },
        "id": "OA1RPmp18Ocw",
        "outputId": "c87cdec5-9fe0-4f1a-8964-614a8d0e2601"
      },
      "source": [
        "integrator = mm.LangevinIntegrator(298.15*unit.kelvin, 5.0/unit.picoseconds, 2.0*unit.femtoseconds)\n",
        "integrator.setConstraintTolerance(1e-5)\n",
        "\n",
        "print('Minimizing...')\n",
        "\n",
        "st = simulation.context.getState(getPositions=True,getEnergy=True)\n",
        "print(F\"Potential energy before minimization is {st.getPotentialEnergy()}\")\n",
        "\n",
        "simulation.minimizeEnergy(maxIterations=100)\n",
        "\n",
        "st = simulation.context.getState(getPositions=True,getEnergy=True)\n",
        "print(F\"Potential energy after minimization is {st.getPotentialEnergy()}\")"
      ],
      "execution_count": 12,
      "outputs": [
        {
          "output_type": "stream",
          "name": "stdout",
          "text": [
            "Minimizing...\n",
            "Potential energy before minimization is 13.762958847842143 kJ/mol\n",
            "Potential energy after minimization is 7.550914791028611 kJ/mol\n"
          ]
        }
      ]
    },
    {
      "cell_type": "code",
      "metadata": {
        "colab": {
          "base_uri": "https://localhost:8080/"
        },
        "id": "hxKf7uhQ-kBZ",
        "outputId": "899e74d6-fa0d-4dca-85bc-7e08cfa46d58"
      },
      "source": [
        "from sys import stdout\n",
        "\n",
        "print('Equilibrating...')\n",
        "\n",
        "simulation.reporters.append(app.StateDataReporter(stdout, 100, step=True, \n",
        "    potentialEnergy=True, temperature=True, separator=','))\n",
        "simulation.context.setVelocitiesToTemperature(150.0*unit.kelvin)\n",
        "simulation.step(2500)"
      ],
      "execution_count": 13,
      "outputs": [
        {
          "output_type": "stream",
          "name": "stdout",
          "text": [
            "Equilibrating...\n",
            "#\"Step\",\"Potential Energy (kJ/mole)\",\"Temperature (K)\"\n",
            "100,26.63505531313986,216.883421350769\n",
            "200,38.059325877585465,297.7247357532534\n",
            "300,51.839862092488566,248.54537689574065\n",
            "400,33.5974308671495,215.4248982049862\n",
            "500,43.88031450260891,228.4706726938762\n",
            "600,38.93240031068099,316.7278423305226\n",
            "700,58.88711971407593,242.06781714389155\n",
            "800,40.466955280420535,320.22730747106334\n",
            "900,33.15599281404636,365.34148821432785\n",
            "1000,31.928671748179426,283.2921190999684\n",
            "1100,27.09990138751918,270.9515490332512\n",
            "1200,36.011692228268934,271.1968567533112\n",
            "1300,32.86421358796464,255.10436458682895\n",
            "1400,55.75209761776914,256.24226162144475\n",
            "1500,44.61251296048829,243.84005188425732\n",
            "1600,38.65239321286691,245.0596121582181\n",
            "1700,36.49722372554046,381.54887490557667\n",
            "1800,41.423598991805676,276.25754514560373\n",
            "1900,53.18315106347674,318.38210578775835\n",
            "2000,35.28325573185579,305.46520153439826\n",
            "2100,41.05363213300123,244.07257891748728\n",
            "2200,33.48957118026109,248.9944447474754\n",
            "2300,45.5346000058126,347.5493160552361\n",
            "2400,50.45272555954601,374.10284528195666\n",
            "2500,55.417976520466766,361.9616901026614\n"
          ]
        }
      ]
    },
    {
      "cell_type": "code",
      "metadata": {
        "colab": {
          "base_uri": "https://localhost:8080/"
        },
        "id": "G70V9fa6-s65",
        "outputId": "99eb772a-d5a2-444d-c518-a0b6d86ddbac"
      },
      "source": [
        "import time as time\n",
        "\n",
        "print('Running Production...')\n",
        "\n",
        "# Begin timer\n",
        "tinit=time.time()\n",
        "\n",
        "# Clear simulation reporters\n",
        "simulation.reporters.clear()\n",
        "\n",
        "# Reinitialize simulation reporters. We do this because we want different information printed from the production run than the equilibration run.\n",
        "# output basic simulation information below every 250000 steps - (which is equal to 2 fs(250,000) = 500,000 fs = 500 ps)\n",
        "simulation.reporters.append(app.StateDataReporter(stdout, 250000, \n",
        "    step=True, time=True, potentialEnergy=True, temperature=True, \n",
        "    speed=True, separator=','))\n",
        "\n",
        "# write out a trajectory (i.e., coordinates vs. time) to a DCD\n",
        "# file every 100 steps - 0.2 ps\n",
        "simulation.reporters.append(app.DCDReporter('butane_sim.dcd', 100))\n",
        "\n",
        "# run the simulation for 1.0x10^7 steps - 20 ns\n",
        "simulation.step(10000000)\n",
        "\n",
        "# End timer\n",
        "tfinal=time.time()\n",
        "print('Done!')\n",
        "print('Time required for simulation:', tfinal-tinit, 'seconds')"
      ],
      "execution_count": 14,
      "outputs": [
        {
          "output_type": "stream",
          "name": "stdout",
          "text": [
            "Running Production...\n",
            "#\"Step\",\"Time (ps)\",\"Potential Energy (kJ/mole)\",\"Temperature (K)\",\"Speed (ns/day)\"\n",
            "250000,500.0000000016593,28.88958543550185,423.50888617751656,0\n",
            "500000,999.9999999901769,31.102339572400936,192.57049244891508,1.32e+04\n",
            "750000,1499.9999999783536,59.911070660217085,360.422873058961,1.32e+04\n",
            "1000000,1999.9999999665301,47.79591227399778,307.6581329946004,1.3e+04\n",
            "1250000,2499.9999999547067,40.277653249676995,348.78172967842164,1.3e+04\n",
            "1500000,2999.9999999428833,49.55417596320598,181.34966892184897,1.3e+04\n",
            "1750000,3499.99999993106,30.902945048247403,277.9043910679969,1.3e+04\n",
            "2000000,3999.9999999192364,66.82102533508571,323.2509041891356,1.29e+04\n",
            "2250000,4499.9999999992715,42.11781234267845,349.94822225810316,1.29e+04\n",
            "2500000,5000.000000101135,39.503236114116724,343.8477348110716,1.3e+04\n",
            "2750000,5500.000000202998,57.073826307533004,233.58433188587452,1.29e+04\n",
            "3000000,6000.000000304862,36.690487023145295,201.89448783727553,1.29e+04\n",
            "3250000,6500.000000406725,35.246847445622734,260.7938455107179,1.26e+04\n",
            "3500000,7000.0000005085885,52.334211163523086,294.52494245300306,1.27e+04\n",
            "3750000,7500.000000610452,61.65298439722641,178.70294402355555,1.27e+04\n",
            "4000000,8000.000000712315,27.77292782239638,346.0999124962679,1.27e+04\n",
            "4250000,8500.000000814178,42.992906894163106,419.05562351832185,1.27e+04\n",
            "4500000,9000.000000916041,35.742900349434535,291.3126791309887,1.28e+04\n",
            "4750000,9500.000001017905,37.47853989848417,294.8658849033574,1.28e+04\n",
            "5000000,10000.000001119768,55.80132761097621,383.86007868127876,1.28e+04\n",
            "5250000,10500.000001221631,37.27174407379959,197.82159104869112,1.28e+04\n",
            "5500000,11000.000001323495,40.94687080471174,194.53301986105907,1.28e+04\n",
            "5750000,11500.000001425358,37.26425631577022,412.314975753917,1.28e+04\n",
            "6000000,12000.000001527222,45.73284409678628,187.74731818793995,1.28e+04\n",
            "6250000,12500.000001629085,27.579595066019326,281.9223876672739,1.29e+04\n",
            "6500000,13000.000001730948,36.907349187169956,257.4028993428416,1.29e+04\n",
            "6750000,13500.000001832812,40.3496018427736,335.9835402711282,1.29e+04\n",
            "7000000,14000.000001934675,45.928054772511416,290.39721144855685,1.29e+04\n",
            "7250000,14500.000002036539,42.50330379759751,322.9823709100973,1.29e+04\n",
            "7500000,15000.000002138402,42.0643761631053,235.70631014489288,1.29e+04\n",
            "7750000,15500.000002240266,40.555913119545345,374.0361208025179,1.29e+04\n",
            "8000000,16000.000002342129,42.54986894797853,258.1238819812285,1.29e+04\n",
            "8250000,16500.00000244399,66.71936173282215,416.135906664949,1.29e+04\n",
            "8500000,17000.000002545854,57.44778916322968,194.81732356371583,1.29e+04\n",
            "8750000,17500.000002647717,49.54551935857759,277.1699649965096,1.29e+04\n",
            "9000000,18000.00000274958,45.576001499203755,208.4452328402894,1.29e+04\n",
            "9250000,18500.000002851444,53.19316464770948,324.94825685068207,1.28e+04\n",
            "9500000,19000.000002953308,24.59427022456865,279.86702856121246,1.26e+04\n",
            "9750000,19500.00000305517,49.59617805904437,244.60839203412658,1.24e+04\n",
            "10000000,20000.000003157034,40.05456824214265,368.2184880619423,1.23e+04\n",
            "Done!\n",
            "Time required for simulation: 139.91075825691223 seconds\n"
          ]
        }
      ]
    },
    {
      "cell_type": "code",
      "metadata": {
        "colab": {
          "base_uri": "https://localhost:8080/"
        },
        "id": "01YETJ-X--5U",
        "outputId": "8501cf40-3192-430c-a4b8-9cf4f9b7774d"
      },
      "source": [
        "!pip install nglview 2>&1 1>/dev/null\n",
        "!conda install -c conda-forge mdtraj  --yes 2>&1 1>/dev/null"
      ],
      "execution_count": 15,
      "outputs": [
        {
          "output_type": "stream",
          "name": "stdout",
          "text": [
            "\u001b[33mWARNING: Running pip as the 'root' user can result in broken permissions and conflicting behaviour with the system package manager. It is recommended to use a virtual environment instead: https://pip.pypa.io/warnings/venv\u001b[0m\u001b[33m\n",
            "\u001b[0m"
          ]
        }
      ]
    },
    {
      "cell_type": "code",
      "metadata": {
        "id": "S7txpJFO_xSQ"
      },
      "source": [
        "import mdtraj as md\n",
        "traj = md.load('butane_sim.dcd', top=initial_pdb)\n"
      ],
      "execution_count": 16,
      "outputs": []
    },
    {
      "cell_type": "code",
      "metadata": {
        "colab": {
          "base_uri": "https://localhost:8080/",
          "height": 337,
          "referenced_widgets": [
            "f00cd27c7f6b42ad89b2286b89a49d01",
            "2c746d2463b245dd83d95ed3e85c1e65",
            "856ecc9049b943768ec05a0c5971a4a7",
            "bd6c35c9c0b9464e85959c297d17f3d5",
            "984ab03bba774463be99fcba0c3f7566",
            "3342313330e44fac96844e4f48fe886a",
            "980dfc518e324cf78d4685dd536c21af",
            "d41bfa3ecb6e442981ac6b9d8683bf33",
            "043145bf23f2469983a1f7f3af8ff3fd",
            "8eba0910453345c2911633d217cf3efb",
            "4b987095d1034bc4ae5708ed8ad8b3c5",
            "fde794ae04b44b83881376fa5be62ba7",
            "574bc149dd3a45c1975eab1dc078130a",
            "355986de0430441bae01be5023846035",
            "30107671bc6d4ea8b8c59bb1185587e9"
          ]
        },
        "id": "o62FhIWVAWAT",
        "outputId": "f1b58678-2809-43f2-8e8d-6b186718bf47"
      },
      "source": [
        "import ipywidgets\n",
        "from ipywidgets import interact, fixed\n",
        "import warnings\n",
        "warnings.filterwarnings('ignore')\n",
        "from google.colab import output\n",
        "output.enable_custom_widget_manager()\n",
        "\n",
        "import nglview as ngl\n",
        "\n",
        "visualize = ngl.show_mdtraj(traj)\n",
        "visualize"
      ],
      "execution_count": 17,
      "outputs": [
        {
          "output_type": "display_data",
          "data": {
            "text/plain": [],
            "application/vnd.jupyter.widget-view+json": {
              "version_major": 2,
              "version_minor": 0,
              "model_id": "f00cd27c7f6b42ad89b2286b89a49d01"
            }
          },
          "metadata": {
            "application/vnd.jupyter.widget-view+json": {
              "colab": {
                "custom_widget_manager": {
                  "url": "https://ssl.gstatic.com/colaboratory-static/widgets/colab-cdn-widget-manager/d2e234f7cc04bf79/manager.min.js"
                }
              }
            }
          }
        },
        {
          "output_type": "display_data",
          "data": {
            "text/plain": [
              "NGLWidget(max_frame=99999)"
            ],
            "application/vnd.jupyter.widget-view+json": {
              "version_major": 2,
              "version_minor": 0,
              "model_id": "4b987095d1034bc4ae5708ed8ad8b3c5"
            }
          },
          "metadata": {
            "application/vnd.jupyter.widget-view+json": {
              "colab": {
                "custom_widget_manager": {
                  "url": "https://ssl.gstatic.com/colaboratory-static/widgets/colab-cdn-widget-manager/d2e234f7cc04bf79/manager.min.js"
                }
              }
            }
          }
        }
      ]
    },
    {
      "cell_type": "code",
      "metadata": {
        "colab": {
          "base_uri": "https://localhost:8080/",
          "height": 488
        },
        "id": "qWG80bj3BE1s",
        "outputId": "08b51c37-5aaf-4176-894c-a1dd6fb4a64b"
      },
      "source": [
        "atoms, bonds = traj.topology.to_dataframe()\n",
        "atoms"
      ],
      "execution_count": 18,
      "outputs": [
        {
          "output_type": "execute_result",
          "data": {
            "text/plain": [
              "    serial name element  resSeq resName  chainID segmentID\n",
              "0        1   C1       C       0     NBU        0          \n",
              "1        2   C2       C       0     NBU        0          \n",
              "2        3   C3       C       0     NBU        0          \n",
              "3        4   C4       C       0     NBU        0          \n",
              "4        5  H11       H       0     NBU        0          \n",
              "5        6  H12       H       0     NBU        0          \n",
              "6        7  H13       H       0     NBU        0          \n",
              "7        8  H21       H       0     NBU        0          \n",
              "8        9  H22       H       0     NBU        0          \n",
              "9       10  H31       H       0     NBU        0          \n",
              "10      11  H32       H       0     NBU        0          \n",
              "11      12  H41       H       0     NBU        0          \n",
              "12      13  H42       H       0     NBU        0          \n",
              "13      14  H43       H       0     NBU        0          "
            ],
            "text/html": [
              "\n",
              "  <div id=\"df-569299a5-86c1-4500-a7e0-b2bafeb4de07\">\n",
              "    <div class=\"colab-df-container\">\n",
              "      <div>\n",
              "<style scoped>\n",
              "    .dataframe tbody tr th:only-of-type {\n",
              "        vertical-align: middle;\n",
              "    }\n",
              "\n",
              "    .dataframe tbody tr th {\n",
              "        vertical-align: top;\n",
              "    }\n",
              "\n",
              "    .dataframe thead th {\n",
              "        text-align: right;\n",
              "    }\n",
              "</style>\n",
              "<table border=\"1\" class=\"dataframe\">\n",
              "  <thead>\n",
              "    <tr style=\"text-align: right;\">\n",
              "      <th></th>\n",
              "      <th>serial</th>\n",
              "      <th>name</th>\n",
              "      <th>element</th>\n",
              "      <th>resSeq</th>\n",
              "      <th>resName</th>\n",
              "      <th>chainID</th>\n",
              "      <th>segmentID</th>\n",
              "    </tr>\n",
              "  </thead>\n",
              "  <tbody>\n",
              "    <tr>\n",
              "      <th>0</th>\n",
              "      <td>1</td>\n",
              "      <td>C1</td>\n",
              "      <td>C</td>\n",
              "      <td>0</td>\n",
              "      <td>NBU</td>\n",
              "      <td>0</td>\n",
              "      <td></td>\n",
              "    </tr>\n",
              "    <tr>\n",
              "      <th>1</th>\n",
              "      <td>2</td>\n",
              "      <td>C2</td>\n",
              "      <td>C</td>\n",
              "      <td>0</td>\n",
              "      <td>NBU</td>\n",
              "      <td>0</td>\n",
              "      <td></td>\n",
              "    </tr>\n",
              "    <tr>\n",
              "      <th>2</th>\n",
              "      <td>3</td>\n",
              "      <td>C3</td>\n",
              "      <td>C</td>\n",
              "      <td>0</td>\n",
              "      <td>NBU</td>\n",
              "      <td>0</td>\n",
              "      <td></td>\n",
              "    </tr>\n",
              "    <tr>\n",
              "      <th>3</th>\n",
              "      <td>4</td>\n",
              "      <td>C4</td>\n",
              "      <td>C</td>\n",
              "      <td>0</td>\n",
              "      <td>NBU</td>\n",
              "      <td>0</td>\n",
              "      <td></td>\n",
              "    </tr>\n",
              "    <tr>\n",
              "      <th>4</th>\n",
              "      <td>5</td>\n",
              "      <td>H11</td>\n",
              "      <td>H</td>\n",
              "      <td>0</td>\n",
              "      <td>NBU</td>\n",
              "      <td>0</td>\n",
              "      <td></td>\n",
              "    </tr>\n",
              "    <tr>\n",
              "      <th>5</th>\n",
              "      <td>6</td>\n",
              "      <td>H12</td>\n",
              "      <td>H</td>\n",
              "      <td>0</td>\n",
              "      <td>NBU</td>\n",
              "      <td>0</td>\n",
              "      <td></td>\n",
              "    </tr>\n",
              "    <tr>\n",
              "      <th>6</th>\n",
              "      <td>7</td>\n",
              "      <td>H13</td>\n",
              "      <td>H</td>\n",
              "      <td>0</td>\n",
              "      <td>NBU</td>\n",
              "      <td>0</td>\n",
              "      <td></td>\n",
              "    </tr>\n",
              "    <tr>\n",
              "      <th>7</th>\n",
              "      <td>8</td>\n",
              "      <td>H21</td>\n",
              "      <td>H</td>\n",
              "      <td>0</td>\n",
              "      <td>NBU</td>\n",
              "      <td>0</td>\n",
              "      <td></td>\n",
              "    </tr>\n",
              "    <tr>\n",
              "      <th>8</th>\n",
              "      <td>9</td>\n",
              "      <td>H22</td>\n",
              "      <td>H</td>\n",
              "      <td>0</td>\n",
              "      <td>NBU</td>\n",
              "      <td>0</td>\n",
              "      <td></td>\n",
              "    </tr>\n",
              "    <tr>\n",
              "      <th>9</th>\n",
              "      <td>10</td>\n",
              "      <td>H31</td>\n",
              "      <td>H</td>\n",
              "      <td>0</td>\n",
              "      <td>NBU</td>\n",
              "      <td>0</td>\n",
              "      <td></td>\n",
              "    </tr>\n",
              "    <tr>\n",
              "      <th>10</th>\n",
              "      <td>11</td>\n",
              "      <td>H32</td>\n",
              "      <td>H</td>\n",
              "      <td>0</td>\n",
              "      <td>NBU</td>\n",
              "      <td>0</td>\n",
              "      <td></td>\n",
              "    </tr>\n",
              "    <tr>\n",
              "      <th>11</th>\n",
              "      <td>12</td>\n",
              "      <td>H41</td>\n",
              "      <td>H</td>\n",
              "      <td>0</td>\n",
              "      <td>NBU</td>\n",
              "      <td>0</td>\n",
              "      <td></td>\n",
              "    </tr>\n",
              "    <tr>\n",
              "      <th>12</th>\n",
              "      <td>13</td>\n",
              "      <td>H42</td>\n",
              "      <td>H</td>\n",
              "      <td>0</td>\n",
              "      <td>NBU</td>\n",
              "      <td>0</td>\n",
              "      <td></td>\n",
              "    </tr>\n",
              "    <tr>\n",
              "      <th>13</th>\n",
              "      <td>14</td>\n",
              "      <td>H43</td>\n",
              "      <td>H</td>\n",
              "      <td>0</td>\n",
              "      <td>NBU</td>\n",
              "      <td>0</td>\n",
              "      <td></td>\n",
              "    </tr>\n",
              "  </tbody>\n",
              "</table>\n",
              "</div>\n",
              "      <button class=\"colab-df-convert\" onclick=\"convertToInteractive('df-569299a5-86c1-4500-a7e0-b2bafeb4de07')\"\n",
              "              title=\"Convert this dataframe to an interactive table.\"\n",
              "              style=\"display:none;\">\n",
              "        \n",
              "  <svg xmlns=\"http://www.w3.org/2000/svg\" height=\"24px\"viewBox=\"0 0 24 24\"\n",
              "       width=\"24px\">\n",
              "    <path d=\"M0 0h24v24H0V0z\" fill=\"none\"/>\n",
              "    <path d=\"M18.56 5.44l.94 2.06.94-2.06 2.06-.94-2.06-.94-.94-2.06-.94 2.06-2.06.94zm-11 1L8.5 8.5l.94-2.06 2.06-.94-2.06-.94L8.5 2.5l-.94 2.06-2.06.94zm10 10l.94 2.06.94-2.06 2.06-.94-2.06-.94-.94-2.06-.94 2.06-2.06.94z\"/><path d=\"M17.41 7.96l-1.37-1.37c-.4-.4-.92-.59-1.43-.59-.52 0-1.04.2-1.43.59L10.3 9.45l-7.72 7.72c-.78.78-.78 2.05 0 2.83L4 21.41c.39.39.9.59 1.41.59.51 0 1.02-.2 1.41-.59l7.78-7.78 2.81-2.81c.8-.78.8-2.07 0-2.86zM5.41 20L4 18.59l7.72-7.72 1.47 1.35L5.41 20z\"/>\n",
              "  </svg>\n",
              "      </button>\n",
              "      \n",
              "  <style>\n",
              "    .colab-df-container {\n",
              "      display:flex;\n",
              "      flex-wrap:wrap;\n",
              "      gap: 12px;\n",
              "    }\n",
              "\n",
              "    .colab-df-convert {\n",
              "      background-color: #E8F0FE;\n",
              "      border: none;\n",
              "      border-radius: 50%;\n",
              "      cursor: pointer;\n",
              "      display: none;\n",
              "      fill: #1967D2;\n",
              "      height: 32px;\n",
              "      padding: 0 0 0 0;\n",
              "      width: 32px;\n",
              "    }\n",
              "\n",
              "    .colab-df-convert:hover {\n",
              "      background-color: #E2EBFA;\n",
              "      box-shadow: 0px 1px 2px rgba(60, 64, 67, 0.3), 0px 1px 3px 1px rgba(60, 64, 67, 0.15);\n",
              "      fill: #174EA6;\n",
              "    }\n",
              "\n",
              "    [theme=dark] .colab-df-convert {\n",
              "      background-color: #3B4455;\n",
              "      fill: #D2E3FC;\n",
              "    }\n",
              "\n",
              "    [theme=dark] .colab-df-convert:hover {\n",
              "      background-color: #434B5C;\n",
              "      box-shadow: 0px 1px 3px 1px rgba(0, 0, 0, 0.15);\n",
              "      filter: drop-shadow(0px 1px 2px rgba(0, 0, 0, 0.3));\n",
              "      fill: #FFFFFF;\n",
              "    }\n",
              "  </style>\n",
              "\n",
              "      <script>\n",
              "        const buttonEl =\n",
              "          document.querySelector('#df-569299a5-86c1-4500-a7e0-b2bafeb4de07 button.colab-df-convert');\n",
              "        buttonEl.style.display =\n",
              "          google.colab.kernel.accessAllowed ? 'block' : 'none';\n",
              "\n",
              "        async function convertToInteractive(key) {\n",
              "          const element = document.querySelector('#df-569299a5-86c1-4500-a7e0-b2bafeb4de07');\n",
              "          const dataTable =\n",
              "            await google.colab.kernel.invokeFunction('convertToInteractive',\n",
              "                                                     [key], {});\n",
              "          if (!dataTable) return;\n",
              "\n",
              "          const docLinkHtml = 'Like what you see? Visit the ' +\n",
              "            '<a target=\"_blank\" href=https://colab.research.google.com/notebooks/data_table.ipynb>data table notebook</a>'\n",
              "            + ' to learn more about interactive tables.';\n",
              "          element.innerHTML = '';\n",
              "          dataTable['output_type'] = 'display_data';\n",
              "          await google.colab.output.renderOutput(dataTable, element);\n",
              "          const docLink = document.createElement('div');\n",
              "          docLink.innerHTML = docLinkHtml;\n",
              "          element.appendChild(docLink);\n",
              "        }\n",
              "      </script>\n",
              "    </div>\n",
              "  </div>\n",
              "  "
            ]
          },
          "metadata": {},
          "execution_count": 18
        }
      ]
    },
    {
      "cell_type": "code",
      "metadata": {
        "colab": {
          "base_uri": "https://localhost:8080/",
          "height": 295
        },
        "id": "8IkYIlYkBLeP",
        "outputId": "2981fc9c-457b-4936-e20a-8ddf7d721a6d"
      },
      "source": [
        "bond_indices = [4, 7] # atoms to define the bond length\n",
        "bond_length = md.compute_distances(traj, [bond_indices])\n",
        "\n",
        "bondcounts, binedges, otherstuff = plt.hist(bond_length, bins=120)\n",
        "plt.title('C-C bond length histogram')\n",
        "plt.xlabel('Bond length (nm)')\n",
        "plt.ylabel('Counts')\n",
        "plt.show()"
      ],
      "execution_count": 29,
      "outputs": [
        {
          "output_type": "display_data",
          "data": {
            "text/plain": [
              "<Figure size 432x288 with 1 Axes>"
            ],
            "image/png": "[encoded data removed]"
          },
          "metadata": {
            "needs_background": "light"
          }
        }
      ]
    },
    {
      "cell_type": "code",
      "metadata": {
        "colab": {
          "base_uri": "https://localhost:8080/",
          "height": 295
        },
        "id": "o2fyETQ3DNcJ",
        "outputId": "c35dd71a-8077-4b94-b419-4fffecdd2137"
      },
      "source": [
        "kB = 8.31446/1000 # Boltzmann constant in kJ/mol\n",
        "Temp = 298.15 # simulation temperature\n",
        "bondcounts[bondcounts==0] = 0.1 # get rid of any bins with 0 counts/infinite energy\n",
        "pmf = -kB*Temp*np.log(bondcounts) # W(x) = -kT*ln[p(x)] = -kT*ln[n(x)] + C\n",
        "pmf = pmf - np.min(pmf) # subtract off minimum value so that energies start from 0\n",
        "\n",
        "bincenters = (binedges[1:] + binedges[:-1])/2 # compute centers of histogram bins\n",
        "\n",
        "plt.plot(bincenters, pmf)\n",
        "plt.xlabel('Bond length (nm)')\n",
        "plt.ylabel('Relative free energy (kJ/mol)')\n",
        "plt.title('C-C bond length pmf')\n",
        "plt.show()"
      ],
      "execution_count": 20,
      "outputs": [
        {
          "output_type": "display_data",
          "data": {
            "text/plain": [
              "<Figure size 432x288 with 1 Axes>"
            ],
            "image/png": "[encoded data removed]"
          },
          "metadata": {
            "needs_background": "light"
          }
        }
      ]
    },
    {
      "cell_type": "code",
      "metadata": {
        "colab": {
          "base_uri": "https://localhost:8080/",
          "height": 295
        },
        "id": "ukZa6k5uChho",
        "outputId": "9b0bde24-7f0a-493c-84fe-b6f718317dab"
      },
      "source": [
        "bond_indices = [4, 5] # many possibilities!\n",
        "bondlength = md.compute_distances(traj, [bond_indices])\n",
        "\n",
        "lengthcounts, binedges, otherstuff = plt.hist(bondlength, bins=100)\n",
        "plt.title('C-H bond length')\n",
        "plt.xlabel('Bond length (nm)')\n",
        "plt.ylabel('Counts')\n",
        "plt.show()"
      ],
      "execution_count": 21,
      "outputs": [
        {
          "output_type": "display_data",
          "data": {
            "text/plain": [
              "<Figure size 432x288 with 1 Axes>"
            ],
            "image/png": "[encoded data removed]"
          },
          "metadata": {
            "needs_background": "light"
          }
        }
      ]
    },
    {
      "cell_type": "code",
      "metadata": {
        "colab": {
          "base_uri": "https://localhost:8080/",
          "height": 295
        },
        "id": "vHKuVS7ADa8z",
        "outputId": "29378360-61ba-4320-c009-2a0d2f7ca4d7"
      },
      "source": [
        "kB = 8.31446/1000 # Boltzmann constant in kJ/mol\n",
        "Temp = 298.15 # simulation temperature\n",
        "lengthcounts[lengthcounts==0] = 0.1 # get rid of any bins with 0 counts/infinite energy\n",
        "pmf = -kB*Temp*np.log(lengthcounts) # W(x) = -kT*ln[p(x)] = -kT*ln[n(x)] + C\n",
        "pmf = pmf - np.min(pmf) # subtract off minimum value so that energies start from 0\n",
        "\n",
        "bincenters = (binedges[1:] + binedges[:-1])/2 # compute centers of histogram bins\n",
        "\n",
        "plt.plot(bincenters, pmf)\n",
        "plt.xlabel('Bond length (nm)')\n",
        "plt.ylabel('Relative free energy (kJ/mol)')\n",
        "plt.title('C-H bond length pmf')\n",
        "plt.show()"
      ],
      "execution_count": 22,
      "outputs": [
        {
          "output_type": "display_data",
          "data": {
            "text/plain": [
              "<Figure size 432x288 with 1 Axes>"
            ],
            "image/png": "[encoded data removed]"
          },
          "metadata": {
            "needs_background": "light"
          }
        }
      ]
    },
    {
      "cell_type": "code",
      "metadata": {
        "colab": {
          "base_uri": "https://localhost:8080/",
          "height": 299
        },
        "id": "T5oNvZGHBfs4",
        "outputId": "f67df04b-14fa-411d-a641-19e2b5a71e6c"
      },
      "source": [
        "phi_indices = [0, 4, 7, 10] # atoms to define the torsion angle\n",
        "phi = md.compute_dihedrals(traj, [phi_indices])\n",
        "\n",
        "phicounts, binedges, otherstuff = plt.hist(phi, bins=90) # create a histogram with 90 bins\n",
        "plt.title('H-C-C-H torsion angle')\n",
        "plt.xlabel(r'$\\phi$ (rad)')\n",
        "plt.ylabel('Counts')\n",
        "plt.show()"
      ],
      "execution_count": 23,
      "outputs": [
        {
          "output_type": "display_data",
          "data": {
            "text/plain": [
              "<Figure size 432x288 with 1 Axes>"
            ],
            "image/png": "[encoded data removed]"
          },
          "metadata": {
            "needs_background": "light"
          }
        }
      ]
    },
    {
      "cell_type": "code",
      "metadata": {
        "colab": {
          "base_uri": "https://localhost:8080/",
          "height": 299
        },
        "id": "XTqsagjkB9XZ",
        "outputId": "e082823b-cf23-4606-df90-26d761dd3c34"
      },
      "source": [
        "kB = 8.31446/1000 # Boltzmann constant in kJ/mol\n",
        "Temp = 298.15 # simulation temperature\n",
        "phicounts[phicounts==0] = 0.1 # get rid of any bins with 0 counts/infinite energy\n",
        "pmf = -kB*Temp*np.log(phicounts) # W(x) = -kT*ln[p(x)] = -kT*ln[n(x)] + C\n",
        "pmf = pmf - np.min(pmf) # subtract off minimum value so that energies start from 0\n",
        "\n",
        "bincenters = (binedges[1:] + binedges[:-1])/2 # compute centers of histogram bins\n",
        "\n",
        "plt.plot(bincenters, pmf)\n",
        "plt.title('H-C-C-H torsion pmf')\n",
        "plt.xlabel(r'$\\phi$ (rad)')\n",
        "plt.ylabel('Relative free energy (kJ/mol)')\n",
        "plt.show()"
      ],
      "execution_count": 24,
      "outputs": [
        {
          "output_type": "display_data",
          "data": {
            "text/plain": [
              "<Figure size 432x288 with 1 Axes>"
            ],
            "image/png": "[encoded data removed]"
          },
          "metadata": {
            "needs_background": "light"
          }
        }
      ]
    },
    {
      "cell_type": "code",
      "metadata": {
        "colab": {
          "base_uri": "https://localhost:8080/",
          "height": 295
        },
        "id": "7m47X3aGCHL_",
        "outputId": "cae1141c-6039-40de-bd7b-3f5be81e97f3"
      },
      "source": [
        "angle_indices = [0, 4, 7] # or could do [4, 7, 10]\n",
        "bondangle = md.compute_angles(traj, [angle_indices])\n",
        "\n",
        "anglecounts, binedges, otherstuff = plt.hist(bondangle, bins=100)\n",
        "plt.title('C-C-C bond angle')\n",
        "plt.xlabel('Bond angle (rad)')\n",
        "plt.ylabel('Counts')\n",
        "plt.show()"
      ],
      "execution_count": 25,
      "outputs": [
        {
          "output_type": "display_data",
          "data": {
            "text/plain": [
              "<Figure size 432x288 with 1 Axes>"
            ],
            "image/png": "[encoded data removed]"
          },
          "metadata": {
            "needs_background": "light"
          }
        }
      ]
    },
    {
      "cell_type": "code",
      "metadata": {
        "colab": {
          "base_uri": "https://localhost:8080/",
          "height": 279
        },
        "id": "HlyahiMcCa3e",
        "outputId": "a551dc3a-0d1c-4b3d-b54d-f63251ed3601"
      },
      "source": [
        "anglecounts[anglecounts==0] = 0.1\n",
        "pmf = -kB*Temp*np.log(anglecounts)\n",
        "pmf = pmf - np.min(pmf)\n",
        "\n",
        "bincenters = (binedges[1:] + binedges[:-1])/2\n",
        "\n",
        "\n",
        "plt.plot(bincenters, pmf)\n",
        "plt.xlabel('Bond angle (rad)')\n",
        "plt.ylabel('Relative free energy (kJ/mol)')\n",
        "plt.show()"
      ],
      "execution_count": 26,
      "outputs": [
        {
          "output_type": "display_data",
          "data": {
            "text/plain": [
              "<Figure size 432x288 with 1 Axes>"
            ],
            "image/png": "[encoded data removed]"
          },
          "metadata": {
            "needs_background": "light"
          }
        }
      ]
    },
    {
      "cell_type": "code",
      "metadata": {
        "id": "bu4VSAK2Cf_r"
      },
      "source": [],
      "execution_count": 26,
      "outputs": []
    }
  ]
}
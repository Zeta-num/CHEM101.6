{
  "nbformat": 4,
  "nbformat_minor": 0,
  "metadata": {
    "accelerator": "GPU",
    "colab": {
      "name": "Butane_OpenMM.ipynb",
      "provenance": [],
      "collapsed_sections": [],
      "include_colab_link": true
    },
    "kernelspec": {
      "display_name": "Python 3",
      "name": "python3"
    },
    "widgets": {
      "application/vnd.jupyter.widget-state+json": {
        "2f87206d8a7240a8bc28bedb46ffe524": {
          "model_module": "nglview-js-widgets",
          "model_name": "NGLModel",
          "model_module_version": "3.0.1",
          "state": {
            "_view_name": "NGLView",
            "_scene_rotation": {},
            "_ngl_view_id": [
              "EB216DAF-0D6A-4C72-872E-577D96B20A95"
            ],
            "_synced_model_ids": [],
            "_camera_orientation": [
              5.36996847678702,
              16.38649005142443,
              16.79464164223899,
              0,
              -18.434430664727387,
              -7.713073240524904,
              13.419905841398139,
              0,
              14.517190160771683,
              -15.855757645700995,
              10.828653880105302,
              0,
              2.8865000903606415,
              -2.639499932527542,
              -0.03149998188018799,
              1
            ],
            "frame": 87,
            "_view_module": "nglview-js-widgets",
            "_ibtn_fullscreen": "IPY_MODEL_8fe24a18868c438187dc53ef24ac0c47",
            "_camera_str": "orthographic",
            "_ngl_serialize": false,
            "picked": {},
            "_model_module": "nglview-js-widgets",
            "_igui": null,
            "_iplayer": "IPY_MODEL_ca93df9ece0849f6a858e1ef75387970",
            "layout": "IPY_MODEL_1dbca630db2543ff9784f6f91f80e2cd",
            "_view_width": "",
            "_ngl_coordinate_resource": {},
            "_view_module_version": "3.0.1",
            "_player_dict": {},
            "_synced_repr_model_ids": [],
            "_ngl_version": "2.0.0-dev.36",
            "max_frame": 99999,
            "_dom_classes": [],
            "_model_name": "NGLModel",
            "_scene_position": {},
            "_model_module_version": "3.0.1",
            "gui_style": null,
            "background": "white",
            "_view_count": null,
            "_view_height": "",
            "_ngl_repr_dict": {
              "0": {
                "0": {
                  "type": "ball+stick",
                  "params": {
                    "clipCenter": {
                      "y": 0,
                      "x": 0,
                      "z": 0
                    },
                    "cylinderOnly": false,
                    "radiusScale": 2,
                    "metalness": 0,
                    "visible": true,
                    "radiusData": {},
                    "linewidth": 2,
                    "quality": "high",
                    "depthWrite": true,
                    "openEnded": true,
                    "disablePicking": false,
                    "radiusType": "size",
                    "sele": "",
                    "wireframe": false,
                    "lineOnly": false,
                    "colorReverse": false,
                    "roughness": 0.4,
                    "flatShaded": false,
                    "bondScale": 0.3,
                    "clipNear": 0,
                    "useInteriorColor": true,
                    "opacity": 1,
                    "lazy": false,
                    "multipleBond": "off",
                    "assembly": "default",
                    "disableImpostor": false,
                    "colorScale": "",
                    "bondSpacing": 0.75,
                    "interiorColor": 2236962,
                    "clipRadius": 0,
                    "radiusSize": 0.15,
                    "colorScheme": "element",
                    "diffuse": 16777215,
                    "matrix": {
                      "elements": [
                        1,
                        0,
                        0,
                        0,
                        0,
                        1,
                        0,
                        0,
                        0,
                        0,
                        1,
                        0,
                        0,
                        0,
                        0,
                        1
                      ]
                    },
                    "defaultAssembly": "",
                    "radialSegments": 20,
                    "diffuseInterior": false,
                    "colorMode": "hcl",
                    "sphereDetail": 2,
                    "interiorDarkening": 0,
                    "aspectRatio": 1.5,
                    "side": "double",
                    "colorValue": 9474192
                  }
                }
              },
              "1": {
                "0": {
                  "type": "ball+stick",
                  "params": {
                    "clipCenter": {
                      "y": 0,
                      "x": 0,
                      "z": 0
                    },
                    "cylinderOnly": false,
                    "radiusScale": 2,
                    "metalness": 0,
                    "visible": true,
                    "radiusData": {},
                    "linewidth": 2,
                    "quality": "high",
                    "depthWrite": true,
                    "openEnded": true,
                    "disablePicking": false,
                    "radiusType": "size",
                    "sele": "",
                    "wireframe": false,
                    "lineOnly": false,
                    "colorReverse": false,
                    "roughness": 0.4,
                    "flatShaded": false,
                    "bondScale": 0.3,
                    "clipNear": 0,
                    "useInteriorColor": true,
                    "opacity": 1,
                    "lazy": false,
                    "multipleBond": "off",
                    "assembly": "default",
                    "disableImpostor": false,
                    "colorScale": "",
                    "bondSpacing": 0.75,
                    "interiorColor": 2236962,
                    "clipRadius": 0,
                    "radiusSize": 0.15,
                    "colorScheme": "element",
                    "diffuse": 16777215,
                    "matrix": {
                      "elements": [
                        1,
                        0,
                        0,
                        0,
                        0,
                        1,
                        0,
                        0,
                        0,
                        0,
                        1,
                        0,
                        0,
                        0,
                        0,
                        1
                      ]
                    },
                    "defaultAssembly": "",
                    "radialSegments": 20,
                    "diffuseInterior": false,
                    "colorMode": "hcl",
                    "sphereDetail": 2,
                    "interiorDarkening": 0,
                    "aspectRatio": 1.5,
                    "side": "double",
                    "colorValue": 9474192
                  }
                }
              }
            },
            "_ngl_original_stage_parameters": {
              "impostor": true,
              "quality": "medium",
              "workerDefault": true,
              "sampleLevel": 0,
              "backgroundColor": "white",
              "rotateSpeed": 2,
              "zoomSpeed": 1.2,
              "panSpeed": 1,
              "clipNear": 0,
              "clipFar": 100,
              "clipDist": 10,
              "fogNear": 50,
              "fogFar": 100,
              "cameraFov": 40,
              "cameraEyeSep": 0.3,
              "cameraType": "perspective",
              "lightColor": 14540253,
              "lightIntensity": 1,
              "ambientColor": 14540253,
              "ambientIntensity": 0.2,
              "hoverTimeout": 0,
              "tooltip": true,
              "mousePreset": "default"
            },
            "_ngl_full_stage_parameters": {
              "impostor": true,
              "quality": "medium",
              "workerDefault": true,
              "sampleLevel": 0,
              "backgroundColor": "white",
              "rotateSpeed": 2,
              "zoomSpeed": 1.2,
              "panSpeed": 1,
              "clipNear": 0,
              "clipFar": 100,
              "clipDist": 10,
              "fogNear": 50,
              "fogFar": 100,
              "cameraFov": 40,
              "cameraEyeSep": 0.3,
              "cameraType": "perspective",
              "lightColor": 14540253,
              "lightIntensity": 1,
              "ambientColor": 14540253,
              "ambientIntensity": 0.2,
              "hoverTimeout": 0,
              "tooltip": true,
              "mousePreset": "default"
            },
            "n_components": 2,
            "_ngl_color_dict": {},
            "_gui_theme": null,
            "_ngl_msg_archive": [
              {
                "reconstruc_color_scheme": false,
                "methodName": "loadFile",
                "target": "Stage",
                "args": [
                  {
                    "data": "MODEL        0\nATOM      1  C1  NBU A   1      -1.505   3.807  -0.759  1.00  0.00           C  \nATOM      2  H11 NBU A   1      -0.828   3.073  -1.213  1.00  0.00           H  \nATOM      3  H12 NBU A   1      -1.121   4.271   0.158  1.00  0.00           H  \nATOM      4  H13 NBU A   1      -1.429   4.620  -1.492  1.00  0.00           H  \nATOM      5  C2  NBU A   1      -2.848   3.113  -0.589  1.00  0.00           C  \nATOM      6  H21 NBU A   1      -3.037   2.598  -1.539  1.00  0.00           H  \nATOM      7  H22 NBU A   1      -3.692   3.807  -0.491  1.00  0.00           H  \nATOM      8  C3  NBU A   1      -2.755   2.198   0.651  1.00  0.00           C  \nATOM      9  H31 NBU A   1      -2.643   2.899   1.488  1.00  0.00           H  \nATOM     10  H32 NBU A   1      -1.874   1.549   0.575  1.00  0.00           H  \nATOM     11  C4  NBU A   1      -4.052   1.332   0.737  1.00  0.00           C  \nATOM     12  H41 NBU A   1      -4.945   1.962   0.829  1.00  0.00           H  \nATOM     13  H42 NBU A   1      -4.005   0.659   1.602  1.00  0.00           H  \nATOM     14  H43 NBU A   1      -4.282   0.785  -0.185  1.00  0.00           H  \nTER      15      NBU A   1\nENDMDL\nCONECT    1    4    5    2    3\nCONECT    2    1\nCONECT    3    1\nCONECT    4    1\nCONECT    5    1    7    8    6\nCONECT    6    5\nCONECT    7    5\nCONECT    8    5    9   11   10\nCONECT    9    8\nCONECT   10    8\nCONECT   11    8   12   13   14\nCONECT   12   11\nCONECT   13   11\nCONECT   14   11\nEND\n",
                    "type": "blob",
                    "binary": false
                  }
                ],
                "kwargs": {
                  "ext": "pdb",
                  "name": "nglview.adaptor.MDTrajTrajectory",
                  "defaultRepresentation": true
                },
                "type": "call_method"
              }
            ]
          }
        },
        "1dbca630db2543ff9784f6f91f80e2cd": {
          "model_module": "@jupyter-widgets/base",
          "model_name": "LayoutModel",
          "model_module_version": "1.2.0",
          "state": {
            "_view_name": "LayoutView",
            "grid_template_rows": null,
            "right": null,
            "justify_content": null,
            "_view_module": "@jupyter-widgets/base",
            "overflow": null,
            "_model_module_version": "1.2.0",
            "_view_count": null,
            "flex_flow": null,
            "width": null,
            "min_width": null,
            "border": null,
            "align_items": null,
            "bottom": null,
            "_model_module": "@jupyter-widgets/base",
            "top": null,
            "grid_column": null,
            "overflow_y": null,
            "overflow_x": null,
            "grid_auto_flow": null,
            "grid_area": null,
            "grid_template_columns": null,
            "flex": null,
            "_model_name": "LayoutModel",
            "justify_items": null,
            "grid_row": null,
            "max_height": null,
            "align_content": null,
            "visibility": null,
            "align_self": null,
            "height": null,
            "min_height": null,
            "padding": null,
            "grid_auto_rows": null,
            "grid_gap": null,
            "max_width": null,
            "order": null,
            "_view_module_version": "1.2.0",
            "grid_template_areas": null,
            "object_position": null,
            "object_fit": null,
            "grid_auto_columns": null,
            "margin": null,
            "display": null,
            "left": null
          }
        },
        "8fe24a18868c438187dc53ef24ac0c47": {
          "model_module": "@jupyter-widgets/controls",
          "model_name": "ButtonModel",
          "model_module_version": "1.5.0",
          "state": {
            "_view_name": "ButtonView",
            "style": "IPY_MODEL_d0d7174a01664ddc96f282cc68e53ad0",
            "_dom_classes": [],
            "description": "",
            "_model_name": "ButtonModel",
            "button_style": "",
            "_view_module": "@jupyter-widgets/controls",
            "_model_module_version": "1.5.0",
            "tooltip": "",
            "_view_count": null,
            "disabled": false,
            "_view_module_version": "1.5.0",
            "layout": "IPY_MODEL_33270d05de3a405c9e1c8f3d97f0e2c7",
            "_model_module": "@jupyter-widgets/controls",
            "icon": "compress"
          }
        },
        "ca93df9ece0849f6a858e1ef75387970": {
          "model_module": "@jupyter-widgets/controls",
          "model_name": "HBoxModel",
          "model_module_version": "1.5.0",
          "state": {
            "_view_name": "HBoxView",
            "_dom_classes": [],
            "_model_name": "HBoxModel",
            "_view_module": "@jupyter-widgets/controls",
            "_model_module_version": "1.5.0",
            "_view_count": null,
            "_view_module_version": "1.5.0",
            "box_style": "",
            "layout": "IPY_MODEL_da6f7c12f92a46b7b3aba04ba25b31e6",
            "_model_module": "@jupyter-widgets/controls",
            "children": [
              "IPY_MODEL_c19adbbaed054fd9a630835c7b8c0051",
              "IPY_MODEL_6e59172c44c645e8b11cbdebf38ee024"
            ]
          }
        },
        "f79b90fb27da4c9eb6ce6b8b06c52e46": {
          "model_module": "@jupyter-widgets/controls",
          "model_name": "DescriptionStyleModel",
          "model_module_version": "1.5.0",
          "state": {
            "_view_name": "StyleView",
            "_model_name": "DescriptionStyleModel",
            "description_width": "",
            "_view_module": "@jupyter-widgets/base",
            "_model_module_version": "1.5.0",
            "_view_count": null,
            "_view_module_version": "1.2.0",
            "_model_module": "@jupyter-widgets/controls"
          }
        },
        "c344760dfaf34cb3afd6b03ec8b8eead": {
          "model_module": "@jupyter-widgets/base",
          "model_name": "LayoutModel",
          "model_module_version": "1.2.0",
          "state": {
            "_view_name": "LayoutView",
            "grid_template_rows": null,
            "right": null,
            "justify_content": null,
            "_view_module": "@jupyter-widgets/base",
            "overflow": null,
            "_model_module_version": "1.2.0",
            "_view_count": null,
            "flex_flow": null,
            "width": null,
            "min_width": null,
            "border": null,
            "align_items": null,
            "bottom": null,
            "_model_module": "@jupyter-widgets/base",
            "top": null,
            "grid_column": null,
            "overflow_y": null,
            "overflow_x": null,
            "grid_auto_flow": null,
            "grid_area": null,
            "grid_template_columns": null,
            "flex": null,
            "_model_name": "LayoutModel",
            "justify_items": null,
            "grid_row": null,
            "max_height": null,
            "align_content": null,
            "visibility": null,
            "align_self": null,
            "height": null,
            "min_height": null,
            "padding": null,
            "grid_auto_rows": null,
            "grid_gap": null,
            "max_width": null,
            "order": null,
            "_view_module_version": "1.2.0",
            "grid_template_areas": null,
            "object_position": null,
            "object_fit": null,
            "grid_auto_columns": null,
            "margin": null,
            "display": null,
            "left": null
          }
        },
        "a172355f75e24fc4a2b371239faf6134": {
          "model_module": "@jupyter-widgets/controls",
          "model_name": "SliderStyleModel",
          "model_module_version": "1.5.0",
          "state": {
            "_view_name": "StyleView",
            "handle_color": null,
            "_model_name": "SliderStyleModel",
            "description_width": "",
            "_view_module": "@jupyter-widgets/base",
            "_model_module_version": "1.5.0",
            "_view_count": null,
            "_view_module_version": "1.2.0",
            "_model_module": "@jupyter-widgets/controls"
          }
        },
        "f41de2ecc4304f09b4d7af6df86ef396": {
          "model_module": "@jupyter-widgets/base",
          "model_name": "LayoutModel",
          "model_module_version": "1.2.0",
          "state": {
            "_view_name": "LayoutView",
            "grid_template_rows": null,
            "right": null,
            "justify_content": null,
            "_view_module": "@jupyter-widgets/base",
            "overflow": null,
            "_model_module_version": "1.2.0",
            "_view_count": null,
            "flex_flow": null,
            "width": null,
            "min_width": null,
            "border": null,
            "align_items": null,
            "bottom": null,
            "_model_module": "@jupyter-widgets/base",
            "top": null,
            "grid_column": null,
            "overflow_y": null,
            "overflow_x": null,
            "grid_auto_flow": null,
            "grid_area": null,
            "grid_template_columns": null,
            "flex": null,
            "_model_name": "LayoutModel",
            "justify_items": null,
            "grid_row": null,
            "max_height": null,
            "align_content": null,
            "visibility": null,
            "align_self": null,
            "height": null,
            "min_height": null,
            "padding": null,
            "grid_auto_rows": null,
            "grid_gap": null,
            "max_width": null,
            "order": null,
            "_view_module_version": "1.2.0",
            "grid_template_areas": null,
            "object_position": null,
            "object_fit": null,
            "grid_auto_columns": null,
            "margin": null,
            "display": null,
            "left": null
          }
        },
        "da6f7c12f92a46b7b3aba04ba25b31e6": {
          "model_module": "@jupyter-widgets/base",
          "model_name": "LayoutModel",
          "model_module_version": "1.2.0",
          "state": {
            "_view_name": "LayoutView",
            "grid_template_rows": null,
            "right": null,
            "justify_content": null,
            "_view_module": "@jupyter-widgets/base",
            "overflow": null,
            "_model_module_version": "1.2.0",
            "_view_count": null,
            "flex_flow": null,
            "width": null,
            "min_width": null,
            "border": null,
            "align_items": null,
            "bottom": null,
            "_model_module": "@jupyter-widgets/base",
            "top": null,
            "grid_column": null,
            "overflow_y": null,
            "overflow_x": null,
            "grid_auto_flow": null,
            "grid_area": null,
            "grid_template_columns": null,
            "flex": null,
            "_model_name": "LayoutModel",
            "justify_items": null,
            "grid_row": null,
            "max_height": null,
            "align_content": null,
            "visibility": null,
            "align_self": null,
            "height": null,
            "min_height": null,
            "padding": null,
            "grid_auto_rows": null,
            "grid_gap": null,
            "max_width": null,
            "order": null,
            "_view_module_version": "1.2.0",
            "grid_template_areas": null,
            "object_position": null,
            "object_fit": null,
            "grid_auto_columns": null,
            "margin": null,
            "display": null,
            "left": null
          }
        },
        "c19adbbaed054fd9a630835c7b8c0051": {
          "model_module": "@jupyter-widgets/controls",
          "model_name": "PlayModel",
          "model_module_version": "1.5.0",
          "state": {
            "_view_name": "PlayView",
            "style": "IPY_MODEL_f79b90fb27da4c9eb6ce6b8b06c52e46",
            "interval": 100,
            "_dom_classes": [],
            "description": "",
            "_model_name": "PlayModel",
            "max": 99999,
            "_view_module": "@jupyter-widgets/controls",
            "_model_module_version": "1.5.0",
            "value": 87,
            "_view_count": null,
            "disabled": false,
            "_repeat": false,
            "_view_module_version": "1.5.0",
            "show_repeat": true,
            "min": 0,
            "_playing": false,
            "step": 1,
            "description_tooltip": null,
            "_model_module": "@jupyter-widgets/controls",
            "layout": "IPY_MODEL_c344760dfaf34cb3afd6b03ec8b8eead",
            "playing": false,
            "repeat": true
          }
        },
        "6e59172c44c645e8b11cbdebf38ee024": {
          "model_module": "@jupyter-widgets/controls",
          "model_name": "IntSliderModel",
          "model_module_version": "1.5.0",
          "state": {
            "_view_name": "IntSliderView",
            "style": "IPY_MODEL_a172355f75e24fc4a2b371239faf6134",
            "_dom_classes": [],
            "description": "",
            "step": 1,
            "_model_name": "IntSliderModel",
            "orientation": "horizontal",
            "max": 99999,
            "_view_module": "@jupyter-widgets/controls",
            "_model_module_version": "1.5.0",
            "value": 86,
            "_view_count": null,
            "disabled": false,
            "_view_module_version": "1.5.0",
            "min": 0,
            "continuous_update": true,
            "readout_format": "d",
            "description_tooltip": null,
            "readout": true,
            "_model_module": "@jupyter-widgets/controls",
            "layout": "IPY_MODEL_f41de2ecc4304f09b4d7af6df86ef396"
          }
        },
        "d0d7174a01664ddc96f282cc68e53ad0": {
          "model_module": "@jupyter-widgets/controls",
          "model_name": "ButtonStyleModel",
          "model_module_version": "1.5.0",
          "state": {
            "_view_name": "StyleView",
            "_model_name": "ButtonStyleModel",
            "_view_module": "@jupyter-widgets/base",
            "_model_module_version": "1.5.0",
            "_view_count": null,
            "button_color": null,
            "font_weight": "",
            "_view_module_version": "1.2.0",
            "_model_module": "@jupyter-widgets/controls"
          }
        },
        "33270d05de3a405c9e1c8f3d97f0e2c7": {
          "model_module": "@jupyter-widgets/base",
          "model_name": "LayoutModel",
          "model_module_version": "1.2.0",
          "state": {
            "_view_name": "LayoutView",
            "grid_template_rows": null,
            "right": null,
            "justify_content": null,
            "_view_module": "@jupyter-widgets/base",
            "overflow": null,
            "_model_module_version": "1.2.0",
            "_view_count": null,
            "flex_flow": null,
            "width": "34px",
            "min_width": null,
            "border": null,
            "align_items": null,
            "bottom": null,
            "_model_module": "@jupyter-widgets/base",
            "top": null,
            "grid_column": null,
            "overflow_y": null,
            "overflow_x": null,
            "grid_auto_flow": null,
            "grid_area": null,
            "grid_template_columns": null,
            "flex": null,
            "_model_name": "LayoutModel",
            "justify_items": null,
            "grid_row": null,
            "max_height": null,
            "align_content": null,
            "visibility": null,
            "align_self": null,
            "height": null,
            "min_height": null,
            "padding": null,
            "grid_auto_rows": null,
            "grid_gap": null,
            "max_width": null,
            "order": null,
            "_view_module_version": "1.2.0",
            "grid_template_areas": null,
            "object_position": null,
            "object_fit": null,
            "grid_auto_columns": null,
            "margin": null,
            "display": null,
            "left": null
          }
        }
      }
    }
  },
  "cells": [
    {
      "cell_type": "markdown",
      "metadata": {
        "id": "view-in-github",
        "colab_type": "text"
      },
      "source": [
        "<a href=\"https://colab.research.google.com/github/Zeta-num/CHEM101.6/blob/main/CHEM101.6_Exercise_0_Butane_OpenMM.ipynb\" target=\"_parent\"><img src=\"https://colab.research.google.com/assets/colab-badge.svg\" alt=\"Open In Colab\"/></a>"
      ]
    },
    {
      "cell_type": "markdown",
      "metadata": {
        "id": "pj2BWZxUDbEE"
      },
      "source": [
        "# **Hello there!**\n",
        "\n",
        "This is a Jupyter notebook for running Molecular Dynamics (MD) simulations of Alkanes using the OpenMM engine "
      ]
    },
    {
      "cell_type": "code",
      "metadata": {
        "id": "CY5Hv721m9xM",
        "colab": {
          "base_uri": "https://localhost:8080/",
          "height": 521
        },
        "outputId": "a1ea6933-3ba0-4145-ccd7-bf18e5b2c8b1"
      },
      "source": [
        "#@title ### **Video Demonstration**\n",
        "#@markdown Check the timelapse movie to understand how the pipeline works\n",
        "from IPython.display import YouTubeVideo\n",
        "YouTubeVideo('pVa0mQS6xeo', width=800, height=500)"
      ],
      "execution_count": null,
      "outputs": [
        {
          "output_type": "execute_result",
          "data": {
            "text/html": [
              "\n",
              "        <iframe\n",
              "            width=\"800\"\n",
              "            height=\"500\"\n",
              "            src=\"https://www.youtube.com/embed/pVa0mQS6xeo\"\n",
              "            frameborder=\"0\"\n",
              "            allowfullscreen\n",
              "        ></iframe>\n",
              "        "
            ],
            "text/plain": [
              "<IPython.lib.display.YouTubeVideo at 0x7feac27c5c90>"
            ],
            "image/jpeg": "[encoded data removed]"
          },
          "metadata": {},
          "execution_count": 1
        }
      ]
    },
    {
      "cell_type": "markdown",
      "metadata": {
        "id": "Lh96y6mGFY1D"
      },
      "source": [
        "---\n",
        "---\n",
        "# **Setting the environment for MD calculation**\n",
        "\n",
        "Firstly, we need to install all necessary libraries and packages for our simulation. The main packages we will be installing are:\n",
        "\n",
        "1.    Anaconda (https://docs.conda.io/en/latest/miniconda.html)\n",
        "2.    OpenMM (https://openmm.org/)\n",
        "3.    PyTraj (https://amber-md.github.io/pytraj/latest/index.html)\n",
        "4.    py3Dmol (https://pypi.org/project/py3Dmol/)\n",
        "5.    Numpy (https://numpy.org/)\n",
        "6.    Matplotlib (https://matplotlib.org/)\n",
        "7.    AmberTools (https://ambermd.org/AmberTools.php)"
      ]
    },
    {
      "cell_type": "code",
      "metadata": {
        "id": "wH1oMiVUlxO_",
        "colab": {
          "base_uri": "https://localhost:8080/"
        },
        "outputId": "7c9efa3b-ceb7-4a42-8f85-dc19737a56ff"
      },
      "source": [
        "# install dependencies\n",
        "!pip -q install py3Dmol 2>&1 1>/dev/null\n",
        "!pip install --upgrade MDAnalysis 2>&1 1>/dev/null\n",
        "!pip install biopandas 2>&1 1>/dev/null\n",
        "# install conda\n",
        "!wget -qnc https://repo.anaconda.com/miniconda/Miniconda3-latest-Linux-x86_64.sh \n",
        "!bash Miniconda3-latest-Linux-x86_64.sh -bfp /usr/local 2>&1 1>/dev/null\n",
        "!rm Miniconda3-latest-Linux-x86_64.sh\n",
        "!conda install -y -q -c conda-forge openmm=7.6 python=3.7 pdbfixer 2>&1 1>/dev/null\n",
        "!conda install -c conda-forge ambertools --yes 2>&1 1>/dev/null\n",
        "!conda install -c ambermd pytraj  --yes 2>&1 1>/dev/null\n"
      ],
      "execution_count": 1,
      "outputs": [
        {
          "output_type": "stream",
          "name": "stdout",
          "text": []
        }
      ]
    },
    {
      "cell_type": "code",
      "source": [
        "#load dependencies\n",
        "import sys\n",
        "sys.path.append('/usr/local/lib/python3.7/site-packages/')"
      ],
      "metadata": {
        "id": "m8veka9eL2S3"
      },
      "execution_count": 3,
      "outputs": []
    },
    {
      "cell_type": "code",
      "source": [
        "from openmm import *"
      ],
      "metadata": {
        "id": "lL4WKIi7iR9K"
      },
      "execution_count": 5,
      "outputs": []
    },
    {
      "cell_type": "code",
      "source": [
        "from openmm.app import *"
      ],
      "metadata": {
        "id": "rmM5trmoiu76"
      },
      "execution_count": 6,
      "outputs": []
    },
    {
      "cell_type": "code",
      "source": [
        "from openmm.unit import *"
      ],
      "metadata": {
        "id": "Sl8V9wxKixsA"
      },
      "execution_count": 8,
      "outputs": []
    },
    {
      "cell_type": "code",
      "source": [
        "from __future__ import print_function"
      ],
      "metadata": {
        "id": "mThZaUj3i-We"
      },
      "execution_count": 10,
      "outputs": []
    },
    {
      "cell_type": "code",
      "source": [
        "from biopandas.pdb import PandasPdb\n",
        "import openmm as mm\n",
        "import os\n",
        "import urllib.request  \n",
        "import numpy as np\n",
        "import MDAnalysis as mda\n",
        "import py3Dmol\n",
        "import pytraj as pt\n",
        "import platform\n",
        "import scipy.cluster.hierarchy\n",
        "from scipy.spatial.distance import squareform\n",
        "import scipy.stats as stats\n",
        "import matplotlib.pyplot as plt\n",
        "import pandas as pd\n",
        "from scipy.interpolate import griddata\n",
        "import seaborn as sb\n",
        "from statistics import mean, stdev\n",
        "from pytraj import matrix\n",
        "from matplotlib import colors\n",
        "from IPython.display import set_matplotlib_formats\n",
        "#%matplotlib inline\n",
        "#set_matplotlib_formats('png')\n",
        "#plt.figure(figsize=(5,7))"
      ],
      "metadata": {
        "id": "T-8otlM1i2Kh"
      },
      "execution_count": 11,
      "outputs": []
    },
    {
      "cell_type": "markdown",
      "metadata": {
        "id": "fDQnAKJLFxtt"
      },
      "source": [
        "## Using Google Drive to store simulation data\n",
        "\n",
        "Google Colab does not allow users to keep data on their computing nodes. However, we can use Google Drive to read, write, and store our simulations files. Therefore, we suggest to you to:\n",
        "\n",
        "1.   Create a folder in your own Google Drive and copy the necessary input files there.\n",
        "2.   Copy the path of your created directory. We will use it below."
      ]
    },
    {
      "cell_type": "code",
      "metadata": {
        "id": "Lm7Akepv_vl-",
        "colab": {
          "base_uri": "https://localhost:8080/",
          "height": 364
        },
        "outputId": "dc5a4432-8e2d-4183-e7f8-1ccff6553fb5"
      },
      "source": [
        "#@title ### **Import Google Drive**\n",
        "#@markdown Click in the \"Run\" buttom to make your Google Drive accessible.\n",
        "from google.colab import drive\n",
        "\n",
        "drive.flush_and_unmount()\n",
        "drive.mount('/content/drive', force_remount=True)"
      ],
      "execution_count": 12,
      "outputs": [
        {
          "output_type": "stream",
          "name": "stdout",
          "text": [
            "Drive not mounted, so nothing to flush and unmount.\n"
          ]
        },
        {
          "output_type": "error",
          "ename": "MessageError",
          "evalue": "ignored",
          "traceback": [
            "\u001b[0;31m---------------------------------------------------------------------------\u001b[0m",
            "\u001b[0;31mMessageError\u001b[0m                              Traceback (most recent call last)",
            "\u001b[0;32m<ipython-input-12-a15bcdaf7808>\u001b[0m in \u001b[0;36m<module>\u001b[0;34m\u001b[0m\n\u001b[1;32m      4\u001b[0m \u001b[0;34m\u001b[0m\u001b[0m\n\u001b[1;32m      5\u001b[0m \u001b[0mdrive\u001b[0m\u001b[0;34m.\u001b[0m\u001b[0mflush_and_unmount\u001b[0m\u001b[0;34m(\u001b[0m\u001b[0;34m)\u001b[0m\u001b[0;34m\u001b[0m\u001b[0;34m\u001b[0m\u001b[0m\n\u001b[0;32m----> 6\u001b[0;31m \u001b[0mdrive\u001b[0m\u001b[0;34m.\u001b[0m\u001b[0mmount\u001b[0m\u001b[0;34m(\u001b[0m\u001b[0;34m'/content/drive'\u001b[0m\u001b[0;34m,\u001b[0m \u001b[0mforce_remount\u001b[0m\u001b[0;34m=\u001b[0m\u001b[0;32mTrue\u001b[0m\u001b[0;34m)\u001b[0m\u001b[0;34m\u001b[0m\u001b[0;34m\u001b[0m\u001b[0m\n\u001b[0m",
            "\u001b[0;32m/usr/local/lib/python3.7/dist-packages/google/colab/drive.py\u001b[0m in \u001b[0;36mmount\u001b[0;34m(mountpoint, force_remount, timeout_ms, readonly)\u001b[0m\n\u001b[1;32m    104\u001b[0m       \u001b[0mtimeout_ms\u001b[0m\u001b[0;34m=\u001b[0m\u001b[0mtimeout_ms\u001b[0m\u001b[0;34m,\u001b[0m\u001b[0;34m\u001b[0m\u001b[0;34m\u001b[0m\u001b[0m\n\u001b[1;32m    105\u001b[0m       \u001b[0mephemeral\u001b[0m\u001b[0;34m=\u001b[0m\u001b[0;32mTrue\u001b[0m\u001b[0;34m,\u001b[0m\u001b[0;34m\u001b[0m\u001b[0;34m\u001b[0m\u001b[0m\n\u001b[0;32m--> 106\u001b[0;31m       readonly=readonly)\n\u001b[0m\u001b[1;32m    107\u001b[0m \u001b[0;34m\u001b[0m\u001b[0m\n\u001b[1;32m    108\u001b[0m \u001b[0;34m\u001b[0m\u001b[0m\n",
            "\u001b[0;32m/usr/local/lib/python3.7/dist-packages/google/colab/drive.py\u001b[0m in \u001b[0;36m_mount\u001b[0;34m(mountpoint, force_remount, timeout_ms, ephemeral, readonly)\u001b[0m\n\u001b[1;32m    123\u001b[0m   \u001b[0;32mif\u001b[0m \u001b[0mephemeral\u001b[0m\u001b[0;34m:\u001b[0m\u001b[0;34m\u001b[0m\u001b[0;34m\u001b[0m\u001b[0m\n\u001b[1;32m    124\u001b[0m     _message.blocking_request(\n\u001b[0;32m--> 125\u001b[0;31m         'request_auth', request={'authType': 'dfs_ephemeral'}, timeout_sec=None)\n\u001b[0m\u001b[1;32m    126\u001b[0m \u001b[0;34m\u001b[0m\u001b[0m\n\u001b[1;32m    127\u001b[0m   \u001b[0mmountpoint\u001b[0m \u001b[0;34m=\u001b[0m \u001b[0m_os\u001b[0m\u001b[0;34m.\u001b[0m\u001b[0mpath\u001b[0m\u001b[0;34m.\u001b[0m\u001b[0mexpanduser\u001b[0m\u001b[0;34m(\u001b[0m\u001b[0mmountpoint\u001b[0m\u001b[0;34m)\u001b[0m\u001b[0;34m\u001b[0m\u001b[0;34m\u001b[0m\u001b[0m\n",
            "\u001b[0;32m/usr/local/lib/python3.7/dist-packages/google/colab/_message.py\u001b[0m in \u001b[0;36mblocking_request\u001b[0;34m(request_type, request, timeout_sec, parent)\u001b[0m\n\u001b[1;32m    169\u001b[0m   request_id = send_request(\n\u001b[1;32m    170\u001b[0m       request_type, request, parent=parent, expect_reply=True)\n\u001b[0;32m--> 171\u001b[0;31m   \u001b[0;32mreturn\u001b[0m \u001b[0mread_reply_from_input\u001b[0m\u001b[0;34m(\u001b[0m\u001b[0mrequest_id\u001b[0m\u001b[0;34m,\u001b[0m \u001b[0mtimeout_sec\u001b[0m\u001b[0;34m)\u001b[0m\u001b[0;34m\u001b[0m\u001b[0;34m\u001b[0m\u001b[0m\n\u001b[0m",
            "\u001b[0;32m/usr/local/lib/python3.7/dist-packages/google/colab/_message.py\u001b[0m in \u001b[0;36mread_reply_from_input\u001b[0;34m(message_id, timeout_sec)\u001b[0m\n\u001b[1;32m    100\u001b[0m         reply.get('colab_msg_id') == message_id):\n\u001b[1;32m    101\u001b[0m       \u001b[0;32mif\u001b[0m \u001b[0;34m'error'\u001b[0m \u001b[0;32min\u001b[0m \u001b[0mreply\u001b[0m\u001b[0;34m:\u001b[0m\u001b[0;34m\u001b[0m\u001b[0;34m\u001b[0m\u001b[0m\n\u001b[0;32m--> 102\u001b[0;31m         \u001b[0;32mraise\u001b[0m \u001b[0mMessageError\u001b[0m\u001b[0;34m(\u001b[0m\u001b[0mreply\u001b[0m\u001b[0;34m[\u001b[0m\u001b[0;34m'error'\u001b[0m\u001b[0;34m]\u001b[0m\u001b[0;34m)\u001b[0m\u001b[0;34m\u001b[0m\u001b[0;34m\u001b[0m\u001b[0m\n\u001b[0m\u001b[1;32m    103\u001b[0m       \u001b[0;32mreturn\u001b[0m \u001b[0mreply\u001b[0m\u001b[0;34m.\u001b[0m\u001b[0mget\u001b[0m\u001b[0;34m(\u001b[0m\u001b[0;34m'data'\u001b[0m\u001b[0;34m,\u001b[0m \u001b[0;32mNone\u001b[0m\u001b[0;34m)\u001b[0m\u001b[0;34m\u001b[0m\u001b[0;34m\u001b[0m\u001b[0m\n\u001b[1;32m    104\u001b[0m \u001b[0;34m\u001b[0m\u001b[0m\n",
            "\u001b[0;31mMessageError\u001b[0m: Error: credential propagation was unsuccessful"
          ]
        }
      ]
    },
    {
      "cell_type": "code",
      "metadata": {
        "id": "lOKg9eH_ueRn",
        "colab": {
          "base_uri": "https://localhost:8080/"
        },
        "outputId": "12426d86-5011-4cd9-92dd-eadceded207a"
      },
      "source": [
        "#@title **Check if you correctly allocated GPU nodes**\n",
        "\n",
        "gpu_info = !nvidia-smi\n",
        "gpu_info = '\\n'.join(gpu_info)\n",
        "if gpu_info.find('failed') >= 0:\n",
        "  print('Select the Runtime > \"Change runtime type\" menu to enable a GPU accelerator, ')\n",
        "  print('and then re-execute this cell.')\n",
        "else:\n",
        "  print(gpu_info)"
      ],
      "execution_count": null,
      "outputs": [
        {
          "output_type": "stream",
          "name": "stdout",
          "text": [
            "Tue Nov 30 22:01:10 2021       \n",
            "+-----------------------------------------------------------------------------+\n",
            "| NVIDIA-SMI 495.44       Driver Version: 460.32.03    CUDA Version: 11.2     |\n",
            "|-------------------------------+----------------------+----------------------+\n",
            "| GPU  Name        Persistence-M| Bus-Id        Disp.A | Volatile Uncorr. ECC |\n",
            "| Fan  Temp  Perf  Pwr:Usage/Cap|         Memory-Usage | GPU-Util  Compute M. |\n",
            "|                               |                      |               MIG M. |\n",
            "|===============================+======================+======================|\n",
            "|   0  Tesla K80           Off  | 00000000:00:04.0 Off |                    0 |\n",
            "| N/A   73C    P8    33W / 149W |      3MiB / 11441MiB |      0%      Default |\n",
            "|                               |                      |                  N/A |\n",
            "+-------------------------------+----------------------+----------------------+\n",
            "                                                                               \n",
            "+-----------------------------------------------------------------------------+\n",
            "| Processes:                                                                  |\n",
            "|  GPU   GI   CI        PID   Type   Process name                  GPU Memory |\n",
            "|        ID   ID                                                   Usage      |\n",
            "|=============================================================================|\n",
            "|  No running processes found                                                 |\n",
            "+-----------------------------------------------------------------------------+\n"
          ]
        }
      ]
    },
    {
      "cell_type": "code",
      "metadata": {
        "colab": {
          "base_uri": "https://localhost:8080/"
        },
        "id": "eLX8IGZO7MIg",
        "outputId": "a08b83ab-7682-4f2d-f893-e8c63fa503dd"
      },
      "source": [
        "from simtk import unit\n",
        "from openmm import app\n",
        "\n",
        "#Lets Load in our Butane Molecule and Force Field from Our Google Drive\n",
        "PDB_file_name = 'butane.pdb'\n",
        "forcefield_file_name = 'butane.gaff2.xml' \n",
        "Google_Drive_Path = '/content/drive/MyDrive/CHEM101.6/Butane' #@param {type:\"string\"}\n",
        "workDir = Google_Drive_Path\n",
        "initial_pdb = os.path.join(workDir, str(PDB_file_name))\n",
        "force_field = os.path.join(workDir,str(forcefield_file_name))\n",
        "print(initial_pdb)\n",
        "print(force_field )\n",
        "\n",
        "pdb = mm.app.PDBFile(initial_pdb)\n",
        "forcefield = mm.app.ForceField(force_field)\n",
        "\n",
        "\n",
        "system = forcefield.createSystem(pdb.topology, nonbondedMethod=mm.app.NoCutoff, constraints=mm.app.HBonds)\n",
        "integrator = mm.LangevinIntegrator(298.15*unit.kelvin, 5.0/unit.picoseconds, 2.0*unit.femtoseconds)\n",
        "integrator.setConstraintTolerance(1e-5)\n",
        "\n",
        "platform = mm.Platform.getPlatformByName('Reference')\n",
        "simulation = app.Simulation(pdb.topology, system, integrator, platform)\n",
        "simulation.context.setPositions(pdb.positions)"
      ],
      "execution_count": null,
      "outputs": [
        {
          "output_type": "stream",
          "name": "stdout",
          "text": [
            "/content/drive/MyDrive/CHEM101.6/Butane/butane.pdb\n",
            "/content/drive/MyDrive/CHEM101.6/Butane/butane.gaff2.xml\n"
          ]
        }
      ]
    },
    {
      "cell_type": "code",
      "metadata": {
        "colab": {
          "base_uri": "https://localhost:8080/"
        },
        "id": "OA1RPmp18Ocw",
        "outputId": "46e7cf7f-d554-4ac3-f305-75dcc3899226"
      },
      "source": [
        "integrator = mm.LangevinIntegrator(298.15*unit.kelvin, 5.0/unit.picoseconds, 2.0*unit.femtoseconds)\n",
        "integrator.setConstraintTolerance(1e-5)\n",
        "\n",
        "print('Minimizing...')\n",
        "\n",
        "st = simulation.context.getState(getPositions=True,getEnergy=True)\n",
        "print(F\"Potential energy before minimization is {st.getPotentialEnergy()}\")\n",
        "\n",
        "simulation.minimizeEnergy(maxIterations=100)\n",
        "\n",
        "st = simulation.context.getState(getPositions=True,getEnergy=True)\n",
        "print(F\"Potential energy after minimization is {st.getPotentialEnergy()}\")"
      ],
      "execution_count": null,
      "outputs": [
        {
          "output_type": "stream",
          "name": "stdout",
          "text": [
            "Minimizing...\n",
            "Potential energy before minimization is 5.295784483017471 kJ/mol\n",
            "Potential energy after minimization is 5.295543508947829 kJ/mol\n"
          ]
        }
      ]
    },
    {
      "cell_type": "code",
      "metadata": {
        "colab": {
          "base_uri": "https://localhost:8080/"
        },
        "id": "hxKf7uhQ-kBZ",
        "outputId": "0b00624d-0011-4fce-d0c0-3dc2b4c160e0"
      },
      "source": [
        "from sys import stdout\n",
        "\n",
        "print('Equilibrating...')\n",
        "\n",
        "simulation.reporters.append(app.StateDataReporter(stdout, 100, step=True, \n",
        "    potentialEnergy=True, temperature=True, separator=','))\n",
        "simulation.context.setVelocitiesToTemperature(150.0*unit.kelvin)\n",
        "simulation.step(2500)"
      ],
      "execution_count": null,
      "outputs": [
        {
          "output_type": "stream",
          "name": "stdout",
          "text": [
            "Equilibrating...\n",
            "#\"Step\",\"Potential Energy (kJ/mole)\",\"Temperature (K)\"\n",
            "100,30.141760285407493,262.9486052648526\n",
            "200,33.8926801562416,348.09445655702\n",
            "300,55.994071653301404,366.0136405419244\n",
            "400,54.24842375179601,289.0307002468811\n",
            "500,45.2128663417995,365.3051316316242\n",
            "600,35.19999667321129,233.8858661398986\n",
            "700,26.67592490128446,340.5430402157909\n",
            "800,34.784536338777116,252.83953584933127\n",
            "900,30.047732377737628,173.8565592390809\n",
            "1000,30.07483289279336,153.08152399988532\n",
            "1100,26.858483853709018,254.63734211014173\n",
            "1200,27.910438613634035,352.15652735892314\n",
            "1300,47.71719988112596,171.70074006044825\n",
            "1400,39.81715231859009,329.2049804597984\n",
            "1500,45.99278999223017,273.9888698425713\n",
            "1600,25.956957762751934,321.19901601528915\n",
            "1700,32.68588828305849,268.7648764009242\n",
            "1800,34.12331521932133,389.27416786415273\n",
            "1900,31.00992473575137,271.2848279052134\n",
            "2000,27.340059260451387,310.7694303574131\n",
            "2100,40.6453010605359,336.72624429166484\n",
            "2200,40.39859482956306,289.1053896058646\n",
            "2300,31.508056076957637,208.38982739362834\n",
            "2400,25.859843933780933,175.04814319412694\n",
            "2500,44.02807185864983,406.68453580611697\n"
          ]
        }
      ]
    },
    {
      "cell_type": "code",
      "metadata": {
        "colab": {
          "base_uri": "https://localhost:8080/"
        },
        "id": "G70V9fa6-s65",
        "outputId": "0de4dbcc-cc88-4f5b-85c9-ece460490695"
      },
      "source": [
        "import time as time\n",
        "\n",
        "print('Running Production...')\n",
        "\n",
        "# Begin timer\n",
        "tinit=time.time()\n",
        "\n",
        "# Clear simulation reporters\n",
        "simulation.reporters.clear()\n",
        "\n",
        "# Reinitialize simulation reporters. We do this because we want different information printed from the production run than the equilibration run.\n",
        "# output basic simulation information below every 250000 steps - (which is equal to 2 fs(250,000) = 500,000 fs = 500 ps)\n",
        "simulation.reporters.append(app.StateDataReporter(stdout, 250000, \n",
        "    step=True, time=True, potentialEnergy=True, temperature=True, \n",
        "    speed=True, separator=','))\n",
        "\n",
        "# write out a trajectory (i.e., coordinates vs. time) to a DCD\n",
        "# file every 100 steps - 0.2 ps\n",
        "simulation.reporters.append(app.DCDReporter('ethane_sim.dcd', 100))\n",
        "\n",
        "# run the simulation for 1.0x10^7 steps - 20 ns\n",
        "simulation.step(10000000)\n",
        "\n",
        "# End timer\n",
        "tfinal=time.time()\n",
        "print('Done!')\n",
        "print('Time required for simulation:', tfinal-tinit, 'seconds')"
      ],
      "execution_count": null,
      "outputs": [
        {
          "output_type": "stream",
          "name": "stdout",
          "text": [
            "Running Production...\n",
            "#\"Step\",\"Time (ps)\",\"Potential Energy (kJ/mole)\",\"Temperature (K)\",\"Speed (ns/day)\"\n",
            "250000,500.0000000016593,39.511268730648524,317.384018666217,0\n",
            "500000,999.9999999901769,29.694501452629122,275.92529600473466,1.22e+04\n",
            "750000,1499.9999999783536,44.28588525491841,350.07384580167127,1.21e+04\n",
            "1000000,1999.9999999665301,37.28139867077346,287.0072359586417,1.21e+04\n",
            "1250000,2499.9999999547067,44.30333309964481,530.6915535111848,1.2e+04\n",
            "1500000,2999.9999999428833,32.833865583669855,338.00543482360206,1.2e+04\n",
            "1750000,3499.99999993106,47.87336295615768,347.88334359928496,1.2e+04\n",
            "2000000,3999.9999999192364,47.76379073855511,299.2020084130648,1.2e+04\n",
            "2250000,4499.9999999992715,62.58231665991362,309.9144192727793,1.2e+04\n",
            "2500000,5000.000000101135,34.40396058013606,232.95465784728395,1.2e+04\n",
            "2750000,5500.000000202998,45.63810515555039,272.25260931691014,1.2e+04\n",
            "3000000,6000.000000304862,58.92993416468104,256.1436970220182,1.2e+04\n",
            "3250000,6500.000000406725,37.18736517107332,263.9358733135043,1.2e+04\n",
            "3500000,7000.0000005085885,35.927428762263986,525.9283456407989,1.2e+04\n",
            "3750000,7500.000000610452,50.64049196271137,263.0855170897695,1.19e+04\n",
            "4000000,8000.000000712315,38.056630578583295,447.2626913344051,1.19e+04\n",
            "4250000,8500.000000814178,26.28559218882462,276.30382589718107,1.19e+04\n",
            "4500000,9000.000000916041,52.02549550776459,402.3575886861548,1.19e+04\n",
            "4750000,9500.000001017905,49.6451021308591,241.4691124864579,1.19e+04\n",
            "5000000,10000.000001119768,31.285826742062497,329.39007865550985,1.19e+04\n",
            "5250000,10500.000001221631,37.99043015334174,361.050372321356,1.19e+04\n",
            "5500000,11000.000001323495,41.06043803029211,325.5563434699779,1.19e+04\n",
            "5750000,11500.000001425358,51.63448698699891,259.9013847305428,1.19e+04\n",
            "6000000,12000.000001527222,41.75695453500834,209.81914838646946,1.19e+04\n",
            "6250000,12500.000001629085,57.70668957988845,392.73703806062,1.19e+04\n",
            "6500000,13000.000001730948,58.55277415493524,329.35516406886194,1.19e+04\n",
            "6750000,13500.000001832812,50.76141058526323,253.68499822405087,1.19e+04\n",
            "7000000,14000.000001934675,41.03491018931456,379.40491644759436,1.19e+04\n",
            "7250000,14500.000002036539,27.330402004243417,294.47729852710637,1.19e+04\n",
            "7500000,15000.000002138402,60.405396702603966,327.0692377311667,1.19e+04\n",
            "7750000,15500.000002240266,50.203611313443766,349.9703238930527,1.19e+04\n",
            "8000000,16000.000002342129,24.708825108544104,238.30986903077533,1.19e+04\n",
            "8250000,16500.00000244399,36.70353298464422,201.96461576184961,1.19e+04\n",
            "8500000,17000.000002545854,29.58115404180868,324.9613078703551,1.19e+04\n",
            "8750000,17500.000002647717,33.6462584912426,206.14652873908392,1.19e+04\n",
            "9000000,18000.00000274958,29.273559785829068,269.3325550328233,1.19e+04\n",
            "9250000,18500.000002851444,45.33114508090459,381.21263775821245,1.19e+04\n",
            "9500000,19000.000002953308,52.11648890617858,400.3599203471326,1.19e+04\n",
            "9750000,19500.00000305517,60.524260858426096,310.184829471833,1.19e+04\n",
            "10000000,20000.000003157034,67.67872985302998,266.39756549713763,1.19e+04\n",
            "Done!\n",
            "Time required for simulation: 144.80857491493225 seconds\n"
          ]
        }
      ]
    },
    {
      "cell_type": "code",
      "metadata": {
        "colab": {
          "base_uri": "https://localhost:8080/"
        },
        "id": "01YETJ-X--5U",
        "outputId": "bb068a12-466d-49f0-9797-5045d3faa08f"
      },
      "source": [
        "!pip install nglview 2>&1 1>/dev/null\n",
        "!conda install -c conda-forge mdtraj  --yes 2>&1 1>/dev/null"
      ],
      "execution_count": null,
      "outputs": [
        {
          "output_type": "stream",
          "name": "stdout",
          "text": [
            "\u001b[33mWARNING: Running pip as the 'root' user can result in broken permissions and conflicting behaviour with the system package manager. It is recommended to use a virtual environment instead: https://pip.pypa.io/warnings/venv\u001b[0m\n"
          ]
        }
      ]
    },
    {
      "cell_type": "code",
      "metadata": {
        "colab": {
          "base_uri": "https://localhost:8080/"
        },
        "id": "S7txpJFO_xSQ",
        "outputId": "f3e63f04-67ee-44cc-feb7-7f629c591847"
      },
      "source": [
        "import mdtraj as md\n",
        "traj = md.load('ethane_sim.dcd', top=initial_pdb)\n"
      ],
      "execution_count": null,
      "outputs": [
        {
          "output_type": "execute_result",
          "data": {
            "text/plain": [
              "<mdtraj.Trajectory with 100000 frames, 14 atoms, 1 residues, without unitcells at 0x7fea7880b8d0>"
            ]
          },
          "metadata": {},
          "execution_count": 55
        }
      ]
    },
    {
      "cell_type": "code",
      "metadata": {
        "colab": {
          "base_uri": "https://localhost:8080/",
          "height": 317,
          "referenced_widgets": [
            "2f87206d8a7240a8bc28bedb46ffe524",
            "1dbca630db2543ff9784f6f91f80e2cd",
            "8fe24a18868c438187dc53ef24ac0c47",
            "ca93df9ece0849f6a858e1ef75387970",
            "f79b90fb27da4c9eb6ce6b8b06c52e46",
            "c344760dfaf34cb3afd6b03ec8b8eead",
            "a172355f75e24fc4a2b371239faf6134",
            "f41de2ecc4304f09b4d7af6df86ef396",
            "da6f7c12f92a46b7b3aba04ba25b31e6",
            "c19adbbaed054fd9a630835c7b8c0051",
            "6e59172c44c645e8b11cbdebf38ee024",
            "d0d7174a01664ddc96f282cc68e53ad0",
            "33270d05de3a405c9e1c8f3d97f0e2c7"
          ]
        },
        "id": "o62FhIWVAWAT",
        "outputId": "e50a3f7a-f4ec-46ec-ed9f-e7b27c2f6dfd"
      },
      "source": [
        "import ipywidgets\n",
        "from ipywidgets import interact, fixed\n",
        "import warnings\n",
        "warnings.filterwarnings('ignore')\n",
        "from google.colab import output\n",
        "output.enable_custom_widget_manager()\n",
        "\n",
        "import nglview as ngl\n",
        "\n",
        "visualize = ngl.show_mdtraj(traj)\n",
        "visualize"
      ],
      "execution_count": null,
      "outputs": [
        {
          "output_type": "display_data",
          "data": {
            "application/vnd.jupyter.widget-view+json": {
              "model_id": "2f87206d8a7240a8bc28bedb46ffe524",
              "version_minor": 0,
              "version_major": 2
            },
            "text/plain": [
              "NGLWidget(max_frame=99999)"
            ]
          },
          "metadata": {
            "application/vnd.jupyter.widget-view+json": {
              "colab": {
                "custom_widget_manager": {
                  "url": "https://ssl.gstatic.com/colaboratory-static/widgets/colab-cdn-widget-manager/a8874ba6619b6106/manager.min.js"
                }
              }
            }
          }
        }
      ]
    },
    {
      "cell_type": "code",
      "metadata": {
        "colab": {
          "base_uri": "https://localhost:8080/",
          "height": 483
        },
        "id": "qWG80bj3BE1s",
        "outputId": "f34928bf-3bab-4f3a-9c40-ce3947cba336"
      },
      "source": [
        "atoms, bonds = traj.topology.to_dataframe()\n",
        "atoms"
      ],
      "execution_count": null,
      "outputs": [
        {
          "output_type": "execute_result",
          "data": {
            "text/html": [
              "<div>\n",
              "<style scoped>\n",
              "    .dataframe tbody tr th:only-of-type {\n",
              "        vertical-align: middle;\n",
              "    }\n",
              "\n",
              "    .dataframe tbody tr th {\n",
              "        vertical-align: top;\n",
              "    }\n",
              "\n",
              "    .dataframe thead th {\n",
              "        text-align: right;\n",
              "    }\n",
              "</style>\n",
              "<table border=\"1\" class=\"dataframe\">\n",
              "  <thead>\n",
              "    <tr style=\"text-align: right;\">\n",
              "      <th></th>\n",
              "      <th>serial</th>\n",
              "      <th>name</th>\n",
              "      <th>element</th>\n",
              "      <th>resSeq</th>\n",
              "      <th>resName</th>\n",
              "      <th>chainID</th>\n",
              "      <th>segmentID</th>\n",
              "    </tr>\n",
              "  </thead>\n",
              "  <tbody>\n",
              "    <tr>\n",
              "      <th>0</th>\n",
              "      <td>1</td>\n",
              "      <td>C1</td>\n",
              "      <td>C</td>\n",
              "      <td>1</td>\n",
              "      <td>NBU</td>\n",
              "      <td>0</td>\n",
              "      <td></td>\n",
              "    </tr>\n",
              "    <tr>\n",
              "      <th>1</th>\n",
              "      <td>2</td>\n",
              "      <td>H11</td>\n",
              "      <td>H</td>\n",
              "      <td>1</td>\n",
              "      <td>NBU</td>\n",
              "      <td>0</td>\n",
              "      <td></td>\n",
              "    </tr>\n",
              "    <tr>\n",
              "      <th>2</th>\n",
              "      <td>3</td>\n",
              "      <td>H12</td>\n",
              "      <td>H</td>\n",
              "      <td>1</td>\n",
              "      <td>NBU</td>\n",
              "      <td>0</td>\n",
              "      <td></td>\n",
              "    </tr>\n",
              "    <tr>\n",
              "      <th>3</th>\n",
              "      <td>4</td>\n",
              "      <td>H13</td>\n",
              "      <td>H</td>\n",
              "      <td>1</td>\n",
              "      <td>NBU</td>\n",
              "      <td>0</td>\n",
              "      <td></td>\n",
              "    </tr>\n",
              "    <tr>\n",
              "      <th>4</th>\n",
              "      <td>5</td>\n",
              "      <td>C2</td>\n",
              "      <td>C</td>\n",
              "      <td>1</td>\n",
              "      <td>NBU</td>\n",
              "      <td>0</td>\n",
              "      <td></td>\n",
              "    </tr>\n",
              "    <tr>\n",
              "      <th>5</th>\n",
              "      <td>6</td>\n",
              "      <td>H21</td>\n",
              "      <td>H</td>\n",
              "      <td>1</td>\n",
              "      <td>NBU</td>\n",
              "      <td>0</td>\n",
              "      <td></td>\n",
              "    </tr>\n",
              "    <tr>\n",
              "      <th>6</th>\n",
              "      <td>7</td>\n",
              "      <td>H22</td>\n",
              "      <td>H</td>\n",
              "      <td>1</td>\n",
              "      <td>NBU</td>\n",
              "      <td>0</td>\n",
              "      <td></td>\n",
              "    </tr>\n",
              "    <tr>\n",
              "      <th>7</th>\n",
              "      <td>8</td>\n",
              "      <td>C3</td>\n",
              "      <td>C</td>\n",
              "      <td>1</td>\n",
              "      <td>NBU</td>\n",
              "      <td>0</td>\n",
              "      <td></td>\n",
              "    </tr>\n",
              "    <tr>\n",
              "      <th>8</th>\n",
              "      <td>9</td>\n",
              "      <td>H31</td>\n",
              "      <td>H</td>\n",
              "      <td>1</td>\n",
              "      <td>NBU</td>\n",
              "      <td>0</td>\n",
              "      <td></td>\n",
              "    </tr>\n",
              "    <tr>\n",
              "      <th>9</th>\n",
              "      <td>10</td>\n",
              "      <td>H32</td>\n",
              "      <td>H</td>\n",
              "      <td>1</td>\n",
              "      <td>NBU</td>\n",
              "      <td>0</td>\n",
              "      <td></td>\n",
              "    </tr>\n",
              "    <tr>\n",
              "      <th>10</th>\n",
              "      <td>11</td>\n",
              "      <td>C4</td>\n",
              "      <td>C</td>\n",
              "      <td>1</td>\n",
              "      <td>NBU</td>\n",
              "      <td>0</td>\n",
              "      <td></td>\n",
              "    </tr>\n",
              "    <tr>\n",
              "      <th>11</th>\n",
              "      <td>12</td>\n",
              "      <td>H41</td>\n",
              "      <td>H</td>\n",
              "      <td>1</td>\n",
              "      <td>NBU</td>\n",
              "      <td>0</td>\n",
              "      <td></td>\n",
              "    </tr>\n",
              "    <tr>\n",
              "      <th>12</th>\n",
              "      <td>13</td>\n",
              "      <td>H42</td>\n",
              "      <td>H</td>\n",
              "      <td>1</td>\n",
              "      <td>NBU</td>\n",
              "      <td>0</td>\n",
              "      <td></td>\n",
              "    </tr>\n",
              "    <tr>\n",
              "      <th>13</th>\n",
              "      <td>14</td>\n",
              "      <td>H43</td>\n",
              "      <td>H</td>\n",
              "      <td>1</td>\n",
              "      <td>NBU</td>\n",
              "      <td>0</td>\n",
              "      <td></td>\n",
              "    </tr>\n",
              "  </tbody>\n",
              "</table>\n",
              "</div>"
            ],
            "text/plain": [
              "    serial name element  resSeq resName  chainID segmentID\n",
              "0        1   C1       C       1     NBU        0          \n",
              "1        2  H11       H       1     NBU        0          \n",
              "2        3  H12       H       1     NBU        0          \n",
              "3        4  H13       H       1     NBU        0          \n",
              "4        5   C2       C       1     NBU        0          \n",
              "5        6  H21       H       1     NBU        0          \n",
              "6        7  H22       H       1     NBU        0          \n",
              "7        8   C3       C       1     NBU        0          \n",
              "8        9  H31       H       1     NBU        0          \n",
              "9       10  H32       H       1     NBU        0          \n",
              "10      11   C4       C       1     NBU        0          \n",
              "11      12  H41       H       1     NBU        0          \n",
              "12      13  H42       H       1     NBU        0          \n",
              "13      14  H43       H       1     NBU        0          "
            ]
          },
          "metadata": {},
          "execution_count": 59
        }
      ]
    },
    {
      "cell_type": "code",
      "metadata": {
        "colab": {
          "base_uri": "https://localhost:8080/",
          "height": 295
        },
        "id": "8IkYIlYkBLeP",
        "outputId": "26651f37-e370-4133-86c3-056ca61800bc"
      },
      "source": [
        "bond_indices = [4, 7] # atoms to define the bond length\n",
        "bond_length = md.compute_distances(traj, [bond_indices])\n",
        "\n",
        "bondcounts, binedges, otherstuff = plt.hist(bond_length, bins=120)\n",
        "plt.title('C-C bond length histogram')\n",
        "plt.xlabel('Bond length (nm)')\n",
        "plt.ylabel('Counts')\n",
        "plt.show()"
      ],
      "execution_count": null,
      "outputs": [
        {
          "output_type": "display_data",
          "data": {
            "image/png": "[encoded data removed]",
            "text/plain": [
              "<Figure size 432x288 with 1 Axes>"
            ]
          },
          "metadata": {
            "needs_background": "light"
          }
        }
      ]
    },
    {
      "cell_type": "code",
      "metadata": {
        "colab": {
          "base_uri": "https://localhost:8080/",
          "height": 295
        },
        "id": "o2fyETQ3DNcJ",
        "outputId": "ea55283f-952c-4101-a6cd-96487d99a91c"
      },
      "source": [
        "kB = 8.31446/1000 # Boltzmann constant in kJ/mol\n",
        "Temp = 298.15 # simulation temperature\n",
        "bondcounts[bondcounts==0] = 0.1 # get rid of any bins with 0 counts/infinite energy\n",
        "pmf = -kB*Temp*np.log(bondcounts) # W(x) = -kT*ln[p(x)] = -kT*ln[n(x)] + C\n",
        "pmf = pmf - np.min(pmf) # subtract off minimum value so that energies start from 0\n",
        "\n",
        "bincenters = (binedges[1:] + binedges[:-1])/2 # compute centers of histogram bins\n",
        "\n",
        "plt.plot(bincenters, pmf)\n",
        "plt.xlabel('Bond length (nm)')\n",
        "plt.ylabel('Relative free energy (kJ/mol)')\n",
        "plt.title('C-C bond length pmf')\n",
        "plt.show()"
      ],
      "execution_count": null,
      "outputs": [
        {
          "output_type": "display_data",
          "data": {
            "image/png": "[encoded data removed]",
            "text/plain": [
              "<Figure size 432x288 with 1 Axes>"
            ]
          },
          "metadata": {
            "needs_background": "light"
          }
        }
      ]
    },
    {
      "cell_type": "code",
      "metadata": {
        "colab": {
          "base_uri": "https://localhost:8080/",
          "height": 295
        },
        "id": "ukZa6k5uChho",
        "outputId": "691cefdf-1458-49ae-e5eb-d42a0bff2cdd"
      },
      "source": [
        "bond_indices = [4, 5] # many possibilities!\n",
        "bondlength = md.compute_distances(traj, [bond_indices])\n",
        "\n",
        "lengthcounts, binedges, otherstuff = plt.hist(bondlength, bins=100)\n",
        "plt.title('C-H bond length')\n",
        "plt.xlabel('Bond length (nm)')\n",
        "plt.ylabel('Counts')\n",
        "plt.show()"
      ],
      "execution_count": null,
      "outputs": [
        {
          "output_type": "display_data",
          "data": {
            "image/png": "[encoded data removed]",
            "text/plain": [
              "<Figure size 432x288 with 1 Axes>"
            ]
          },
          "metadata": {
            "needs_background": "light"
          }
        }
      ]
    },
    {
      "cell_type": "code",
      "metadata": {
        "colab": {
          "base_uri": "https://localhost:8080/",
          "height": 295
        },
        "id": "vHKuVS7ADa8z",
        "outputId": "ad47b4de-75d5-4dee-d8c2-f1a2699eb23f"
      },
      "source": [
        "kB = 8.31446/1000 # Boltzmann constant in kJ/mol\n",
        "Temp = 298.15 # simulation temperature\n",
        "lengthcounts[lengthcounts==0] = 0.1 # get rid of any bins with 0 counts/infinite energy\n",
        "pmf = -kB*Temp*np.log(lengthcounts) # W(x) = -kT*ln[p(x)] = -kT*ln[n(x)] + C\n",
        "pmf = pmf - np.min(pmf) # subtract off minimum value so that energies start from 0\n",
        "\n",
        "bincenters = (binedges[1:] + binedges[:-1])/2 # compute centers of histogram bins\n",
        "\n",
        "plt.plot(bincenters, pmf)\n",
        "plt.xlabel('Bond length (nm)')\n",
        "plt.ylabel('Relative free energy (kJ/mol)')\n",
        "plt.title('C-H bond length pmf')\n",
        "plt.show()"
      ],
      "execution_count": null,
      "outputs": [
        {
          "output_type": "display_data",
          "data": {
            "image/png": "[encoded data removed]",
            "text/plain": [
              "<Figure size 432x288 with 1 Axes>"
            ]
          },
          "metadata": {
            "needs_background": "light"
          }
        }
      ]
    },
    {
      "cell_type": "code",
      "metadata": {
        "colab": {
          "base_uri": "https://localhost:8080/",
          "height": 299
        },
        "id": "T5oNvZGHBfs4",
        "outputId": "f4cd44cb-3bf3-4e29-f9ec-5e543c6a3923"
      },
      "source": [
        "phi_indices = [0, 4, 7, 10] # atoms to define the torsion angle\n",
        "phi = md.compute_dihedrals(traj, [phi_indices])\n",
        "\n",
        "phicounts, binedges, otherstuff = plt.hist(phi, bins=90) # create a histogram with 90 bins\n",
        "plt.title('H-C-C-H torsion angle')\n",
        "plt.xlabel(r'$\\phi$ (rad)')\n",
        "plt.ylabel('Counts')\n",
        "plt.show()"
      ],
      "execution_count": null,
      "outputs": [
        {
          "output_type": "display_data",
          "data": {
            "image/png": "[encoded data removed]",
            "text/plain": [
              "<Figure size 432x288 with 1 Axes>"
            ]
          },
          "metadata": {
            "needs_background": "light"
          }
        }
      ]
    },
    {
      "cell_type": "code",
      "metadata": {
        "colab": {
          "base_uri": "https://localhost:8080/",
          "height": 299
        },
        "id": "XTqsagjkB9XZ",
        "outputId": "f98bc37f-5f93-4f2a-c3bf-cf1209b4281a"
      },
      "source": [
        "kB = 8.31446/1000 # Boltzmann constant in kJ/mol\n",
        "Temp = 298.15 # simulation temperature\n",
        "phicounts[phicounts==0] = 0.1 # get rid of any bins with 0 counts/infinite energy\n",
        "pmf = -kB*Temp*np.log(phicounts) # W(x) = -kT*ln[p(x)] = -kT*ln[n(x)] + C\n",
        "pmf = pmf - np.min(pmf) # subtract off minimum value so that energies start from 0\n",
        "\n",
        "bincenters = (binedges[1:] + binedges[:-1])/2 # compute centers of histogram bins\n",
        "\n",
        "plt.plot(bincenters, pmf)\n",
        "plt.title('H-C-C-H torsion pmf')\n",
        "plt.xlabel(r'$\\phi$ (rad)')\n",
        "plt.ylabel('Relative free energy (kJ/mol)')\n",
        "plt.show()"
      ],
      "execution_count": null,
      "outputs": [
        {
          "output_type": "display_data",
          "data": {
            "image/png": "[encoded data removed]",
            "text/plain": [
              "<Figure size 432x288 with 1 Axes>"
            ]
          },
          "metadata": {
            "needs_background": "light"
          }
        }
      ]
    },
    {
      "cell_type": "code",
      "metadata": {
        "colab": {
          "base_uri": "https://localhost:8080/",
          "height": 295
        },
        "id": "7m47X3aGCHL_",
        "outputId": "b1bac94a-fc45-4a0d-8cc4-e9e94a51c7d5"
      },
      "source": [
        "angle_indices = [0, 4, 7] # or could do [4, 7, 10]\n",
        "bondangle = md.compute_angles(traj, [angle_indices])\n",
        "\n",
        "anglecounts, binedges, otherstuff = plt.hist(bondangle, bins=100)\n",
        "plt.title('C-C-C bond angle')\n",
        "plt.xlabel('Bond angle (rad)')\n",
        "plt.ylabel('Counts')\n",
        "plt.show()"
      ],
      "execution_count": null,
      "outputs": [
        {
          "output_type": "display_data",
          "data": {
            "image/png": "[encoded data removed]",
            "text/plain": [
              "<Figure size 432x288 with 1 Axes>"
            ]
          },
          "metadata": {
            "needs_background": "light"
          }
        }
      ]
    },
    {
      "cell_type": "code",
      "metadata": {
        "colab": {
          "base_uri": "https://localhost:8080/",
          "height": 279
        },
        "id": "HlyahiMcCa3e",
        "outputId": "de006418-a006-4ee3-b8dd-485772df079d"
      },
      "source": [
        "anglecounts[anglecounts==0] = 0.1\n",
        "pmf = -kB*Temp*np.log(anglecounts)\n",
        "pmf = pmf - np.min(pmf)\n",
        "\n",
        "bincenters = (binedges[1:] + binedges[:-1])/2\n",
        "\n",
        "\n",
        "plt.plot(bincenters, pmf)\n",
        "plt.xlabel('Bond angle (rad)')\n",
        "plt.ylabel('Relative free energy (kJ/mol)')\n",
        "plt.show()"
      ],
      "execution_count": null,
      "outputs": [
        {
          "output_type": "display_data",
          "data": {
            "image/png": "[encoded data removed]",
            "text/plain": [
              "<Figure size 432x288 with 1 Axes>"
            ]
          },
          "metadata": {
            "needs_background": "light"
          }
        }
      ]
    },
    {
      "cell_type": "code",
      "metadata": {
        "id": "bu4VSAK2Cf_r"
      },
      "source": [],
      "execution_count": null,
      "outputs": []
    }
  ]
}